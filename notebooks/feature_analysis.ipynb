{
 "cells": [
  {
   "cell_type": "markdown",
   "metadata": {},
   "source": [
    "# Feature analysis\n",
    "\n",
    "- How is my data distributed?\n",
    "- Are there outliers in my data?\n",
    "- Are there missing values?\n",
    "- Do we need to scale the data?\n",
    "\n",
    "In our digit recognition program we only have numerical data. This means we have to:\n",
    "- Look at distribution (describe in pandas)\n",
    "- Spot outliers using min/max\n",
    "- Look at distribution with standard deviation, quartiles and box plot\n",
    "- Find missing values\n",
    "- Plot using scatter plots, histograms\n",
    "\n"
   ]
  },
  {
   "cell_type": "code",
   "execution_count": null,
   "metadata": {},
   "outputs": [],
   "source": []
  }
 ],
 "metadata": {
  "kernelspec": {
   "display_name": "Python 2",
   "language": "python",
   "name": "python2"
  },
  "language_info": {
   "codemirror_mode": {
    "name": "ipython",
    "version": 2
   },
   "file_extension": ".py",
   "mimetype": "text/x-python",
   "name": "python",
   "nbconvert_exporter": "python",
   "pygments_lexer": "ipython2",
   "version": "2.7.12"
  }
 },
 "nbformat": 4,
 "nbformat_minor": 2
}
