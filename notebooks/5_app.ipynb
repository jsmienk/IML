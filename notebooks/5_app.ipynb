{
 "cells": [
  {
   "cell_type": "markdown",
   "metadata": {},
   "source": [
    "# Digit Recognition App\n",
    "\n",
    "To run: Kernel -> Restart & Run All"
   ]
  },
  {
   "cell_type": "code",
   "execution_count": 1,
   "metadata": {},
   "outputs": [],
   "source": [
    "import ipywidgets as w\n",
    "import pandas as pd\n",
    "\n",
    "from SimpleCV import *\n",
    "from ipywidgets import widgets, HBox, VBox\n",
    "from IPython.display import display\n",
    "from sklearn.externals import joblib\n",
    "\n",
    "disp = Display(displaytype='notebook')\n",
    "app = w.Output()\n",
    "\n",
    "FILES = []\n",
    "\n",
    "SIZE = 32 # SINGLE DIGIT IMAGE SIZE\n",
    "COUNT = 8 # GRID SIZE"
   ]
  },
  {
   "cell_type": "markdown",
   "metadata": {},
   "source": [
    "### Importing Normalizer & Classifier\n",
    "\n",
    "We also need the columns the classifier was trained on and the training set was normalized on."
   ]
  },
  {
   "cell_type": "code",
   "execution_count": 2,
   "metadata": {},
   "outputs": [],
   "source": [
    "CLASSIFIER = joblib.load('../classifiers/classifier_svm_v8.joblib')\n",
    "SCALER = joblib.load('../classifiers/scaler_svm_v8.joblib')\n",
    "COLUMNS = [u'area', u'width', u'contours', u'radius', u'circle_dist', u'rect_dist',\n",
    "       u'hull_radius', u'aspect_ratio', u'centroid_x', u'centroid_y',\n",
    "       u'corners', u'circles', u'angle', u'weight_0_0', u'weight_0_1',\n",
    "       u'weight_0_2', u'weight_0_3', u'weight_0_4', u'weight_0_5',\n",
    "       u'weight_0_6', u'weight_0_7', u'weight_1_0', u'weight_1_1',\n",
    "       u'weight_1_2', u'weight_1_3', u'weight_1_4', u'weight_1_5',\n",
    "       u'weight_1_6', u'weight_1_7', u'weight_2_0', u'weight_2_1',\n",
    "       u'weight_2_2', u'weight_2_3', u'weight_2_4', u'weight_2_5',\n",
    "       u'weight_2_6', u'weight_2_7', u'weight_3_0', u'weight_3_1',\n",
    "       u'weight_3_2', u'weight_3_3', u'weight_3_4', u'weight_3_5',\n",
    "       u'weight_3_6', u'weight_3_7', u'weight_4_0', u'weight_4_1',\n",
    "       u'weight_4_2', u'weight_4_3', u'weight_4_4', u'weight_4_5',\n",
    "       u'weight_4_6', u'weight_4_7', u'weight_5_0', u'weight_5_1',\n",
    "       u'weight_5_2', u'weight_5_3', u'weight_5_4', u'weight_5_5',\n",
    "       u'weight_5_6', u'weight_5_7', u'weight_6_0', u'weight_6_1',\n",
    "       u'weight_6_2', u'weight_6_3', u'weight_6_4', u'weight_6_5',\n",
    "       u'weight_6_6', u'weight_6_7', u'weight_7_0', u'weight_7_1',\n",
    "       u'weight_7_2', u'weight_7_3', u'weight_7_4', u'weight_7_5',\n",
    "       u'weight_7_6', u'weight_7_7', u'num_holes']"
   ]
  },
  {
   "cell_type": "markdown",
   "metadata": {},
   "source": [
    "### Image Selection Logic"
   ]
  },
  {
   "cell_type": "code",
   "execution_count": 3,
   "metadata": {},
   "outputs": [],
   "source": [
    "def on_path_select(b):\n",
    "    global FILES\n",
    "    FILES = sorted(glob.glob(os.path.join(input_path.value, \"*.png\")))\n",
    "    dropdown_image.options = FILES\n",
    "\n",
    "def on_image_select(b):\n",
    "    global postal_code_images\n",
    "    file_name = dropdown_image.value\n",
    "    if file_name:\n",
    "        postal_code_images = get_individual_images(file_name)\n",
    "        # update UI\n",
    "        image_preview.value = w.Image.from_file(file_name).value # ipywidgets Image class\n",
    "        reset_labels()\n",
    "        update_image_preview(postal_code_images)\n",
    "\n",
    "def update_image_preview(images):\n",
    "    if images:\n",
    "        for i in range(4):\n",
    "            digit_previews[i].clear_output()\n",
    "            with digit_previews[i]:\n",
    "                images[i][1].resize(74, 74).invert().save(disp)"
   ]
  },
  {
   "cell_type": "markdown",
   "metadata": {},
   "source": [
    "### Image Separation Logic"
   ]
  },
  {
   "cell_type": "code",
   "execution_count": 4,
   "metadata": {},
   "outputs": [],
   "source": [
    "# Return an array of individual images and their digit from the image object\n",
    "def get_individual_images(file_name):\n",
    "    # SimpleCV Image class\n",
    "    img = Image(str(file_name))\n",
    "    return [\n",
    "        get_image_obj(crop(img, 0)), \n",
    "        get_image_obj(crop(img, 1)), \n",
    "        get_image_obj(crop(img, 2)), \n",
    "        get_image_obj(crop(img, 3))\n",
    "    ]\n",
    "\n",
    "def get_image_obj(img):\n",
    "    _bin = img.binarize()\n",
    "    return (None, _bin.dilate().erode(), _bin)\n",
    "\n",
    "# Crop and return a part of the source image\n",
    "def crop(img, part):\n",
    "    return img.crop(SIZE * part, 0, SIZE, SIZE)"
   ]
  },
  {
   "cell_type": "markdown",
   "metadata": {},
   "source": [
    "### Feature Extraction Logic"
   ]
  },
  {
   "cell_type": "code",
   "execution_count": 5,
   "metadata": {},
   "outputs": [],
   "source": [
    "def get_weighted_matrix(img):\n",
    "    T = 5 # THRESHOLD\n",
    "    CROP = SIZE / COUNT\n",
    "    m = np.zeros((COUNT, COUNT))\n",
    "    for y in range(COUNT):\n",
    "        for x in range(COUNT):\n",
    "            part = img.crop(x * CROP, y * CROP, CROP, CROP)\n",
    "            sum = (part.getNumpy()[:,:,0] / 255).sum()\n",
    "            m[x][y] = sum if sum > T else 0\n",
    "    return m.T\n",
    "\n",
    "def extract_features(image):\n",
    "    # Columns detected using computer vision\n",
    "    features_dict = {\n",
    "        \"area\": [],\n",
    "        \"width\": [],\n",
    "        \"contours\": [],\n",
    "        \"radius\": [],\n",
    "        \"circle_dist\": [],\n",
    "        \"rect_dist\": [],\n",
    "        \"hull_radius\": [],\n",
    "        \"aspect_ratio\": [],\n",
    "        \"centroid_x\": [],\n",
    "        \"centroid_y\": [],\n",
    "        \"angle\": [],\n",
    "        \"corners\": [],\n",
    "        \"circles\": [],\n",
    "        \"num_holes\": [],\n",
    "    }\n",
    "\n",
    "    # Reorder columns\n",
    "    column_order = [\n",
    "        \"area\",\n",
    "        \"width\",\n",
    "        \"contours\",\n",
    "        \"radius\",\n",
    "        \"circle_dist\",\n",
    "        \"rect_dist\",\n",
    "        \"hull_radius\",\n",
    "        \"aspect_ratio\",\n",
    "        \"centroid_x\",\n",
    "        \"centroid_y\",\n",
    "        \"corners\",\n",
    "        \"circles\",\n",
    "        \"angle\"\n",
    "    ]\n",
    "\n",
    "    # Adding column names for the low-res pixel count matrix\n",
    "    for x in range(COUNT):\n",
    "        for y in range(COUNT):\n",
    "            name = '_'.join(['weight', str(x), str(y)])\n",
    "            column_order.append(name)\n",
    "            features_dict[name] = []\n",
    "\n",
    "    column_order.append(\"num_holes\")\n",
    "    \n",
    "    img = image[1]\n",
    "    raw = image[2]\n",
    "    img.show()\n",
    "    \n",
    "    # Find blobs in the preprocessed image\n",
    "    blobs = img.findBlobs()\n",
    "    if blobs:\n",
    "        # Fractured digits\n",
    "        if len(blobs) > 1:\n",
    "            # Try again with more dilation\n",
    "            img = img.dilate()\n",
    "            blobs = img.findBlobs()\n",
    "            if len(blobs) > 1:\n",
    "                # Try again with raw image\n",
    "                img = raw\n",
    "                blobs = img.findBlobs()\n",
    "        \n",
    "        blob = blobs[0]\n",
    "        features_dict['area'].append(blob.area())\n",
    "        features_dict['width'].append(blob.width())\n",
    "        features_dict['contours'].append(len(blob.contour()))\n",
    "        features_dict['circle_dist'].append(blob.circleDistance())\n",
    "        features_dict['rect_dist'].append(blob.rectangleDistance())\n",
    "        features_dict['radius'].append(blob.radius())\n",
    "        features_dict['hull_radius'].append(blob.hullRadius())\n",
    "        features_dict['aspect_ratio'].append(blob.aspectRatio())\n",
    "        features_dict['centroid_x'].append(blob.centroid()[0])\n",
    "        features_dict['centroid_y'].append(blob.centroid()[1])\n",
    "        features_dict['angle'].append(blob.angle())\n",
    "        features_dict['corners'].append(len(img.findCorners()))\n",
    "        \n",
    "        # Finding the number of circles in an image\n",
    "        circles_set = img.embiggen(2).scale(4).findCircle(thresh=40, distance=20)\n",
    "        circles = 0\n",
    "        if circles_set:\n",
    "            circles = len(circles_set)\n",
    "        features_dict['circles'].append(circles)\n",
    "\n",
    "        # Calculate pixel count matrix in the preprocessed image\n",
    "        m = get_weighted_matrix(img)\n",
    "        for x in range(COUNT):\n",
    "            for y in range(COUNT):\n",
    "                features_dict['_'.join(['weight', str(x), str(y)])].append(m[x, y])\n",
    "\n",
    "        # Finding the number of holes in the 'just binarized' image\n",
    "        num_holes = len(raw.embiggen(2).invert().findBlobs(minsize=3)[:-1])\n",
    "        features_dict['num_holes'].append(num_holes)\n",
    "    \n",
    "    return pd.DataFrame(features_dict, columns=column_order)"
   ]
  },
  {
   "cell_type": "markdown",
   "metadata": {},
   "source": [
    "### Prediction Logic"
   ]
  },
  {
   "cell_type": "code",
   "execution_count": 6,
   "metadata": {},
   "outputs": [],
   "source": [
    "def predict(img):\n",
    "    # extract features\n",
    "    features = extract_features(img)[COLUMNS]\n",
    "    if len(features) == 1:\n",
    "        # normalize all features\n",
    "        features = pd.DataFrame(SCALER.transform(features), columns=features.columns)\n",
    "        # predict\n",
    "        return CLASSIFIER.predict(features)[0]\n",
    "    return None\n",
    "\n",
    "def predict_all(images):\n",
    "    return [predict(images[0]), predict(images[1]), predict(images[2]), predict(images[3])]\n",
    "\n",
    "def predict_dir(b):\n",
    "    output_predict_dir.clear_output()\n",
    "    for file_name in FILES:\n",
    "        images = get_individual_images(file_name)\n",
    "        with output_predict_dir:\n",
    "            ps = predict_all(images)\n",
    "            postal_code = str(ps[0]) + ' ' + str(ps[1]) + ' ' + str(ps[2]) + ' ' + str(ps[3])\n",
    "            image = w.Image.from_file(file_name)\n",
    "            image.layout.width = '20%'\n",
    "            image.layout.height = '20%'\n",
    "            display(HBox([image, w.Label(value=postal_code)], layout={'margin': '0'}))"
   ]
  },
  {
   "cell_type": "markdown",
   "metadata": {},
   "source": [
    "### Image Selection UI"
   ]
  },
  {
   "cell_type": "code",
   "execution_count": 7,
   "metadata": {},
   "outputs": [],
   "source": [
    "input_path = w.Text(value=\"../dataset-images/\", placeholder=\"path\", description=\"Directory:\")\n",
    "button_select_path = w.Button(description='Use')\n",
    "button_select_path.on_click(on_path_select)\n",
    "\n",
    "dropdown_image = w.Dropdown(description='Image:')\n",
    "button_select_image = w.Button(description=\"Use\")\n",
    "button_select_image.on_click(on_image_select)\n",
    "image_preview = w.Image(layout={'width': '340px'})\n",
    "\n",
    "image_selection = VBox([\n",
    "    HBox([input_path, button_select_path]),\n",
    "    HBox([dropdown_image, button_select_image])\n",
    "])"
   ]
  },
  {
   "cell_type": "markdown",
   "metadata": {},
   "source": [
    "### Prediction UI"
   ]
  },
  {
   "cell_type": "code",
   "execution_count": 8,
   "metadata": {},
   "outputs": [],
   "source": [
    "digit_previews = [w.Output(), w.Output(), w.Output(), w.Output()]\n",
    "\n",
    "layout_predict_button = {'width': '82px'}\n",
    "buttons_predict = [\n",
    "    w.Button(description=\"Predict\", layout=layout_predict_button),\n",
    "    w.Button(description=\"Predict\", layout=layout_predict_button),\n",
    "    w.Button(description=\"Predict\", layout=layout_predict_button),\n",
    "    w.Button(description=\"Predict\", layout=layout_predict_button)\n",
    "]\n",
    "\n",
    "layout_predict_label = {'margin': '0 auto'}\n",
    "labels_predict = [\n",
    "    w.Label(layout=layout_predict_label),\n",
    "    w.Label(layout=layout_predict_label),\n",
    "    w.Label(layout=layout_predict_label),\n",
    "    w.Label(layout=layout_predict_label)\n",
    "]\n",
    "\n",
    "def reset_labels(value='-'):\n",
    "    for i in range(4):\n",
    "        set_label(i, value)\n",
    "\n",
    "def set_label(index, value):\n",
    "    labels_predict[index].value = str(value)\n",
    "\n",
    "def predict_all_ui(b):\n",
    "    predictions = predict_all(postal_code_images)\n",
    "    for i in range(4):\n",
    "        set_label(i, predictions[i])\n",
    "\n",
    "# Setup listeners\n",
    "buttons_predict[0].on_click(lambda b: set_label(0, predict(postal_code_images[0])))\n",
    "buttons_predict[1].on_click(lambda b: set_label(1, predict(postal_code_images[1])))\n",
    "buttons_predict[2].on_click(lambda b: set_label(2, predict(postal_code_images[2])))\n",
    "buttons_predict[3].on_click(lambda b: set_label(3, predict(postal_code_images[3])))\n",
    "\n",
    "button_predict_all = w.Button(description=\"Predict Postal Code\", layout={'width': '340px'})\n",
    "button_predict_all.on_click(predict_all_ui)\n",
    "\n",
    "button_predict_dir = w.Button(description=\"Predict All Images\")\n",
    "button_predict_dir.on_click(predict_dir)\n",
    "output_predict_dir = w.Output()#layout={'height': '400px', 'overflow-y': 'scroll'})\n",
    "\n",
    "selection = HBox([\n",
    "    VBox([\n",
    "        image_selection,\n",
    "        image_preview,\n",
    "        HBox([\n",
    "            VBox([digit_previews[0], labels_predict[0], buttons_predict[0]]),\n",
    "            VBox([digit_previews[1], labels_predict[1], buttons_predict[1]]),\n",
    "            VBox([digit_previews[2], labels_predict[2], buttons_predict[2]]),\n",
    "            VBox([digit_previews[3], labels_predict[3], buttons_predict[3]])\n",
    "        ]),\n",
    "        button_predict_all\n",
    "    ], layout={'width': '360px'}),\n",
    "    VBox([\n",
    "        button_predict_dir,\n",
    "        w.Label(value=\"All image predictions:\"),\n",
    "        output_predict_dir\n",
    "    ], layout={'margin': '0 0 0 64px', 'width': '360px'})\n",
    "])\n",
    "    \n",
    "with app:\n",
    "    display(selection)\n",
    "    \n",
    "    # Initial situation\n",
    "    on_path_select(None)\n",
    "    on_image_select(None)"
   ]
  },
  {
   "cell_type": "markdown",
   "metadata": {},
   "source": [
    "# Digit Recognition App\n",
    "\n",
    "### How to use:\n",
    "\n",
    "#### Predict a single postal code\n",
    "\n",
    "1. Select a folder path.\n",
    "2. Select a 128x32 pixel 'postal code' image to recognize.\n",
    "3. Predict individual digits or the whole postal code at once.\n",
    "\n",
    "#### Predict all postal codes\n",
    "\n",
    "1. Select a folder path.\n",
    "2. Predict all images in the folder."
   ]
  },
  {
   "cell_type": "code",
   "execution_count": 9,
   "metadata": {},
   "outputs": [
    {
     "data": {
      "application/vnd.jupyter.widget-view+json": {
       "model_id": "6c9061e4faa54cc8a6ae1eacd7a0cb8b",
       "version_major": 2,
       "version_minor": 0
      },
      "text/plain": [
       "Output()"
      ]
     },
     "metadata": {},
     "output_type": "display_data"
    }
   ],
   "source": [
    "app"
   ]
  }
 ],
 "metadata": {
  "kernelspec": {
   "display_name": "Python 2",
   "language": "python",
   "name": "python2"
  },
  "language_info": {
   "codemirror_mode": {
    "name": "ipython",
    "version": 2
   },
   "file_extension": ".py",
   "mimetype": "text/x-python",
   "name": "python",
   "nbconvert_exporter": "python",
   "pygments_lexer": "ipython2",
   "version": "2.7.12"
  }
 },
 "nbformat": 4,
 "nbformat_minor": 2
}
