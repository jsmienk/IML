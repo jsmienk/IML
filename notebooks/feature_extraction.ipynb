{
 "cells": [
  {
   "cell_type": "markdown",
   "metadata": {},
   "source": [
    "# Feature Extraction\n",
    "\n",
    "We load and examine all provided images before splitting them up in individual images and extracting a table of features from those individual digits.\n",
    "\n",
    "The images provided are 128x32 pixels. So four images of 32x32 pixels."
   ]
  },
  {
   "cell_type": "code",
   "execution_count": 1,
   "metadata": {},
   "outputs": [],
   "source": [
    "# IMPORTS AND NOTEBOOK SETUP\n",
    "from SimpleCV import *\n",
    "import matplotlib\n",
    "import matplotlib.pyplot as plt\n",
    "import numpy as np\n",
    "import pandas as pd\n",
    "import os\n",
    "\n",
    "%matplotlib inline\n",
    "\n",
    "# Config: size of the figures\n",
    "matplotlib.rcParams['figure.figsize'] = [10, 6]\n",
    "\n",
    "disp = Display(displaytype='notebook')"
   ]
  },
  {
   "cell_type": "markdown",
   "metadata": {},
   "source": [
    "## Helper Methods"
   ]
  },
  {
   "cell_type": "code",
   "execution_count": 2,
   "metadata": {},
   "outputs": [],
   "source": [
    "# HELPER METHODS\n",
    "\n",
    "# Constant single digit image size\n",
    "SIZE = 32\n",
    "\n",
    "# Return an array of individual images and their digit from the image object\n",
    "def get_individual_images(imgObj):\n",
    "    return [\n",
    "        (int(imgObj[0][0]), crop(imgObj[1], 0), crop(imgObj[2], 0)),\n",
    "        (int(imgObj[0][1]), crop(imgObj[1], 1), crop(imgObj[2], 1)),\n",
    "        (int(imgObj[0][2]), crop(imgObj[1], 2), crop(imgObj[2], 2)),\n",
    "        (int(imgObj[0][3]), crop(imgObj[1], 3), crop(imgObj[2], 3))\n",
    "    ]\n",
    "\n",
    "# Crop and return a part of the source image\n",
    "def crop(img, part):\n",
    "    return img.crop(SIZE * part, 0, SIZE, SIZE)\n",
    "\n",
    "# Create a list of all images and their file names (labels) in a certain path\n",
    "def get_images_in_path(path):\n",
    "    img_list = []\n",
    "    for name in os.listdir(path):\n",
    "        if name.endswith('.png'):\n",
    "            img = Image(os.path.join(path, name))\n",
    "            label = name[:-4]\n",
    "            img_list.append((label, img))\n",
    "    return img_list"
   ]
  },
  {
   "cell_type": "markdown",
   "metadata": {},
   "source": [
    "## Image Preprocessing"
   ]
  },
  {
   "cell_type": "markdown",
   "metadata": {},
   "source": [
    "We get all the images from the directory and preprocess them by binarizing, eroding and dilating them in that order.\n",
    "\n",
    "We also save a non dilated and eroded, but just binarized version for a different purpose explained later."
   ]
  },
  {
   "cell_type": "code",
   "execution_count": 3,
   "metadata": {},
   "outputs": [],
   "source": [
    "# IMAGE PRE-PROCESSING\n",
    "raw = get_images_in_path('../dataset-images/')\n",
    "images = []\n",
    "for img in raw:\n",
    "    _bin = img[1].binarize()\n",
    "    images.append((img[0], _bin.erode().dilate(), _bin))"
   ]
  },
  {
   "cell_type": "markdown",
   "metadata": {},
   "source": [
    "Here we tried out different amounts and orders of erosion and dilation. We wanted a clear result, but also a result that does not loose too much detail. First eroding and then dilating produced the cleanest result."
   ]
  },
  {
   "cell_type": "code",
   "execution_count": 4,
   "metadata": {
    "scrolled": true
   },
   "outputs": [
    {
     "data": {
      "image/png": "[encoded data removed]",
      "text/plain": [
       "<IPython.core.display.Image object>"
      ]
     },
     "metadata": {},
     "output_type": "display_data"
    },
    {
     "data": {
      "image/png": "[encoded data removed]",
      "text/plain": [
       "<IPython.core.display.Image object>"
      ]
     },
     "metadata": {},
     "output_type": "display_data"
    },
    {
     "data": {
      "image/png": "[encoded data removed]",
      "text/plain": [
       "<IPython.core.display.Image object>"
      ]
     },
     "metadata": {},
     "output_type": "display_data"
    },
    {
     "data": {
      "image/png": "[encoded data removed]",
      "text/plain": [
       "<IPython.core.display.Image object>"
      ]
     },
     "metadata": {},
     "output_type": "display_data"
    },
    {
     "data": {
      "image/png": "[encoded data removed]",
      "text/plain": [
       "<IPython.core.display.Image object>"
      ]
     },
     "metadata": {},
     "output_type": "display_data"
    },
    {
     "data": {
      "image/png": "[encoded data removed]",
      "text/plain": [
       "<IPython.core.display.Image object>"
      ]
     },
     "metadata": {},
     "output_type": "display_data"
    }
   ],
   "source": [
    "# EXAMPLE IMAGES\n",
    "img = images[0][2]\n",
    "img.save(disp)\n",
    "img.erode().save(disp)\n",
    "img.dilate().save(disp)\n",
    "img.erode().dilate().save(disp)\n",
    "img.dilate().erode().save(disp)\n",
    "images[0][1].save(disp)"
   ]
  },
  {
   "cell_type": "markdown",
   "metadata": {},
   "source": [
    "## Splitting Digits\n",
    "\n",
    "We split the digits into individual image objects."
   ]
  },
  {
   "cell_type": "code",
   "execution_count": 5,
   "metadata": {
    "scrolled": true
   },
   "outputs": [],
   "source": [
    "# EXTRACTING INDIVIDUAL DIGITS\n",
    "digits = []\n",
    "for img in images:\n",
    "    digits.extend(get_individual_images(img))"
   ]
  },
  {
   "cell_type": "markdown",
   "metadata": {},
   "source": [
    "### Number of Holes Detection\n",
    "\n",
    "When inverting the image and counting the blobs minus the background we can count the number of holes in the digit. Whennot setting the min size of the blobs we would miss a lot of holes."
   ]
  },
  {
   "cell_type": "code",
   "execution_count": 6,
   "metadata": {},
   "outputs": [
    {
     "data": {
      "image/png": "[encoded data removed]",
      "text/plain": [
       "<IPython.core.display.Image object>"
      ]
     },
     "metadata": {},
     "output_type": "display_data"
    },
    {
     "data": {
      "image/png": "[encoded data removed]",
      "text/plain": [
       "<IPython.core.display.Image object>"
      ]
     },
     "metadata": {},
     "output_type": "display_data"
    },
    {
     "data": {
      "text/plain": [
       "1"
      ]
     },
     "execution_count": 6,
     "metadata": {},
     "output_type": "execute_result"
    }
   ],
   "source": [
    "digits[0][2].save(disp)\n",
    "digits[0][2].embiggen(2).invert().save(disp)\n",
    "len(digits[3][2].embiggen(2).invert().findBlobs(minsize=3)[:-1])"
   ]
  },
  {
   "cell_type": "markdown",
   "metadata": {},
   "source": [
    "We plot a set of images to check how the individual prepocessed images and labels look."
   ]
  },
  {
   "cell_type": "code",
   "execution_count": 7,
   "metadata": {},
   "outputs": [
    {
     "name": "stderr",
     "output_type": "stream",
     "text": [
      "/usr/local/lib/python2.7/dist-packages/SimpleCV/ImageClass.py:1970: FutureWarning: elementwise comparison failed; returning scalar instead, but in the future will perform elementwise comparison\n",
      "  if self._numpy != \"\":\n"
     ]
    },
    {
     "data": {
      "image/png": "[encoded data removed]",
      "text/plain": [
       "<Figure size 1080x360 with 100 Axes>"
      ]
     },
     "metadata": {},
     "output_type": "display_data"
    }
   ],
   "source": [
    "# PLOTTING IMAGES AND THEIR LABELS\n",
    "PLOT_SIZE = 100\n",
    "ROW_WIDTH = 20\n",
    "plt.figure(figsize=(15, PLOT_SIZE / ROW_WIDTH))\n",
    "for i in range(PLOT_SIZE):\n",
    "    plt.subplot(PLOT_SIZE / ROW_WIDTH, ROW_WIDTH, i + 1)\n",
    "    plt.xticks([])\n",
    "    plt.yticks([])\n",
    "    plt.grid(False)\n",
    "    plt.xlabel(digits[i][0])\n",
    "    plt.imshow(digits[i][1].getNumpy(), cmap=plt.cm.binary)\n",
    "\n",
    "# Save sample to an image\n",
    "# plt.savefig('digits_sample', dpi=200, bbox_inches='tight')"
   ]
  },
  {
   "cell_type": "markdown",
   "metadata": {},
   "source": [
    "## Create Pandas DataFrame with Labels and Image Objects\n",
    "\n",
    "We also plot the frequency of the digits in the dataset."
   ]
  },
  {
   "cell_type": "code",
   "execution_count": 8,
   "metadata": {},
   "outputs": [
    {
     "data": {
      "text/plain": [
       "<matplotlib.axes._subplots.AxesSubplot at 0x7f7f29741750>"
      ]
     },
     "execution_count": 8,
     "metadata": {},
     "output_type": "execute_result"
    },
    {
     "data": {
      "image/png": "[encoded data removed]",
      "text/plain": [
       "<Figure size 432x288 with 1 Axes>"
      ]
     },
     "metadata": {
      "needs_background": "light"
     },
     "output_type": "display_data"
    }
   ],
   "source": [
    "# CREATE DATAFRAME FROM DIGITS\n",
    "columns = ['digit', 'image', 'image_raw']\n",
    "data = pd.DataFrame(digits, columns=columns)\n",
    "data_sorted = pd.DataFrame(sorted(digits), columns=columns)\n",
    "\n",
    "# PLOT INTERESTING FEATURES\n",
    "digit_counts = data.digit.value_counts()\n",
    "digit_counts.sort_index(inplace=True)\n",
    "digit_counts.plot(kind='bar')"
   ]
  },
  {
   "cell_type": "markdown",
   "metadata": {},
   "source": [
    "## Low-Res Pixel Count Matrix\n",
    "\n",
    "We want to create a feature that is based on the pixel count in cells of the image. We used a 4x4 grid (8x8 cells) before but lost too much detail. We use an 8x8 (4x4 cells) grid now.\n",
    "\n",
    "This cell defines the function ans tests and plots the feature."
   ]
  },
  {
   "cell_type": "code",
   "execution_count": 9,
   "metadata": {
    "scrolled": false
   },
   "outputs": [
    {
     "name": "stdout",
     "output_type": "stream",
     "text": [
      "Low-Res Pixel Count Matrix based on binarized image\n"
     ]
    },
    {
     "data": {
      "image/png": "[encoded data removed]",
      "text/plain": [
       "<Figure size 432x288 with 1 Axes>"
      ]
     },
     "metadata": {
      "needs_background": "light"
     },
     "output_type": "display_data"
    },
    {
     "name": "stdout",
     "output_type": "stream",
     "text": [
      "\n",
      "Low-Res Pixel Count Matrix based on binarized, dilated and eroded image\n"
     ]
    },
    {
     "data": {
      "image/png": "[encoded data removed]",
      "text/plain": [
       "<Figure size 432x288 with 1 Axes>"
      ]
     },
     "metadata": {
      "needs_background": "light"
     },
     "output_type": "display_data"
    }
   ],
   "source": [
    "# WEIGHTED MATRIX CREATION\n",
    "def get_weighted_matrix(img):\n",
    "    COUNT = 8 # GRID SIZE\n",
    "    T = 5 # THRESHOLD\n",
    "    CROP = SIZE / COUNT\n",
    "    m = np.zeros((COUNT, COUNT))\n",
    "    for y in range(COUNT):\n",
    "        for x in range(COUNT):\n",
    "            part = img.crop(x * CROP, y * CROP, CROP, CROP)\n",
    "            sum = (part.getNumpy()[:,:,0] / 255).sum()\n",
    "            m[x][y] = sum if sum > T else 0\n",
    "    return m.T\n",
    "\n",
    "\n",
    "img_raw = data.image_raw[0]\n",
    "img = data.image[0]\n",
    "\n",
    "m_raw = get_weighted_matrix(img_raw)\n",
    "print 'Low-Res Pixel Count Matrix based on binarized image'\n",
    "plt.imshow(m_raw, cmap='Blues', interpolation='nearest')\n",
    "plt.show()\n",
    "\n",
    "print\n",
    "\n",
    "m = get_weighted_matrix(img)\n",
    "print 'Low-Res Pixel Count Matrix based on binarized, dilated and eroded image'\n",
    "plt.imshow(m, cmap='Blues', interpolation='nearest')\n",
    "plt.show()"
   ]
  },
  {
   "cell_type": "markdown",
   "metadata": {},
   "source": [
    "### Lines, Corners & Circles\n",
    "\n",
    "We also tried to experiment with findLines, findCorners and findCircle but not a single image contains a line and the amount of corners in the images are not distinctive. Fortunately, circles did seem to be promosing."
   ]
  },
  {
   "cell_type": "code",
   "execution_count": 10,
   "metadata": {},
   "outputs": [
    {
     "data": {
      "image/png": "[encoded data removed]",
      "text/plain": [
       "<IPython.core.display.Image object>"
      ]
     },
     "metadata": {},
     "output_type": "display_data"
    },
    {
     "name": "stdout",
     "output_type": "stream",
     "text": [
      "[SimpleCV.Features.Detection.Circle at (143,167), SimpleCV.Features.Detection.Circle at (127,147), SimpleCV.Features.Detection.Circle at (147,141)]\n"
     ]
    }
   ],
   "source": [
    "img = data_sorted.image[1300]\n",
    "img = img.embiggen(2).scale(4)\n",
    "\n",
    "img.save(disp)\n",
    "img.show()\n",
    "\n",
    "circles = img.findCircle(thresh=40, distance=20)\n",
    "print circles\n",
    "if circles:\n",
    "    circles.draw()\n",
    "\n",
    "blobs = img.findBlobs()\n",
    "if len(blobs) > 0:\n",
    "    blobs.draw()\n",
    "\n",
    "# test_dict = {\n",
    "#     'contours': [],\n",
    "#     'corners': [],\n",
    "#     'circles': [],\n",
    "#     'label': []\n",
    "# }\n",
    "\n",
    "# for row in data.iterrows():\n",
    "#     # HACK TO FIND BLOBS\n",
    "#     row[1][1].show()\n",
    "#     # Find blobs in the preprocessed image\n",
    "#     blobs = row[1][1].findBlobs()\n",
    "#     if blobs:\n",
    "#         test_dict['contours'].append(len(blobs[0].contour()))\n",
    "#         test_dict['corners'].append(len(row[1][1].findCorners()))\n",
    "        \n",
    "#         circles_set = row[1][1].embiggen(2).scale(4).findCircle(thresh=40, distance=20)\n",
    "#         circles = 0\n",
    "#         if circles_set:\n",
    "#             circles = len(circles_set)\n",
    "#         test_dict['circles'].append(circles)\n",
    "        \n",
    "#         test_dict['label'].append(row[1][0])\n",
    "\n",
    "# # Create dataframe\n",
    "# test_df = pd.DataFrame(test_dict, columns=['contours', 'corners', 'circles', 'label'])"
   ]
  },
  {
   "cell_type": "code",
   "execution_count": 11,
   "metadata": {},
   "outputs": [
    {
     "data": {
      "text/html": [
       "<div>\n",
       "<table border=\"1\" class=\"dataframe\">\n",
       "  <thead>\n",
       "    <tr style=\"text-align: right;\">\n",
       "      <th></th>\n",
       "      <th>contours</th>\n",
       "      <th>corners</th>\n",
       "      <th>circles</th>\n",
       "    </tr>\n",
       "    <tr>\n",
       "      <th>label</th>\n",
       "      <th></th>\n",
       "      <th></th>\n",
       "      <th></th>\n",
       "    </tr>\n",
       "  </thead>\n",
       "  <tbody>\n",
       "    <tr>\n",
       "      <th>0</th>\n",
       "      <td>37.005650</td>\n",
       "      <td>29.790960</td>\n",
       "      <td>3.050847</td>\n",
       "    </tr>\n",
       "    <tr>\n",
       "      <th>1</th>\n",
       "      <td>34.000000</td>\n",
       "      <td>19.040404</td>\n",
       "      <td>0.075758</td>\n",
       "    </tr>\n",
       "    <tr>\n",
       "      <th>2</th>\n",
       "      <td>45.410256</td>\n",
       "      <td>23.164103</td>\n",
       "      <td>1.215385</td>\n",
       "    </tr>\n",
       "    <tr>\n",
       "      <th>3</th>\n",
       "      <td>50.366834</td>\n",
       "      <td>23.035176</td>\n",
       "      <td>2.346734</td>\n",
       "    </tr>\n",
       "    <tr>\n",
       "      <th>4</th>\n",
       "      <td>53.973118</td>\n",
       "      <td>26.607527</td>\n",
       "      <td>1.134409</td>\n",
       "    </tr>\n",
       "    <tr>\n",
       "      <th>5</th>\n",
       "      <td>45.668449</td>\n",
       "      <td>23.133690</td>\n",
       "      <td>1.935829</td>\n",
       "    </tr>\n",
       "    <tr>\n",
       "      <th>6</th>\n",
       "      <td>40.384615</td>\n",
       "      <td>24.784615</td>\n",
       "      <td>2.005128</td>\n",
       "    </tr>\n",
       "    <tr>\n",
       "      <th>7</th>\n",
       "      <td>48.190955</td>\n",
       "      <td>22.532663</td>\n",
       "      <td>0.768844</td>\n",
       "    </tr>\n",
       "    <tr>\n",
       "      <th>8</th>\n",
       "      <td>40.666667</td>\n",
       "      <td>26.044444</td>\n",
       "      <td>2.472222</td>\n",
       "    </tr>\n",
       "    <tr>\n",
       "      <th>9</th>\n",
       "      <td>42.049020</td>\n",
       "      <td>25.705882</td>\n",
       "      <td>2.264706</td>\n",
       "    </tr>\n",
       "  </tbody>\n",
       "</table>\n",
       "</div>"
      ],
      "text/plain": [
       "        contours    corners   circles\n",
       "label                                \n",
       "0      37.005650  29.790960  3.050847\n",
       "1      34.000000  19.040404  0.075758\n",
       "2      45.410256  23.164103  1.215385\n",
       "3      50.366834  23.035176  2.346734\n",
       "4      53.973118  26.607527  1.134409\n",
       "5      45.668449  23.133690  1.935829\n",
       "6      40.384615  24.784615  2.005128\n",
       "7      48.190955  22.532663  0.768844\n",
       "8      40.666667  26.044444  2.472222\n",
       "9      42.049020  25.705882  2.264706"
      ]
     },
     "execution_count": 11,
     "metadata": {},
     "output_type": "execute_result"
    }
   ],
   "source": [
    "test_df.groupby(test_df.label).mean()"
   ]
  },
  {
   "cell_type": "markdown",
   "metadata": {},
   "source": [
    "## Extracting Computer Vision Features and Saving to CSV\n",
    "\n",
    "### Computer Vision based\n",
    "\n",
    "- Area\n",
    "  - Number of pixels in the blob.\n",
    "- Contours\n",
    "  - Number of contours in the blob.\n",
    "- Corners\n",
    "  - Number of corners in the image.\n",
    "- Radius\n",
    "  - Return the radius, the average distance of each contour point from the centroid.\n",
    "- Circle Distance\n",
    "  - Compare the hull mask to an ideal circle and count the number of pixels that deviate as a fraction of total area of the ideal circle.\n",
    "- Rectangle Distance\n",
    "  - This compares the hull mask to the bounding rectangle. Returns the area of the blob’s hull as a fraction of the bounding rectangle.\n",
    "- Hull radius\n",
    "  - Return the radius of the convex hull contour from the centroid.\n",
    "- Aspect Ratio\n",
    "  - Aspect ratio of the width and height of the blob.\n",
    "- Centroid X\n",
    "  - The x-coordinate of the centroid.\n",
    "- Centroid Y\n",
    "  - The y-coordinate of the centroid.\n",
    "- Angle\n",
    "  - The angle between the horizontal enclosing rectangle and the minimum enclosing rectangle of the blob.\n",
    "- Corners\n",
    "  - Number of corners found in the image.\n",
    "- Circles\n",
    "  - Number of circles found in the image.\n",
    "\n",
    "### Self Computed Features\n",
    "\n",
    "- Low-Res Pixel Count Matrix\n",
    "  - The sum of pixels in a 4x4 cell of the image.\n",
    "- Number of Holes\n",
    "  - The number of holes found in the shape.\n",
    "\n",
    "\n",
    "### Non-features\n",
    "\n",
    "- Label\n",
    "  - The correct digit."
   ]
  },
  {
   "cell_type": "markdown",
   "metadata": {},
   "source": [
    "First we create a dictionary to save all the features in."
   ]
  },
  {
   "cell_type": "code",
   "execution_count": 12,
   "metadata": {
    "scrolled": false
   },
   "outputs": [],
   "source": [
    "# CREATING DICTIONARY TO SAVE ALL FEATURES IN\n",
    "\n",
    "# Columns detected using computer vision\n",
    "features_dict = {\n",
    "    \"area\": [],\n",
    "    \"width\": [],\n",
    "    \"contours\": [],\n",
    "    \"radius\": [],\n",
    "    \"circle_dist\": [],\n",
    "    \"rect_dist\": [],\n",
    "    \"hull_radius\": [],\n",
    "    \"aspect_ratio\": [],\n",
    "    \"centroid_x\": [],\n",
    "    \"centroid_y\": [],\n",
    "    \"angle\": [],\n",
    "    \"corners\": [],\n",
    "    \"circles\": [],\n",
    "    \"num_holes\": [],\n",
    "    \"label\": []\n",
    "}\n",
    "\n",
    "# Reorder columns\n",
    "column_order = [\n",
    "    \"area\",\n",
    "    \"width\",\n",
    "    \"contours\",\n",
    "    \"radius\",\n",
    "    \"circle_dist\",\n",
    "    \"rect_dist\",\n",
    "    \"hull_radius\",\n",
    "    \"aspect_ratio\",\n",
    "    \"centroid_x\",\n",
    "    \"centroid_y\",\n",
    "    \"corners\",\n",
    "    \"circles\",\n",
    "    \"angle\"\n",
    "]\n",
    "\n",
    "# Adding column names for the low-res pixel count matrix\n",
    "COUNT = 8\n",
    "for x in range(COUNT):\n",
    "    for y in range(COUNT):\n",
    "        name = '_'.join(['weight', str(x), str(y)])\n",
    "        column_order.append(name)\n",
    "        features_dict[name] = []\n",
    "\n",
    "column_order.append(\"num_holes\")\n",
    "column_order.append(\"label\")"
   ]
  },
  {
   "cell_type": "markdown",
   "metadata": {},
   "source": [
    "We then find and calculate all the features we want."
   ]
  },
  {
   "cell_type": "code",
   "execution_count": 13,
   "metadata": {
    "scrolled": false
   },
   "outputs": [],
   "source": [
    "# Iterate through rows of the DataFrame\n",
    "for row in data.iterrows():\n",
    "    label = row[1][0]\n",
    "    img = row[1][1]\n",
    "    raw = row[1][2]\n",
    "    img.show()\n",
    "    \n",
    "    # Find blobs in the preprocessed image\n",
    "    blobs = img.findBlobs()\n",
    "    if blobs:\n",
    "        # Fractured digits\n",
    "        if len(blobs) > 1:\n",
    "            # Try again with more dilation\n",
    "            img = img.dilate()\n",
    "            blobs = img.findBlobs()\n",
    "            if len(blobs) > 1:\n",
    "                # Try again with raw image\n",
    "                img = raw\n",
    "                blobs = img.findBlobs()\n",
    "                # Still fractured? Skip\n",
    "                if len(blobs) > 1:\n",
    "                    continue\n",
    "        \n",
    "        blob = blobs[0]\n",
    "        features_dict['area'].append(blob.area())\n",
    "        features_dict['width'].append(blob.width())\n",
    "        features_dict['contours'].append(len(blob.contour()))\n",
    "        features_dict['circle_dist'].append(blob.circleDistance())\n",
    "        features_dict['rect_dist'].append(blob.rectangleDistance())\n",
    "        features_dict['radius'].append(blob.radius())\n",
    "        features_dict['hull_radius'].append(blob.hullRadius())\n",
    "        features_dict['aspect_ratio'].append(blob.aspectRatio())\n",
    "        features_dict['centroid_x'].append(blob.centroid()[0])\n",
    "        features_dict['centroid_y'].append(blob.centroid()[1])\n",
    "        features_dict['angle'].append(blob.angle())\n",
    "        features_dict['corners'].append(len(img.findCorners()))\n",
    "        \n",
    "        # Finding the number of circles in an image\n",
    "        circles_set = img.embiggen(2).scale(4).findCircle(thresh=40, distance=20)\n",
    "        circles = 0\n",
    "        if circles_set:\n",
    "            circles = len(circles_set)\n",
    "        features_dict['circles'].append(circles)\n",
    "\n",
    "        # Calculate pixel count matrix in the preprocessed image\n",
    "        m = get_weighted_matrix(img)\n",
    "        COUNT = 8\n",
    "        for x in range(COUNT):\n",
    "            for y in range(COUNT):\n",
    "                features_dict['_'.join(['weight', str(x), str(y)])].append(m[x, y])\n",
    "\n",
    "        # Finding the number of holes in the 'just binarized' image\n",
    "        num_holes = len(raw.embiggen(2).invert().findBlobs(minsize=3)[:-1])\n",
    "        features_dict['num_holes'].append(num_holes)\n",
    "\n",
    "        # Attach the correct label\n",
    "        features_dict['label'].append(label)\n",
    "\n",
    "# Create dataframe\n",
    "data_frame = pd.DataFrame(features_dict, columns=column_order)"
   ]
  },
  {
   "cell_type": "markdown",
   "metadata": {},
   "source": [
    "We reorder the columns of the DataFrame and save the file to CSV"
   ]
  },
  {
   "cell_type": "code",
   "execution_count": 14,
   "metadata": {},
   "outputs": [],
   "source": [
    "# Save to CSV file\n",
    "data_frame.to_csv('../dataset-numpy/dataset-v7.csv', sep=',', encoding='utf-8', index=False)"
   ]
  },
  {
   "cell_type": "markdown",
   "metadata": {},
   "source": [
    "### Peeking into the Created Dataset"
   ]
  },
  {
   "cell_type": "code",
   "execution_count": 15,
   "metadata": {},
   "outputs": [
    {
     "data": {
      "text/html": [
       "<div>\n",
       "<table border=\"1\" class=\"dataframe\">\n",
       "  <thead>\n",
       "    <tr style=\"text-align: right;\">\n",
       "      <th></th>\n",
       "      <th>area</th>\n",
       "      <th>width</th>\n",
       "      <th>contours</th>\n",
       "      <th>radius</th>\n",
       "      <th>circle_dist</th>\n",
       "      <th>rect_dist</th>\n",
       "      <th>hull_radius</th>\n",
       "      <th>aspect_ratio</th>\n",
       "      <th>centroid_x</th>\n",
       "      <th>centroid_y</th>\n",
       "      <th>...</th>\n",
       "      <th>weight_6_7</th>\n",
       "      <th>weight_7_0</th>\n",
       "      <th>weight_7_1</th>\n",
       "      <th>weight_7_2</th>\n",
       "      <th>weight_7_3</th>\n",
       "      <th>weight_7_4</th>\n",
       "      <th>weight_7_5</th>\n",
       "      <th>weight_7_6</th>\n",
       "      <th>weight_7_7</th>\n",
       "      <th>num_holes</th>\n",
       "    </tr>\n",
       "    <tr>\n",
       "      <th>label</th>\n",
       "      <th></th>\n",
       "      <th></th>\n",
       "      <th></th>\n",
       "      <th></th>\n",
       "      <th></th>\n",
       "      <th></th>\n",
       "      <th></th>\n",
       "      <th></th>\n",
       "      <th></th>\n",
       "      <th></th>\n",
       "      <th></th>\n",
       "      <th></th>\n",
       "      <th></th>\n",
       "      <th></th>\n",
       "      <th></th>\n",
       "      <th></th>\n",
       "      <th></th>\n",
       "      <th></th>\n",
       "      <th></th>\n",
       "      <th></th>\n",
       "      <th></th>\n",
       "    </tr>\n",
       "  </thead>\n",
       "  <tbody>\n",
       "    <tr>\n",
       "      <th>0</th>\n",
       "      <td>388.779661</td>\n",
       "      <td>19.796610</td>\n",
       "      <td>38.259887</td>\n",
       "      <td>11.870776</td>\n",
       "      <td>0.777770</td>\n",
       "      <td>0.083790</td>\n",
       "      <td>13.034776</td>\n",
       "      <td>0.684119</td>\n",
       "      <td>15.514661</td>\n",
       "      <td>15.849222</td>\n",
       "      <td>...</td>\n",
       "      <td>0.000000</td>\n",
       "      <td>0</td>\n",
       "      <td>0.000000</td>\n",
       "      <td>3.593220</td>\n",
       "      <td>13.502825</td>\n",
       "      <td>13.090395</td>\n",
       "      <td>4.870056</td>\n",
       "      <td>0.124294</td>\n",
       "      <td>0.000000</td>\n",
       "      <td>0.932203</td>\n",
       "    </tr>\n",
       "    <tr>\n",
       "      <th>1</th>\n",
       "      <td>270.823232</td>\n",
       "      <td>17.111111</td>\n",
       "      <td>34.085859</td>\n",
       "      <td>9.958356</td>\n",
       "      <td>1.164793</td>\n",
       "      <td>0.125550</td>\n",
       "      <td>13.371829</td>\n",
       "      <td>0.932315</td>\n",
       "      <td>15.965643</td>\n",
       "      <td>15.390697</td>\n",
       "      <td>...</td>\n",
       "      <td>0.106061</td>\n",
       "      <td>0</td>\n",
       "      <td>0.000000</td>\n",
       "      <td>1.540404</td>\n",
       "      <td>8.156566</td>\n",
       "      <td>12.161616</td>\n",
       "      <td>7.959596</td>\n",
       "      <td>1.606061</td>\n",
       "      <td>0.550505</td>\n",
       "      <td>0.000000</td>\n",
       "    </tr>\n",
       "    <tr>\n",
       "      <th>2</th>\n",
       "      <td>235.992308</td>\n",
       "      <td>20.912821</td>\n",
       "      <td>45.892308</td>\n",
       "      <td>9.756897</td>\n",
       "      <td>0.773286</td>\n",
       "      <td>0.117474</td>\n",
       "      <td>14.732701</td>\n",
       "      <td>0.644836</td>\n",
       "      <td>15.208349</td>\n",
       "      <td>16.731156</td>\n",
       "      <td>...</td>\n",
       "      <td>0.071795</td>\n",
       "      <td>0</td>\n",
       "      <td>0.082051</td>\n",
       "      <td>9.789744</td>\n",
       "      <td>13.789744</td>\n",
       "      <td>13.138462</td>\n",
       "      <td>12.246154</td>\n",
       "      <td>7.923077</td>\n",
       "      <td>0.523077</td>\n",
       "      <td>0.005128</td>\n",
       "    </tr>\n",
       "    <tr>\n",
       "      <th>3</th>\n",
       "      <td>237.283920</td>\n",
       "      <td>19.487437</td>\n",
       "      <td>51.050251</td>\n",
       "      <td>9.862909</td>\n",
       "      <td>0.909852</td>\n",
       "      <td>0.043312</td>\n",
       "      <td>14.196763</td>\n",
       "      <td>0.661723</td>\n",
       "      <td>16.888249</td>\n",
       "      <td>15.165510</td>\n",
       "      <td>...</td>\n",
       "      <td>0.000000</td>\n",
       "      <td>0</td>\n",
       "      <td>0.070352</td>\n",
       "      <td>8.964824</td>\n",
       "      <td>14.547739</td>\n",
       "      <td>12.899497</td>\n",
       "      <td>6.733668</td>\n",
       "      <td>0.683417</td>\n",
       "      <td>0.000000</td>\n",
       "      <td>0.000000</td>\n",
       "    </tr>\n",
       "    <tr>\n",
       "      <th>4</th>\n",
       "      <td>248.002688</td>\n",
       "      <td>21.290323</td>\n",
       "      <td>53.973118</td>\n",
       "      <td>9.164038</td>\n",
       "      <td>0.501170</td>\n",
       "      <td>0.183435</td>\n",
       "      <td>12.642562</td>\n",
       "      <td>1.261820</td>\n",
       "      <td>15.610866</td>\n",
       "      <td>16.109270</td>\n",
       "      <td>...</td>\n",
       "      <td>0.000000</td>\n",
       "      <td>0</td>\n",
       "      <td>0.000000</td>\n",
       "      <td>0.602151</td>\n",
       "      <td>5.661290</td>\n",
       "      <td>10.833333</td>\n",
       "      <td>1.731183</td>\n",
       "      <td>0.080645</td>\n",
       "      <td>0.037634</td>\n",
       "      <td>0.032258</td>\n",
       "    </tr>\n",
       "    <tr>\n",
       "      <th>5</th>\n",
       "      <td>234.566845</td>\n",
       "      <td>19.016043</td>\n",
       "      <td>46.647059</td>\n",
       "      <td>9.692429</td>\n",
       "      <td>0.972743</td>\n",
       "      <td>0.073314</td>\n",
       "      <td>13.866985</td>\n",
       "      <td>0.954613</td>\n",
       "      <td>14.987245</td>\n",
       "      <td>14.234905</td>\n",
       "      <td>...</td>\n",
       "      <td>0.000000</td>\n",
       "      <td>0</td>\n",
       "      <td>0.037433</td>\n",
       "      <td>8.058824</td>\n",
       "      <td>14.454545</td>\n",
       "      <td>10.272727</td>\n",
       "      <td>2.727273</td>\n",
       "      <td>0.187166</td>\n",
       "      <td>0.000000</td>\n",
       "      <td>0.010695</td>\n",
       "    </tr>\n",
       "    <tr>\n",
       "      <th>6</th>\n",
       "      <td>284.084615</td>\n",
       "      <td>19.958974</td>\n",
       "      <td>41.051282</td>\n",
       "      <td>10.637953</td>\n",
       "      <td>0.749967</td>\n",
       "      <td>0.167258</td>\n",
       "      <td>13.019047</td>\n",
       "      <td>0.608114</td>\n",
       "      <td>15.642559</td>\n",
       "      <td>18.978532</td>\n",
       "      <td>...</td>\n",
       "      <td>0.251282</td>\n",
       "      <td>0</td>\n",
       "      <td>0.000000</td>\n",
       "      <td>0.835897</td>\n",
       "      <td>10.200000</td>\n",
       "      <td>14.569231</td>\n",
       "      <td>12.958974</td>\n",
       "      <td>4.861538</td>\n",
       "      <td>0.092308</td>\n",
       "      <td>0.871795</td>\n",
       "    </tr>\n",
       "    <tr>\n",
       "      <th>7</th>\n",
       "      <td>236.489950</td>\n",
       "      <td>19.386935</td>\n",
       "      <td>48.190955</td>\n",
       "      <td>9.337271</td>\n",
       "      <td>0.803079</td>\n",
       "      <td>0.149348</td>\n",
       "      <td>13.477179</td>\n",
       "      <td>0.980296</td>\n",
       "      <td>16.800086</td>\n",
       "      <td>13.375708</td>\n",
       "      <td>...</td>\n",
       "      <td>0.000000</td>\n",
       "      <td>0</td>\n",
       "      <td>0.160804</td>\n",
       "      <td>7.396985</td>\n",
       "      <td>10.487437</td>\n",
       "      <td>0.633166</td>\n",
       "      <td>0.060302</td>\n",
       "      <td>0.000000</td>\n",
       "      <td>0.000000</td>\n",
       "      <td>0.000000</td>\n",
       "    </tr>\n",
       "    <tr>\n",
       "      <th>8</th>\n",
       "      <td>338.105556</td>\n",
       "      <td>18.927778</td>\n",
       "      <td>42.161111</td>\n",
       "      <td>10.245163</td>\n",
       "      <td>0.941357</td>\n",
       "      <td>0.065321</td>\n",
       "      <td>13.785627</td>\n",
       "      <td>0.784924</td>\n",
       "      <td>15.172695</td>\n",
       "      <td>15.364964</td>\n",
       "      <td>...</td>\n",
       "      <td>0.000000</td>\n",
       "      <td>0</td>\n",
       "      <td>0.000000</td>\n",
       "      <td>4.827778</td>\n",
       "      <td>13.194444</td>\n",
       "      <td>12.350000</td>\n",
       "      <td>6.072222</td>\n",
       "      <td>0.527778</td>\n",
       "      <td>0.000000</td>\n",
       "      <td>1.594444</td>\n",
       "    </tr>\n",
       "    <tr>\n",
       "      <th>9</th>\n",
       "      <td>289.129902</td>\n",
       "      <td>19.705882</td>\n",
       "      <td>43.088235</td>\n",
       "      <td>10.565394</td>\n",
       "      <td>0.794699</td>\n",
       "      <td>0.111465</td>\n",
       "      <td>13.058107</td>\n",
       "      <td>0.763231</td>\n",
       "      <td>16.731564</td>\n",
       "      <td>13.167848</td>\n",
       "      <td>...</td>\n",
       "      <td>0.000000</td>\n",
       "      <td>0</td>\n",
       "      <td>0.000000</td>\n",
       "      <td>3.774510</td>\n",
       "      <td>11.813725</td>\n",
       "      <td>11.235294</td>\n",
       "      <td>6.485294</td>\n",
       "      <td>1.049020</td>\n",
       "      <td>0.000000</td>\n",
       "      <td>0.833333</td>\n",
       "    </tr>\n",
       "  </tbody>\n",
       "</table>\n",
       "<p>10 rows × 78 columns</p>\n",
       "</div>"
      ],
      "text/plain": [
       "             area      width   contours     radius  circle_dist  rect_dist  \\\n",
       "label                                                                        \n",
       "0      388.779661  19.796610  38.259887  11.870776     0.777770   0.083790   \n",
       "1      270.823232  17.111111  34.085859   9.958356     1.164793   0.125550   \n",
       "2      235.992308  20.912821  45.892308   9.756897     0.773286   0.117474   \n",
       "3      237.283920  19.487437  51.050251   9.862909     0.909852   0.043312   \n",
       "4      248.002688  21.290323  53.973118   9.164038     0.501170   0.183435   \n",
       "5      234.566845  19.016043  46.647059   9.692429     0.972743   0.073314   \n",
       "6      284.084615  19.958974  41.051282  10.637953     0.749967   0.167258   \n",
       "7      236.489950  19.386935  48.190955   9.337271     0.803079   0.149348   \n",
       "8      338.105556  18.927778  42.161111  10.245163     0.941357   0.065321   \n",
       "9      289.129902  19.705882  43.088235  10.565394     0.794699   0.111465   \n",
       "\n",
       "       hull_radius  aspect_ratio  centroid_x  centroid_y    ...      \\\n",
       "label                                                       ...       \n",
       "0        13.034776      0.684119   15.514661   15.849222    ...       \n",
       "1        13.371829      0.932315   15.965643   15.390697    ...       \n",
       "2        14.732701      0.644836   15.208349   16.731156    ...       \n",
       "3        14.196763      0.661723   16.888249   15.165510    ...       \n",
       "4        12.642562      1.261820   15.610866   16.109270    ...       \n",
       "5        13.866985      0.954613   14.987245   14.234905    ...       \n",
       "6        13.019047      0.608114   15.642559   18.978532    ...       \n",
       "7        13.477179      0.980296   16.800086   13.375708    ...       \n",
       "8        13.785627      0.784924   15.172695   15.364964    ...       \n",
       "9        13.058107      0.763231   16.731564   13.167848    ...       \n",
       "\n",
       "       weight_6_7  weight_7_0  weight_7_1  weight_7_2  weight_7_3  weight_7_4  \\\n",
       "label                                                                           \n",
       "0        0.000000           0    0.000000    3.593220   13.502825   13.090395   \n",
       "1        0.106061           0    0.000000    1.540404    8.156566   12.161616   \n",
       "2        0.071795           0    0.082051    9.789744   13.789744   13.138462   \n",
       "3        0.000000           0    0.070352    8.964824   14.547739   12.899497   \n",
       "4        0.000000           0    0.000000    0.602151    5.661290   10.833333   \n",
       "5        0.000000           0    0.037433    8.058824   14.454545   10.272727   \n",
       "6        0.251282           0    0.000000    0.835897   10.200000   14.569231   \n",
       "7        0.000000           0    0.160804    7.396985   10.487437    0.633166   \n",
       "8        0.000000           0    0.000000    4.827778   13.194444   12.350000   \n",
       "9        0.000000           0    0.000000    3.774510   11.813725   11.235294   \n",
       "\n",
       "       weight_7_5  weight_7_6  weight_7_7  num_holes  \n",
       "label                                                 \n",
       "0        4.870056    0.124294    0.000000   0.932203  \n",
       "1        7.959596    1.606061    0.550505   0.000000  \n",
       "2       12.246154    7.923077    0.523077   0.005128  \n",
       "3        6.733668    0.683417    0.000000   0.000000  \n",
       "4        1.731183    0.080645    0.037634   0.032258  \n",
       "5        2.727273    0.187166    0.000000   0.010695  \n",
       "6       12.958974    4.861538    0.092308   0.871795  \n",
       "7        0.060302    0.000000    0.000000   0.000000  \n",
       "8        6.072222    0.527778    0.000000   1.594444  \n",
       "9        6.485294    1.049020    0.000000   0.833333  \n",
       "\n",
       "[10 rows x 78 columns]"
      ]
     },
     "execution_count": 15,
     "metadata": {},
     "output_type": "execute_result"
    }
   ],
   "source": [
    "data_frame.groupby(data_frame.label).mean()"
   ]
  },
  {
   "cell_type": "code",
   "execution_count": 16,
   "metadata": {},
   "outputs": [
    {
     "data": {
      "text/plain": [
       "(1920, 79)"
      ]
     },
     "execution_count": 16,
     "metadata": {},
     "output_type": "execute_result"
    }
   ],
   "source": [
    "data_frame.shape"
   ]
  },
  {
   "cell_type": "code",
   "execution_count": 17,
   "metadata": {},
   "outputs": [
    {
     "data": {
      "text/html": [
       "<div>\n",
       "<table border=\"1\" class=\"dataframe\">\n",
       "  <thead>\n",
       "    <tr style=\"text-align: right;\">\n",
       "      <th></th>\n",
       "      <th>area</th>\n",
       "      <th>width</th>\n",
       "      <th>contours</th>\n",
       "      <th>radius</th>\n",
       "      <th>circle_dist</th>\n",
       "      <th>rect_dist</th>\n",
       "      <th>hull_radius</th>\n",
       "      <th>aspect_ratio</th>\n",
       "      <th>centroid_x</th>\n",
       "      <th>centroid_y</th>\n",
       "      <th>...</th>\n",
       "      <th>weight_7_0</th>\n",
       "      <th>weight_7_1</th>\n",
       "      <th>weight_7_2</th>\n",
       "      <th>weight_7_3</th>\n",
       "      <th>weight_7_4</th>\n",
       "      <th>weight_7_5</th>\n",
       "      <th>weight_7_6</th>\n",
       "      <th>weight_7_7</th>\n",
       "      <th>num_holes</th>\n",
       "      <th>label</th>\n",
       "    </tr>\n",
       "  </thead>\n",
       "  <tbody>\n",
       "    <tr>\n",
       "      <th>count</th>\n",
       "      <td>1920.000000</td>\n",
       "      <td>1920.000000</td>\n",
       "      <td>1920.000000</td>\n",
       "      <td>1920.000000</td>\n",
       "      <td>1920.000000</td>\n",
       "      <td>1920.000000</td>\n",
       "      <td>1920.000000</td>\n",
       "      <td>1920.000000</td>\n",
       "      <td>1920.000000</td>\n",
       "      <td>1920.000000</td>\n",
       "      <td>...</td>\n",
       "      <td>1920</td>\n",
       "      <td>1920.000000</td>\n",
       "      <td>1920.000000</td>\n",
       "      <td>1920.000000</td>\n",
       "      <td>1920.000000</td>\n",
       "      <td>1920.000000</td>\n",
       "      <td>1920.000000</td>\n",
       "      <td>1920.000000</td>\n",
       "      <td>1920.000000</td>\n",
       "      <td>1920.000000</td>\n",
       "    </tr>\n",
       "    <tr>\n",
       "      <th>mean</th>\n",
       "      <td>274.982813</td>\n",
       "      <td>19.552604</td>\n",
       "      <td>44.460938</td>\n",
       "      <td>10.097489</td>\n",
       "      <td>0.840045</td>\n",
       "      <td>0.112436</td>\n",
       "      <td>13.522600</td>\n",
       "      <td>0.826547</td>\n",
       "      <td>15.873832</td>\n",
       "      <td>15.419765</td>\n",
       "      <td>...</td>\n",
       "      <td>0</td>\n",
       "      <td>0.035937</td>\n",
       "      <td>4.961979</td>\n",
       "      <td>11.565625</td>\n",
       "      <td>11.079167</td>\n",
       "      <td>6.225521</td>\n",
       "      <td>1.733333</td>\n",
       "      <td>0.122917</td>\n",
       "      <td>0.417187</td>\n",
       "      <td>4.532813</td>\n",
       "    </tr>\n",
       "    <tr>\n",
       "      <th>std</th>\n",
       "      <td>67.304109</td>\n",
       "      <td>2.133224</td>\n",
       "      <td>9.181315</td>\n",
       "      <td>0.975741</td>\n",
       "      <td>0.335181</td>\n",
       "      <td>0.070463</td>\n",
       "      <td>0.857668</td>\n",
       "      <td>0.458459</td>\n",
       "      <td>1.215348</td>\n",
       "      <td>1.929772</td>\n",
       "      <td>...</td>\n",
       "      <td>0</td>\n",
       "      <td>0.500401</td>\n",
       "      <td>5.585016</td>\n",
       "      <td>4.935527</td>\n",
       "      <td>5.523363</td>\n",
       "      <td>6.307037</td>\n",
       "      <td>4.132351</td>\n",
       "      <td>1.130143</td>\n",
       "      <td>0.606905</td>\n",
       "      <td>2.868122</td>\n",
       "    </tr>\n",
       "    <tr>\n",
       "      <th>min</th>\n",
       "      <td>136.500000</td>\n",
       "      <td>9.000000</td>\n",
       "      <td>18.000000</td>\n",
       "      <td>7.951196</td>\n",
       "      <td>0.265258</td>\n",
       "      <td>0.000000</td>\n",
       "      <td>11.249110</td>\n",
       "      <td>0.275862</td>\n",
       "      <td>11.911111</td>\n",
       "      <td>9.997567</td>\n",
       "      <td>...</td>\n",
       "      <td>0</td>\n",
       "      <td>0.000000</td>\n",
       "      <td>0.000000</td>\n",
       "      <td>0.000000</td>\n",
       "      <td>0.000000</td>\n",
       "      <td>0.000000</td>\n",
       "      <td>0.000000</td>\n",
       "      <td>0.000000</td>\n",
       "      <td>0.000000</td>\n",
       "      <td>0.000000</td>\n",
       "    </tr>\n",
       "    <tr>\n",
       "      <th>25%</th>\n",
       "      <td>228.875000</td>\n",
       "      <td>18.000000</td>\n",
       "      <td>38.000000</td>\n",
       "      <td>9.383102</td>\n",
       "      <td>0.642986</td>\n",
       "      <td>0.052239</td>\n",
       "      <td>12.910241</td>\n",
       "      <td>0.586207</td>\n",
       "      <td>15.053731</td>\n",
       "      <td>14.118958</td>\n",
       "      <td>...</td>\n",
       "      <td>0</td>\n",
       "      <td>0.000000</td>\n",
       "      <td>0.000000</td>\n",
       "      <td>10.000000</td>\n",
       "      <td>9.000000</td>\n",
       "      <td>0.000000</td>\n",
       "      <td>0.000000</td>\n",
       "      <td>0.000000</td>\n",
       "      <td>0.000000</td>\n",
       "      <td>2.000000</td>\n",
       "    </tr>\n",
       "    <tr>\n",
       "      <th>50%</th>\n",
       "      <td>259.000000</td>\n",
       "      <td>20.000000</td>\n",
       "      <td>44.000000</td>\n",
       "      <td>9.934555</td>\n",
       "      <td>0.767127</td>\n",
       "      <td>0.105063</td>\n",
       "      <td>13.439518</td>\n",
       "      <td>0.620690</td>\n",
       "      <td>15.808951</td>\n",
       "      <td>15.314223</td>\n",
       "      <td>...</td>\n",
       "      <td>0</td>\n",
       "      <td>0.000000</td>\n",
       "      <td>0.000000</td>\n",
       "      <td>13.000000</td>\n",
       "      <td>12.000000</td>\n",
       "      <td>7.000000</td>\n",
       "      <td>0.000000</td>\n",
       "      <td>0.000000</td>\n",
       "      <td>0.000000</td>\n",
       "      <td>5.000000</td>\n",
       "    </tr>\n",
       "    <tr>\n",
       "      <th>75%</th>\n",
       "      <td>303.625000</td>\n",
       "      <td>21.000000</td>\n",
       "      <td>51.000000</td>\n",
       "      <td>10.629674</td>\n",
       "      <td>0.970649</td>\n",
       "      <td>0.169002</td>\n",
       "      <td>14.077269</td>\n",
       "      <td>0.689655</td>\n",
       "      <td>16.606884</td>\n",
       "      <td>16.465136</td>\n",
       "      <td>...</td>\n",
       "      <td>0</td>\n",
       "      <td>0.000000</td>\n",
       "      <td>10.000000</td>\n",
       "      <td>16.000000</td>\n",
       "      <td>16.000000</td>\n",
       "      <td>12.000000</td>\n",
       "      <td>0.000000</td>\n",
       "      <td>0.000000</td>\n",
       "      <td>1.000000</td>\n",
       "      <td>7.000000</td>\n",
       "    </tr>\n",
       "    <tr>\n",
       "      <th>max</th>\n",
       "      <td>532.000000</td>\n",
       "      <td>28.000000</td>\n",
       "      <td>83.000000</td>\n",
       "      <td>13.614818</td>\n",
       "      <td>3.879402</td>\n",
       "      <td>0.335774</td>\n",
       "      <td>16.812836</td>\n",
       "      <td>3.125000</td>\n",
       "      <td>20.294118</td>\n",
       "      <td>21.140118</td>\n",
       "      <td>...</td>\n",
       "      <td>0</td>\n",
       "      <td>8.000000</td>\n",
       "      <td>16.000000</td>\n",
       "      <td>16.000000</td>\n",
       "      <td>16.000000</td>\n",
       "      <td>16.000000</td>\n",
       "      <td>16.000000</td>\n",
       "      <td>16.000000</td>\n",
       "      <td>2.000000</td>\n",
       "      <td>9.000000</td>\n",
       "    </tr>\n",
       "  </tbody>\n",
       "</table>\n",
       "<p>8 rows × 79 columns</p>\n",
       "</div>"
      ],
      "text/plain": [
       "              area        width     contours       radius  circle_dist  \\\n",
       "count  1920.000000  1920.000000  1920.000000  1920.000000  1920.000000   \n",
       "mean    274.982813    19.552604    44.460938    10.097489     0.840045   \n",
       "std      67.304109     2.133224     9.181315     0.975741     0.335181   \n",
       "min     136.500000     9.000000    18.000000     7.951196     0.265258   \n",
       "25%     228.875000    18.000000    38.000000     9.383102     0.642986   \n",
       "50%     259.000000    20.000000    44.000000     9.934555     0.767127   \n",
       "75%     303.625000    21.000000    51.000000    10.629674     0.970649   \n",
       "max     532.000000    28.000000    83.000000    13.614818     3.879402   \n",
       "\n",
       "         rect_dist  hull_radius  aspect_ratio   centroid_x   centroid_y  \\\n",
       "count  1920.000000  1920.000000   1920.000000  1920.000000  1920.000000   \n",
       "mean      0.112436    13.522600      0.826547    15.873832    15.419765   \n",
       "std       0.070463     0.857668      0.458459     1.215348     1.929772   \n",
       "min       0.000000    11.249110      0.275862    11.911111     9.997567   \n",
       "25%       0.052239    12.910241      0.586207    15.053731    14.118958   \n",
       "50%       0.105063    13.439518      0.620690    15.808951    15.314223   \n",
       "75%       0.169002    14.077269      0.689655    16.606884    16.465136   \n",
       "max       0.335774    16.812836      3.125000    20.294118    21.140118   \n",
       "\n",
       "          ...       weight_7_0   weight_7_1   weight_7_2   weight_7_3  \\\n",
       "count     ...             1920  1920.000000  1920.000000  1920.000000   \n",
       "mean      ...                0     0.035937     4.961979    11.565625   \n",
       "std       ...                0     0.500401     5.585016     4.935527   \n",
       "min       ...                0     0.000000     0.000000     0.000000   \n",
       "25%       ...                0     0.000000     0.000000    10.000000   \n",
       "50%       ...                0     0.000000     0.000000    13.000000   \n",
       "75%       ...                0     0.000000    10.000000    16.000000   \n",
       "max       ...                0     8.000000    16.000000    16.000000   \n",
       "\n",
       "        weight_7_4   weight_7_5   weight_7_6   weight_7_7    num_holes  \\\n",
       "count  1920.000000  1920.000000  1920.000000  1920.000000  1920.000000   \n",
       "mean     11.079167     6.225521     1.733333     0.122917     0.417187   \n",
       "std       5.523363     6.307037     4.132351     1.130143     0.606905   \n",
       "min       0.000000     0.000000     0.000000     0.000000     0.000000   \n",
       "25%       9.000000     0.000000     0.000000     0.000000     0.000000   \n",
       "50%      12.000000     7.000000     0.000000     0.000000     0.000000   \n",
       "75%      16.000000    12.000000     0.000000     0.000000     1.000000   \n",
       "max      16.000000    16.000000    16.000000    16.000000     2.000000   \n",
       "\n",
       "             label  \n",
       "count  1920.000000  \n",
       "mean      4.532813  \n",
       "std       2.868122  \n",
       "min       0.000000  \n",
       "25%       2.000000  \n",
       "50%       5.000000  \n",
       "75%       7.000000  \n",
       "max       9.000000  \n",
       "\n",
       "[8 rows x 79 columns]"
      ]
     },
     "execution_count": 17,
     "metadata": {},
     "output_type": "execute_result"
    }
   ],
   "source": [
    "data_frame.describe()"
   ]
  },
  {
   "cell_type": "markdown",
   "metadata": {},
   "source": [
    "### Checking the Quality of the Number of Holes Feature"
   ]
  },
  {
   "cell_type": "code",
   "execution_count": 18,
   "metadata": {},
   "outputs": [
    {
     "data": {
      "text/plain": [
       "label  num_holes\n",
       "0      0             12\n",
       "       1            165\n",
       "1      0            198\n",
       "2      0            194\n",
       "       1              1\n",
       "3      0            199\n",
       "4      0            180\n",
       "       1              6\n",
       "5      0            185\n",
       "       1              2\n",
       "6      0             25\n",
       "       1            170\n",
       "7      0            199\n",
       "8      0             13\n",
       "       1             47\n",
       "       2            120\n",
       "9      0             34\n",
       "       1            170\n",
       "dtype: int64"
      ]
     },
     "execution_count": 18,
     "metadata": {},
     "output_type": "execute_result"
    }
   ],
   "source": [
    "data_frame.groupby(['label','num_holes']).size()"
   ]
  }
 ],
 "metadata": {
  "kernelspec": {
   "display_name": "Python 2",
   "language": "python",
   "name": "python2"
  },
  "language_info": {
   "codemirror_mode": {
    "name": "ipython",
    "version": 2
   },
   "file_extension": ".py",
   "mimetype": "text/x-python",
   "name": "python",
   "nbconvert_exporter": "python",
   "pygments_lexer": "ipython2",
   "version": "2.7.12"
  }
 },
 "nbformat": 4,
 "nbformat_minor": 2
}
