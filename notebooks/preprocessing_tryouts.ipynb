{
 "cells": [
  {
   "cell_type": "markdown",
   "metadata": {},
   "source": [
    "# Pre-processing & Classification Try-Outs"
   ]
  },
  {
   "cell_type": "markdown",
   "metadata": {},
   "source": [
    "\\# | Rank | Classifier | Options | Dataset | Score\n",
    "--- | --- | --- | --- | ---| ---\n",
    "1 |1 |SVM/C | `kernel='rbf', C=1.5, gamma=0.2` | Cleaned+Extended+MinMaxScaled | `0.98541666666666672`\n",
    "2 |1 |SVM/C | `kernel='rbf', C=8.7, gamma=0.04` | Cleaned+Extended+MinMaxScaled | `0.98333333333333328`\n",
    "3 |1 |kNN | `n_neigbors=3` | Cleaned+Extended+MinMaxScaled | `0.98333333333333328`\n",
    "\n",
    "Default options:\n",
    "\n",
    "- Scikit Learn train/test split ratio: `.25`.\n",
    "- Normalizing all columns but `num_holes`.\n",
    "\n",
    "## outdated\n",
    "\n",
    "\\# | Rank | Classifier | Options | Dataset | Score\n",
    "--- | --- | --- | --- | ---| ---\n",
    "1 |1 |SVM/C | `kernel='rbf', C=6.6, gamma=0.35` | Cleaned+MinMaxScaled | `0.978873239436`\n",
    "1 |1 |SVM/C | `kernel='rbf', C=3.9, gamma=0.59` | Cleaned+MinMaxScaled | `0.978873239436`\n",
    "1 |1 |SVM/C | `C=2.0` | Cleaned+MinMaxScaled | `0.973958333333`\n",
    "2 |1 |SVM/C | `C=4.9` | Cleaned+RobustScaled | `0.973958333333`\n",
    "3 |3 |SVM/C | `kernel='rbf', C=3.9` | Cleaned+MinMaxScaled | `0.967391304347`\n",
    "4 |3 |SVM/C | `kernel='sigmoid', C=9.6` | Cleaned+MinMaxScaled | `0.967391304347`\n",
    "5 |5 |RandomForest | `n_estimators=70` | Cleaned | `0.953125000000`\n",
    "6 |5 |RandomForest | `n_estimators=70` | Cleaned+MinMaxScaled | `0.953125000000`\n",
    "7 |5 |SVM/C | `C=2.6` | Cleaned+QuantileTransformed | `0.953125000000`\n",
    "8 |8 |SVM/C | `C=4.3` | Cleaned | `0.947916666667`\n",
    "9 |8 |RandomForest | `n_estimators=16` | Cleaned+RobustScaled | `0.947916666667`\n",
    "10|8 |RandomForest | `n_estimators=32` | Cleaned+QuantileTransformed | `0.947916666667`\n",
    "11|11|RandomForest | `n_estimators=90` | Full | `0.942708333333`\n",
    "12|12|SVM/C | `default` | Full | `0.932291666667`\n",
    "\n",
    "Default options:\n",
    "\n",
    "- RandomForest with `n_estimators=50`, `oob_score=True` and `random_state=123456`.\n",
    "- SVM/C with `kernel=linear`, `C=1.0`.\n",
    "\n",
    "Normalizing all columns but `num_holes`."
   ]
  },
  {
   "cell_type": "code",
   "execution_count": 1,
   "metadata": {},
   "outputs": [],
   "source": [
    "# IMPORTS AND NOTEBOOK SETUP\n",
    "import matplotlib\n",
    "import matplotlib.pyplot as plt\n",
    "import numpy as np\n",
    "import pandas as pd"
   ]
  },
  {
   "cell_type": "code",
   "execution_count": 2,
   "metadata": {},
   "outputs": [
    {
     "data": {
      "text/html": [
       "<div>\n",
       "<table border=\"1\" class=\"dataframe\">\n",
       "  <thead>\n",
       "    <tr style=\"text-align: right;\">\n",
       "      <th></th>\n",
       "      <th>area</th>\n",
       "      <th>contours</th>\n",
       "      <th>radius</th>\n",
       "      <th>hull_radius</th>\n",
       "      <th>centroid_x</th>\n",
       "      <th>centroid_y</th>\n",
       "      <th>weight_0_0</th>\n",
       "      <th>weight_0_1</th>\n",
       "      <th>weight_0_2</th>\n",
       "      <th>weight_0_3</th>\n",
       "      <th>...</th>\n",
       "      <th>weight_2_0</th>\n",
       "      <th>weight_2_1</th>\n",
       "      <th>weight_2_2</th>\n",
       "      <th>weight_2_3</th>\n",
       "      <th>weight_3_0</th>\n",
       "      <th>weight_3_1</th>\n",
       "      <th>weight_3_2</th>\n",
       "      <th>weight_3_3</th>\n",
       "      <th>num_holes</th>\n",
       "      <th>label</th>\n",
       "    </tr>\n",
       "  </thead>\n",
       "  <tbody>\n",
       "    <tr>\n",
       "      <th>count</th>\n",
       "      <td>1920.000000</td>\n",
       "      <td>1920.000000</td>\n",
       "      <td>1920.000000</td>\n",
       "      <td>1920.000000</td>\n",
       "      <td>1920.000000</td>\n",
       "      <td>1920.000000</td>\n",
       "      <td>1920.000000</td>\n",
       "      <td>1920.000000</td>\n",
       "      <td>1920.000000</td>\n",
       "      <td>1920.000000</td>\n",
       "      <td>...</td>\n",
       "      <td>1920.000000</td>\n",
       "      <td>1920.000000</td>\n",
       "      <td>1920.000000</td>\n",
       "      <td>1920.000000</td>\n",
       "      <td>1920.000000</td>\n",
       "      <td>1920.000000</td>\n",
       "      <td>1920.000000</td>\n",
       "      <td>1920.000000</td>\n",
       "      <td>1920.000000</td>\n",
       "      <td>1920.000000</td>\n",
       "    </tr>\n",
       "    <tr>\n",
       "      <th>mean</th>\n",
       "      <td>291.653385</td>\n",
       "      <td>44.952083</td>\n",
       "      <td>10.493405</td>\n",
       "      <td>13.664167</td>\n",
       "      <td>15.859298</td>\n",
       "      <td>15.380416</td>\n",
       "      <td>2.320312</td>\n",
       "      <td>42.125000</td>\n",
       "      <td>38.457292</td>\n",
       "      <td>4.064063</td>\n",
       "      <td>...</td>\n",
       "      <td>3.515104</td>\n",
       "      <td>31.285937</td>\n",
       "      <td>36.993750</td>\n",
       "      <td>6.548958</td>\n",
       "      <td>1.218229</td>\n",
       "      <td>37.840625</td>\n",
       "      <td>39.710417</td>\n",
       "      <td>6.739583</td>\n",
       "      <td>0.379688</td>\n",
       "      <td>4.532813</td>\n",
       "    </tr>\n",
       "    <tr>\n",
       "      <th>std</th>\n",
       "      <td>67.428881</td>\n",
       "      <td>8.744703</td>\n",
       "      <td>0.889372</td>\n",
       "      <td>0.814930</td>\n",
       "      <td>1.193617</td>\n",
       "      <td>1.869070</td>\n",
       "      <td>3.623932</td>\n",
       "      <td>13.615466</td>\n",
       "      <td>15.544662</td>\n",
       "      <td>8.440119</td>\n",
       "      <td>...</td>\n",
       "      <td>5.690358</td>\n",
       "      <td>19.265783</td>\n",
       "      <td>14.245519</td>\n",
       "      <td>6.925247</td>\n",
       "      <td>2.723832</td>\n",
       "      <td>14.236761</td>\n",
       "      <td>16.414749</td>\n",
       "      <td>9.965595</td>\n",
       "      <td>0.584767</td>\n",
       "      <td>2.868122</td>\n",
       "    </tr>\n",
       "    <tr>\n",
       "      <th>min</th>\n",
       "      <td>153.000000</td>\n",
       "      <td>20.000000</td>\n",
       "      <td>8.303587</td>\n",
       "      <td>11.549360</td>\n",
       "      <td>11.835737</td>\n",
       "      <td>10.582800</td>\n",
       "      <td>0.000000</td>\n",
       "      <td>0.000000</td>\n",
       "      <td>0.000000</td>\n",
       "      <td>0.000000</td>\n",
       "      <td>...</td>\n",
       "      <td>0.000000</td>\n",
       "      <td>0.000000</td>\n",
       "      <td>0.000000</td>\n",
       "      <td>0.000000</td>\n",
       "      <td>0.000000</td>\n",
       "      <td>0.000000</td>\n",
       "      <td>0.000000</td>\n",
       "      <td>0.000000</td>\n",
       "      <td>0.000000</td>\n",
       "      <td>0.000000</td>\n",
       "    </tr>\n",
       "    <tr>\n",
       "      <th>25%</th>\n",
       "      <td>244.000000</td>\n",
       "      <td>39.000000</td>\n",
       "      <td>9.822737</td>\n",
       "      <td>13.067626</td>\n",
       "      <td>15.077516</td>\n",
       "      <td>14.116460</td>\n",
       "      <td>0.000000</td>\n",
       "      <td>36.000000</td>\n",
       "      <td>29.000000</td>\n",
       "      <td>0.000000</td>\n",
       "      <td>...</td>\n",
       "      <td>0.000000</td>\n",
       "      <td>15.000000</td>\n",
       "      <td>28.000000</td>\n",
       "      <td>0.000000</td>\n",
       "      <td>0.000000</td>\n",
       "      <td>31.000000</td>\n",
       "      <td>33.000000</td>\n",
       "      <td>0.000000</td>\n",
       "      <td>0.000000</td>\n",
       "      <td>2.000000</td>\n",
       "    </tr>\n",
       "    <tr>\n",
       "      <th>50%</th>\n",
       "      <td>275.500000</td>\n",
       "      <td>44.000000</td>\n",
       "      <td>10.369215</td>\n",
       "      <td>13.617666</td>\n",
       "      <td>15.797984</td>\n",
       "      <td>15.295089</td>\n",
       "      <td>0.000000</td>\n",
       "      <td>45.000000</td>\n",
       "      <td>40.000000</td>\n",
       "      <td>0.000000</td>\n",
       "      <td>...</td>\n",
       "      <td>0.000000</td>\n",
       "      <td>32.000000</td>\n",
       "      <td>38.000000</td>\n",
       "      <td>5.000000</td>\n",
       "      <td>0.000000</td>\n",
       "      <td>40.000000</td>\n",
       "      <td>44.000000</td>\n",
       "      <td>2.000000</td>\n",
       "      <td>0.000000</td>\n",
       "      <td>5.000000</td>\n",
       "    </tr>\n",
       "    <tr>\n",
       "      <th>75%</th>\n",
       "      <td>326.000000</td>\n",
       "      <td>51.000000</td>\n",
       "      <td>11.043633</td>\n",
       "      <td>14.191667</td>\n",
       "      <td>16.571982</td>\n",
       "      <td>16.354908</td>\n",
       "      <td>4.000000</td>\n",
       "      <td>52.000000</td>\n",
       "      <td>50.000000</td>\n",
       "      <td>4.000000</td>\n",
       "      <td>...</td>\n",
       "      <td>6.000000</td>\n",
       "      <td>48.000000</td>\n",
       "      <td>47.000000</td>\n",
       "      <td>11.000000</td>\n",
       "      <td>1.000000</td>\n",
       "      <td>47.000000</td>\n",
       "      <td>51.000000</td>\n",
       "      <td>10.000000</td>\n",
       "      <td>1.000000</td>\n",
       "      <td>7.000000</td>\n",
       "    </tr>\n",
       "    <tr>\n",
       "      <th>max</th>\n",
       "      <td>512.000000</td>\n",
       "      <td>88.000000</td>\n",
       "      <td>13.117590</td>\n",
       "      <td>16.446964</td>\n",
       "      <td>20.410788</td>\n",
       "      <td>20.841542</td>\n",
       "      <td>22.000000</td>\n",
       "      <td>64.000000</td>\n",
       "      <td>64.000000</td>\n",
       "      <td>62.000000</td>\n",
       "      <td>...</td>\n",
       "      <td>39.000000</td>\n",
       "      <td>64.000000</td>\n",
       "      <td>64.000000</td>\n",
       "      <td>31.000000</td>\n",
       "      <td>29.000000</td>\n",
       "      <td>64.000000</td>\n",
       "      <td>64.000000</td>\n",
       "      <td>55.000000</td>\n",
       "      <td>2.000000</td>\n",
       "      <td>9.000000</td>\n",
       "    </tr>\n",
       "  </tbody>\n",
       "</table>\n",
       "<p>8 rows × 24 columns</p>\n",
       "</div>"
      ],
      "text/plain": [
       "              area     contours       radius  hull_radius   centroid_x  \\\n",
       "count  1920.000000  1920.000000  1920.000000  1920.000000  1920.000000   \n",
       "mean    291.653385    44.952083    10.493405    13.664167    15.859298   \n",
       "std      67.428881     8.744703     0.889372     0.814930     1.193617   \n",
       "min     153.000000    20.000000     8.303587    11.549360    11.835737   \n",
       "25%     244.000000    39.000000     9.822737    13.067626    15.077516   \n",
       "50%     275.500000    44.000000    10.369215    13.617666    15.797984   \n",
       "75%     326.000000    51.000000    11.043633    14.191667    16.571982   \n",
       "max     512.000000    88.000000    13.117590    16.446964    20.410788   \n",
       "\n",
       "        centroid_y   weight_0_0   weight_0_1   weight_0_2   weight_0_3  \\\n",
       "count  1920.000000  1920.000000  1920.000000  1920.000000  1920.000000   \n",
       "mean     15.380416     2.320312    42.125000    38.457292     4.064063   \n",
       "std       1.869070     3.623932    13.615466    15.544662     8.440119   \n",
       "min      10.582800     0.000000     0.000000     0.000000     0.000000   \n",
       "25%      14.116460     0.000000    36.000000    29.000000     0.000000   \n",
       "50%      15.295089     0.000000    45.000000    40.000000     0.000000   \n",
       "75%      16.354908     4.000000    52.000000    50.000000     4.000000   \n",
       "max      20.841542    22.000000    64.000000    64.000000    62.000000   \n",
       "\n",
       "          ...        weight_2_0   weight_2_1   weight_2_2   weight_2_3  \\\n",
       "count     ...       1920.000000  1920.000000  1920.000000  1920.000000   \n",
       "mean      ...          3.515104    31.285937    36.993750     6.548958   \n",
       "std       ...          5.690358    19.265783    14.245519     6.925247   \n",
       "min       ...          0.000000     0.000000     0.000000     0.000000   \n",
       "25%       ...          0.000000    15.000000    28.000000     0.000000   \n",
       "50%       ...          0.000000    32.000000    38.000000     5.000000   \n",
       "75%       ...          6.000000    48.000000    47.000000    11.000000   \n",
       "max       ...         39.000000    64.000000    64.000000    31.000000   \n",
       "\n",
       "        weight_3_0   weight_3_1   weight_3_2   weight_3_3    num_holes  \\\n",
       "count  1920.000000  1920.000000  1920.000000  1920.000000  1920.000000   \n",
       "mean      1.218229    37.840625    39.710417     6.739583     0.379688   \n",
       "std       2.723832    14.236761    16.414749     9.965595     0.584767   \n",
       "min       0.000000     0.000000     0.000000     0.000000     0.000000   \n",
       "25%       0.000000    31.000000    33.000000     0.000000     0.000000   \n",
       "50%       0.000000    40.000000    44.000000     2.000000     0.000000   \n",
       "75%       1.000000    47.000000    51.000000    10.000000     1.000000   \n",
       "max      29.000000    64.000000    64.000000    55.000000     2.000000   \n",
       "\n",
       "             label  \n",
       "count  1920.000000  \n",
       "mean      4.532813  \n",
       "std       2.868122  \n",
       "min       0.000000  \n",
       "25%       2.000000  \n",
       "50%       5.000000  \n",
       "75%       7.000000  \n",
       "max       9.000000  \n",
       "\n",
       "[8 rows x 24 columns]"
      ]
     },
     "execution_count": 2,
     "metadata": {},
     "output_type": "execute_result"
    }
   ],
   "source": [
    "# IMPORTING OUR DATASET\n",
    "data_full = pd.read_csv('../dataset-numpy/dataset.csv')\n",
    "data_clean_manual = pd.read_csv('../dataset-numpy/dataset-clean-manual.csv')\n",
    "data_ext_clean_manual = pd.read_csv('../dataset-numpy/dataset-extended-clean-manual.csv')\n",
    "data_clean_manual.describe()"
   ]
  },
  {
   "cell_type": "markdown",
   "metadata": {},
   "source": [
    "## Normalization"
   ]
  },
  {
   "cell_type": "code",
   "execution_count": 3,
   "metadata": {},
   "outputs": [],
   "source": [
    "columns = ['area', 'contours', 'radius', 'hull_radius', 'centroid_x', 'centroid_y']\n",
    "columns_ext = columns[:] # copy\n",
    "COUNT = 8\n",
    "for x in range(COUNT):\n",
    "    for y in range(COUNT):\n",
    "        name = '_'.join(['weight', str(x), str(y)])\n",
    "        columns_ext.append(name)\n",
    "        if x < 4 and y < 4:\n",
    "            columns.append(name)\n",
    "        \n",
    "def scale(data, scaler, columns):\n",
    "    return pd.DataFrame(scaler.fit_transform(data[columns]), columns=columns)"
   ]
  },
  {
   "cell_type": "markdown",
   "metadata": {},
   "source": [
    "### MinMaxScaler"
   ]
  },
  {
   "cell_type": "code",
   "execution_count": 4,
   "metadata": {},
   "outputs": [
    {
     "name": "stdout",
     "output_type": "stream",
     "text": [
      "(1920, 24) (1920, 72)\n"
     ]
    }
   ],
   "source": [
    "from sklearn.preprocessing import MinMaxScaler\n",
    "\n",
    "minmaxscaled = data_clean_manual.copy()\n",
    "minmaxscaled[columns] = scale(data_clean_manual, MinMaxScaler(), columns)\n",
    "\n",
    "minmaxscaled_ext = data_ext_clean_manual.copy()\n",
    "minmaxscaled_ext[columns_ext] = scale(data_ext_clean_manual, MinMaxScaler(), columns_ext)\n",
    "\n",
    "print minmaxscaled.shape, minmaxscaled_ext.shape"
   ]
  },
  {
   "cell_type": "markdown",
   "metadata": {},
   "source": [
    "### RobustScaler"
   ]
  },
  {
   "cell_type": "code",
   "execution_count": null,
   "metadata": {},
   "outputs": [],
   "source": [
    "from sklearn.preprocessing import RobustScaler\n",
    "\n",
    "robustscaled = data_clean_manual.copy()\n",
    "robustscaled[columns] = scale(data_clean_manual, RobustScaler(), columns)\n",
    "robustscaled.describe()"
   ]
  },
  {
   "cell_type": "markdown",
   "metadata": {},
   "source": [
    "### QuantileTransformer"
   ]
  },
  {
   "cell_type": "code",
   "execution_count": null,
   "metadata": {},
   "outputs": [],
   "source": [
    "from sklearn.preprocessing import QuantileTransformer\n",
    "\n",
    "quantiletransformed = data_clean_manual.copy()\n",
    "quantiletransformed[columns] = scale(data_clean_manual, QuantileTransformer(), columns)\n",
    "quantiletransformed.describe()"
   ]
  },
  {
   "cell_type": "markdown",
   "metadata": {},
   "source": [
    "## Splitting the dataset"
   ]
  },
  {
   "cell_type": "code",
   "execution_count": 5,
   "metadata": {},
   "outputs": [],
   "source": [
    "def split_data(data, split, validation):\n",
    "    border = int(len(data) * split)\n",
    "    train_data = data[:border]\n",
    "    test_data = data[border:]\n",
    "\n",
    "    assert len(train_data) + len(test_data) == len(data), \"Invalid split!\"\n",
    "\n",
    "    X_train = train_data.iloc[:,:-1]\n",
    "    Y_train = train_data.iloc[:,-1]\n",
    "\n",
    "    X_test = test_data.iloc[validation:,:-1]\n",
    "    Y_test = test_data.iloc[validation:,-1]\n",
    "    \n",
    "    X_validate = test_data.iloc[:validation,:-1]\n",
    "    Y_validate = test_data.iloc[:validation,-1]\n",
    "    return X_train, Y_train, X_test, Y_test, X_validate, Y_validate\n",
    "\n",
    "X_train, Y_train, X_test, Y_test, X_validate, Y_validate = split_data(minmaxscaled_ext, .2, 0)"
   ]
  },
  {
   "cell_type": "code",
   "execution_count": 10,
   "metadata": {},
   "outputs": [],
   "source": [
    "from sklearn.model_selection import train_test_split\n",
    "\n",
    "data = minmaxscaled_ext\n",
    "X_train, X_test, Y_train, Y_test = train_test_split(data.iloc[:,:-1], data.iloc[:,-1], test_size=.25)"
   ]
  },
  {
   "cell_type": "markdown",
   "metadata": {},
   "source": [
    "## Try Random Forest Classifier"
   ]
  },
  {
   "cell_type": "code",
   "execution_count": null,
   "metadata": {},
   "outputs": [],
   "source": [
    "# RANDOM FOREST\n",
    "from sklearn.ensemble import RandomForestClassifier\n",
    "\n",
    "top_rf = (2, 0.0)\n",
    "for n_e in range(2, 101):\n",
    "    rf = RandomForestClassifier(n_estimators=n_e, oob_score=True, random_state=123456)\n",
    "    rf.fit(X_train, Y_train)\n",
    "    score = rf.score(X_test, Y_test)\n",
    "    if score > top_rf[1]:\n",
    "        top_rf = (n_e, score)\n",
    "        print('N_E:', n_e, 'Score:', score)\n",
    "print('Top:', top_rf)"
   ]
  },
  {
   "cell_type": "markdown",
   "metadata": {},
   "source": [
    "## Try Support Vector Machine"
   ]
  },
  {
   "cell_type": "code",
   "execution_count": 11,
   "metadata": {},
   "outputs": [
    {
     "name": "stdout",
     "output_type": "stream",
     "text": [
      "('Score:', 0.98541666666666672)\n"
     ]
    }
   ],
   "source": [
    "# SVM\n",
    "from sklearn import svm\n",
    "\n",
    "svc = svm.SVC(kernel='rbf', C=1.5, gamma=.2)\n",
    "svc.fit(X_train, Y_train)\n",
    "print('Score:', svc.score(X_test, Y_test))"
   ]
  },
  {
   "cell_type": "markdown",
   "metadata": {},
   "source": [
    "### Predicting some validation values"
   ]
  },
  {
   "cell_type": "code",
   "execution_count": null,
   "metadata": {},
   "outputs": [],
   "source": [
    "for i in range(len(X_validate)):\n",
    "    sample = np.array(X_validate.iloc[i,:], dtype=pd.Series).reshape(1, -1)\n",
    "    label = Y_validate.iloc[i]\n",
    "    prediction = svc.predict(sample)[0]\n",
    "    print('prediction:', prediction, '== label', label, ':', prediction == label)"
   ]
  },
  {
   "cell_type": "markdown",
   "metadata": {},
   "source": [
    "### Finding the optimal C value"
   ]
  },
  {
   "cell_type": "code",
   "execution_count": null,
   "metadata": {
    "scrolled": true
   },
   "outputs": [],
   "source": [
    "Cs = np.arange(.1, 10, 0.1)\n",
    "scores = np.zeros((len(Cs)))\n",
    "index = 0\n",
    "top = (.1, 0)\n",
    "for c in Cs:\n",
    "    print('%d / %d' % (index, len(Cs)-1))\n",
    "    svc = svm.SVC(kernel='linear', C=c)\n",
    "    svc.fit(X_train, Y_train)\n",
    "    score = svc.score(X_test, Y_test)\n",
    "    scores[index] = score\n",
    "    if score > top[1]:\n",
    "        top = (c, score)\n",
    "    index += 1\n",
    "\n",
    "print('Top:', top)"
   ]
  },
  {
   "cell_type": "code",
   "execution_count": null,
   "metadata": {},
   "outputs": [],
   "source": [
    "print('Max:', scores.max())\n",
    "plt.plot(Cs, scores)"
   ]
  },
  {
   "cell_type": "markdown",
   "metadata": {},
   "source": [
    "### Finding the optimal gamma for RBF kernel"
   ]
  },
  {
   "cell_type": "code",
   "execution_count": null,
   "metadata": {
    "scrolled": true
   },
   "outputs": [],
   "source": [
    "Gs = np.arange(.1, 4, .1)\n",
    "Cs = np.arange(.1, 10, .1)\n",
    "\n",
    "steps = len(Gs) * len(Cs)\n",
    "scores = np.zeros((steps))\n",
    "index = 0\n",
    "top = (.1, .01, 0)\n",
    "\n",
    "for g in Gs:\n",
    "    for c in Cs:\n",
    "        print('%d / %d' % (index, steps))\n",
    "        svc = svm.SVC(kernel='rbf', C=c, gamma=g)\n",
    "        svc.fit(X_train, Y_train)\n",
    "        score = svc.score(X_test, Y_test)\n",
    "        scores[index] = score\n",
    "        if score > top[2]:\n",
    "            top = (c, g, score)\n",
    "        index += 1\n",
    "\n",
    "print('Top:', top)"
   ]
  },
  {
   "cell_type": "markdown",
   "metadata": {},
   "source": [
    "## Try SGD"
   ]
  },
  {
   "cell_type": "code",
   "execution_count": null,
   "metadata": {},
   "outputs": [],
   "source": [
    "from sklearn import linear_model\n",
    "\n",
    "sgd = linear_model.SGDClassifier(max_iter=1000)\n",
    "sgd.fit(X_train, Y_train)\n",
    "score = sgd.score(X_test, Y_test)\n",
    "print(score)"
   ]
  },
  {
   "cell_type": "markdown",
   "metadata": {},
   "source": [
    "## Try kNN"
   ]
  },
  {
   "cell_type": "code",
   "execution_count": 8,
   "metadata": {},
   "outputs": [
    {
     "name": "stdout",
     "output_type": "stream",
     "text": [
      "0.98125\n"
     ]
    }
   ],
   "source": [
    "from sklearn.neighbors import KNeighborsClassifier\n",
    "\n",
    "knn = KNeighborsClassifier(n_neighbors=3)\n",
    "knn.fit(X_train, Y_train)\n",
    "score = knn.score(X_test, Y_test)\n",
    "print(score)"
   ]
  },
  {
   "cell_type": "code",
   "execution_count": null,
   "metadata": {
    "scrolled": true
   },
   "outputs": [],
   "source": [
    "Ns = range(3, 30)\n",
    "scores = np.zeros((len(Ns)))\n",
    "index = 0\n",
    "top = (3, 0)\n",
    "for n in Ns:\n",
    "    print('%d / %d (%d)' % (index, len(Ns)-1, n))\n",
    "    knn = KNeighborsClassifier(n_neighbors=n)\n",
    "    knn.fit(X_train, Y_train)\n",
    "    score = knn.score(X_test, Y_test)\n",
    "    scores[index] = score\n",
    "    if score > top[1]:\n",
    "        top = (n, score)\n",
    "    index += 1\n",
    "\n",
    "print('Top:', top)"
   ]
  },
  {
   "cell_type": "markdown",
   "metadata": {},
   "source": [
    "## Combining Automation"
   ]
  },
  {
   "cell_type": "code",
   "execution_count": null,
   "metadata": {},
   "outputs": [],
   "source": [
    "from sklearn.model_selection import GridSearchCV\n",
    "from sklearn.model_selection import train_test_split\n",
    "from sklearn.ensemble import RandomForestClassifier\n",
    "from sklearn.ensemble import AdaBoostClassifier\n",
    "from sklearn import svm\n",
    "\n",
    "datasets = [\n",
    "    ('Cleaned+MinMaxScaled', minmaxscaled),\n",
    "    ('Cleaned+Extended+MinMaxScaled', minmaxscaled_ext)\n",
    "]\n",
    "\n",
    "options = {\n",
    "    'AdaBoost': {\n",
    "        'base_estimator': [\n",
    "            svm.SVC(kernel='rbf', C=8.7, gamma=0.04),\n",
    "            RandomForestClassifier(n_estimators=69)\n",
    "        ],\n",
    "        'algorithm': ['SAMME']\n",
    "    },\n",
    "    'SVM/C': {\n",
    "        'kernel': ('linear', 'rbf'),\n",
    "        'C': np.arange(.1, 12.0, .2),\n",
    "        'gamma': [.001, .005, .01, .025, .05, .075, .1, .25, .5, 1, 3, 5, 8]\n",
    "    },\n",
    "    'RandomForest': {\n",
    "        'n_estimators': range(10, 70)\n",
    "    }\n",
    "}\n",
    "\n",
    "classifiers = [\n",
    "#     ('AdaBoost', AdaBoostClassifier),\n",
    "    ('SVM/C', svm.SVC),\n",
    "#     ('RandomForest', RandomForestClassifier)\n",
    "]\n",
    "\n",
    "def search(classifiers, options, datasets, test_size, random_state):\n",
    "    results = {\n",
    "        'rank': [],\n",
    "        'classifier': [],\n",
    "        'options': [],\n",
    "        'dataset': [],\n",
    "        'score': []\n",
    "    }\n",
    "\n",
    "    for dataset in datasets:\n",
    "        X_train, X_test, Y_train, Y_test = train_test_split(dataset[1].iloc[:,:-1], dataset[1].iloc[:,-1],\\\n",
    "                                                            test_size=test_size, random_state=random_state)\n",
    "        \n",
    "        for classifier in classifiers:\n",
    "            name = classifier[0]\n",
    "            print 'Testing', dataset[0], 'on', name, '...'\n",
    "\n",
    "            model = GridSearchCV(classifier[1](), options[name], verbose=1, cv=3)\n",
    "            model.fit(X_train, Y_train)\n",
    "            \n",
    "            print 'Params:', model.best_params_\n",
    "            print 'MSE:', model.best_score_\n",
    "            print\n",
    "            \n",
    "            results['rank'].append(0)\n",
    "            results['classifier'].append(name)\n",
    "            results['options'].append(str(model.best_params_))\n",
    "            results['dataset'].append(dataset[0])\n",
    "            results['score'].append(model.best_score_)\n",
    "            \n",
    "    return results\n",
    "\n",
    "results = search(classifiers, options, datasets, .35, 123456)"
   ]
  },
  {
   "cell_type": "code",
   "execution_count": null,
   "metadata": {},
   "outputs": [],
   "source": [
    "results_df = pd.DataFrame(results).sort_values(['score'], ascending=[False])\n",
    "results_df['rank'] = pd.Series(range(1, len(results_df) + 1), index=results_df.index)\n",
    "results_df[['rank', 'classifier', 'options', 'dataset', 'score']].to_csv('../classifiers/results_testsize35.csv', sep=',', encoding='utf-8', index=False)"
   ]
  },
  {
   "cell_type": "markdown",
   "metadata": {},
   "source": [
    "## Confusion Matrix"
   ]
  },
  {
   "cell_type": "code",
   "execution_count": 9,
   "metadata": {},
   "outputs": [
    {
     "name": "stdout",
     "output_type": "stream",
     "text": [
      "('Accuracy', 0.97499999999999998)\n"
     ]
    },
    {
     "data": {
      "image/png": "[encoded data removed]",
      "text/plain": [
       "<Figure size 432x288 with 2 Axes>"
      ]
     },
     "metadata": {
      "needs_background": "light"
     },
     "output_type": "display_data"
    }
   ],
   "source": [
    "from sklearn.metrics import confusion_matrix\n",
    "import itertools\n",
    "\n",
    "best = svm.SVC(kernel='rbf', C=1.5, gamma=0.2)\n",
    "\n",
    "Y_pred = best.fit(X_train, Y_train).predict(X_test)\n",
    "\n",
    "def plot_confusion_matrix(cm, classes):\n",
    "#     print(cm)\n",
    "    plt.imshow(cm, interpolation='nearest', cmap=plt.cm.Blues)\n",
    "    plt.title('Confusion matrix')\n",
    "    plt.colorbar()\n",
    "    tick_marks = np.arange(len(classes))\n",
    "    plt.xticks(tick_marks, classes, rotation=45)\n",
    "    plt.yticks(tick_marks, classes)\n",
    "\n",
    "    fmt = 'd'\n",
    "    thresh = cm.max() / 2.\n",
    "    for i, j in itertools.product(range(cm.shape[0]), range(cm.shape[1])):\n",
    "        plt.text(j, i, format(cm[i, j], fmt),\n",
    "                 horizontalalignment=\"center\",\n",
    "                 color=\"white\" if cm[i, j] > thresh else \"black\")\n",
    "\n",
    "    plt.ylabel('True label')\n",
    "    plt.xlabel('Predicted label')\n",
    "    plt.tight_layout()\n",
    "\n",
    "# Compute confusion matrix\n",
    "cnf_matrix = confusion_matrix(Y_test, Y_pred)\n",
    "np.set_printoptions(precision=2)\n",
    "\n",
    "# Plot non-normalized confusion matrix\n",
    "plt.figure()\n",
    "\n",
    "print('Accuracy', best.score(X_test, Y_test))\n",
    "plot_confusion_matrix(cnf_matrix, classes=range(0,10))\n",
    "\n",
    "plt.show()"
   ]
  },
  {
   "cell_type": "code",
   "execution_count": null,
   "metadata": {},
   "outputs": [],
   "source": []
  }
 ],
 "metadata": {
  "kernelspec": {
   "display_name": "Python 2",
   "language": "python",
   "name": "python2"
  },
  "language_info": {
   "codemirror_mode": {
    "name": "ipython",
    "version": 2
   },
   "file_extension": ".py",
   "mimetype": "text/x-python",
   "name": "python",
   "nbconvert_exporter": "python",
   "pygments_lexer": "ipython2",
   "version": "2.7.12"
  }
 },
 "nbformat": 4,
 "nbformat_minor": 2
}
