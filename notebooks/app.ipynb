{
 "cells": [
  {
   "cell_type": "markdown",
   "metadata": {},
   "source": [
    "# Digit Recognition App\n",
    "\n",
    "To run: Kernel -> Restart & Run All"
   ]
  },
  {
   "cell_type": "code",
   "execution_count": 1,
   "metadata": {},
   "outputs": [],
   "source": [
    "import ipywidgets as w\n",
    "import pandas as pd\n",
    "\n",
    "from SimpleCV import *\n",
    "from ipywidgets import widgets, HBox, VBox\n",
    "from IPython.display import display\n",
    "from sklearn.externals import joblib\n",
    "\n",
    "disp = Display(displaytype='notebook')\n",
    "app = w.Output()\n",
    "\n",
    "FILE_NAME = None\n",
    "IMAGES = None\n",
    "FILES = []"
   ]
  },
  {
   "cell_type": "markdown",
   "metadata": {},
   "source": [
    "### Importing Normalizer & Classifier"
   ]
  },
  {
   "cell_type": "code",
   "execution_count": 2,
   "metadata": {},
   "outputs": [],
   "source": [
    "CLASSIFIER = joblib.load('classifier_svm_v6.joblib')\n",
    "SCALER = joblib.load('scaler_svm_v6.joblib')\n",
    "COLUMNS = [u'area', u'contours', u'radius', u'hull_radius', u'centroid_x',\n",
    "       u'centroid_y', u'angle', u'weight_0_2', u'weight_0_3', u'weight_0_4',\n",
    "       u'weight_0_5', u'weight_0_6', u'weight_1_1', u'weight_1_2',\n",
    "       u'weight_1_3', u'weight_1_4', u'weight_1_5', u'weight_1_6',\n",
    "       u'weight_2_1', u'weight_2_2', u'weight_2_3', u'weight_2_4',\n",
    "       u'weight_2_5', u'weight_2_6', u'weight_3_1', u'weight_3_2',\n",
    "       u'weight_3_3', u'weight_3_4', u'weight_3_5', u'weight_3_6',\n",
    "       u'weight_4_1', u'weight_4_2', u'weight_4_3', u'weight_4_4',\n",
    "       u'weight_4_5', u'weight_4_6', u'weight_5_1', u'weight_5_2',\n",
    "       u'weight_5_3', u'weight_5_4', u'weight_5_5', u'weight_5_6',\n",
    "       u'weight_6_1', u'weight_6_2', u'weight_6_3', u'weight_6_4',\n",
    "       u'weight_6_5', u'weight_6_6', u'weight_7_2', u'weight_7_3',\n",
    "       u'weight_7_4', u'weight_7_5', u'weight_7_6', u'weight_7_7', u'num_holes']\n",
    "COLUMNS_TO_NORMALIZE = [u'area', u'contours', u'radius', u'hull_radius', u'centroid_x',\n",
    "       u'centroid_y', u'angle', u'weight_0_2', u'weight_0_3', u'weight_0_4',\n",
    "       u'weight_0_5', u'weight_0_6', u'weight_1_1', u'weight_1_2',\n",
    "       u'weight_1_3', u'weight_1_4', u'weight_1_5', u'weight_1_6',\n",
    "       u'weight_2_1', u'weight_2_2', u'weight_2_3', u'weight_2_4',\n",
    "       u'weight_2_5', u'weight_2_6', u'weight_3_1', u'weight_3_2',\n",
    "       u'weight_3_3', u'weight_3_4', u'weight_3_5', u'weight_3_6',\n",
    "       u'weight_4_1', u'weight_4_2', u'weight_4_3', u'weight_4_4',\n",
    "       u'weight_4_5', u'weight_4_6', u'weight_5_1', u'weight_5_2',\n",
    "       u'weight_5_3', u'weight_5_4', u'weight_5_5', u'weight_5_6',\n",
    "       u'weight_6_1', u'weight_6_2', u'weight_6_3', u'weight_6_4',\n",
    "       u'weight_6_5', u'weight_6_6', u'weight_7_2', u'weight_7_3',\n",
    "       u'weight_7_4', u'weight_7_5', u'weight_7_6', u'weight_7_7']"
   ]
  },
  {
   "cell_type": "markdown",
   "metadata": {},
   "source": [
    "### Image Selection Logic"
   ]
  },
  {
   "cell_type": "code",
   "execution_count": 3,
   "metadata": {},
   "outputs": [],
   "source": [
    "def on_path_select(b):\n",
    "    global FILES\n",
    "    FILES = sorted(glob.glob(os.path.join(input_path.value, \"*.png\")))\n",
    "    dropdown_image.options = FILES\n",
    "\n",
    "def on_image_select(b):\n",
    "    global FILE_NAME\n",
    "    FILE_NAME = dropdown_image.value\n",
    "    if FILE_NAME:\n",
    "        # preview UI\n",
    "        image_preview.value = w.Image.from_file(FILE_NAME).value\n",
    "        # reset prediction UI\n",
    "        reset_labels()\n",
    "\n",
    "        get_individual_images(FILE_NAME)\n",
    "        \n",
    "        # update preview\n",
    "        if IMAGES:\n",
    "            for i in range(4):\n",
    "                digit_previews[i].clear_output()\n",
    "                with digit_previews[i]:\n",
    "                    IMAGES[i][1].resize(74, 74).save(disp)"
   ]
  },
  {
   "cell_type": "markdown",
   "metadata": {},
   "source": [
    "### Image Separation Logic"
   ]
  },
  {
   "cell_type": "code",
   "execution_count": 4,
   "metadata": {},
   "outputs": [],
   "source": [
    "# Constant single digit image size\n",
    "SIZE = 32\n",
    "\n",
    "# Return an array of individual images and their digit from the image object\n",
    "def get_individual_images(file_name):\n",
    "    global IMAGES\n",
    "    img = Image(str(file_name))\n",
    "#     if img.size == (128, 32):\n",
    "    IMAGES = [\n",
    "        get_image_obj(crop(img, 0)), \n",
    "        get_image_obj(crop(img, 1)), \n",
    "        get_image_obj(crop(img, 2)), \n",
    "        get_image_obj(crop(img, 3))\n",
    "    ]\n",
    "\n",
    "def get_image_obj(img):\n",
    "    _bin = img.binarize()\n",
    "    return (None, _bin.dilate().erode(), _bin)\n",
    "\n",
    "# Crop and return a part of the source image\n",
    "def crop(img, part):\n",
    "    return img.crop(SIZE * part, 0, SIZE, SIZE)"
   ]
  },
  {
   "cell_type": "markdown",
   "metadata": {},
   "source": [
    "### Feature Extraction Logic"
   ]
  },
  {
   "cell_type": "code",
   "execution_count": 5,
   "metadata": {},
   "outputs": [],
   "source": [
    "def get_weighted_matrix(img):\n",
    "    COUNT = 8 # GRID SIZE\n",
    "    T = 5 # THRESHOLD\n",
    "    CROP = SIZE / COUNT\n",
    "    m = np.zeros((COUNT, COUNT))\n",
    "    for y in range(COUNT):\n",
    "        for x in range(COUNT):\n",
    "            part = img.crop(x * CROP, y * CROP, CROP, CROP)\n",
    "            sum = (part.getNumpy()[:,:,0] / 255).sum()\n",
    "            m[x][y] = sum if sum > T else 0\n",
    "    return m.T\n",
    "\n",
    "def extract_features(image):\n",
    "    # Columns detected using computer vision\n",
    "    features_dict = {\n",
    "        \"area\": [],\n",
    "        \"contours\": [],\n",
    "        \"radius\": [],\n",
    "        \"circle_dist\": [],\n",
    "        \"rect_dist\": [],\n",
    "        \"hull_radius\": [],\n",
    "        \"aspect_ratio\": [],\n",
    "        \"centroid_x\": [],\n",
    "        \"centroid_y\": [],\n",
    "        \"angle\": [],\n",
    "        \"num_holes\": []\n",
    "    }\n",
    "\n",
    "    column_order = [\n",
    "        \"area\",\n",
    "        \"contours\",\n",
    "        \"radius\",\n",
    "        \"circle_dist\",\n",
    "        \"rect_dist\",\n",
    "        \"hull_radius\",\n",
    "        \"aspect_ratio\",\n",
    "        \"centroid_x\",\n",
    "        \"centroid_y\",\n",
    "        \"angle\"\n",
    "    ]\n",
    "\n",
    "    # Adding column names for the low-res pixel count matrix\n",
    "    COUNT = 8\n",
    "    for x in range(COUNT):\n",
    "        for y in range(COUNT):\n",
    "            name = '_'.join(['weight', str(x), str(y)])\n",
    "            column_order.append(name)\n",
    "            features_dict[name] = []\n",
    "\n",
    "    column_order.append(\"num_holes\")\n",
    "    \n",
    "    # HACK TO FIND BLOBS\n",
    "    image[1].show()\n",
    "    # Find blobs in the preprocessed image\n",
    "    blobs = image[1].findBlobs()\n",
    "    if blobs:\n",
    "        blob = blobs[0]\n",
    "        features_dict['area'].append(blob.area())\n",
    "        features_dict['contours'].append(len(blob.contour()))\n",
    "        features_dict['circle_dist'].append(blob.circleDistance())\n",
    "        features_dict['rect_dist'].append(blob.rectangleDistance())\n",
    "        features_dict['radius'].append(blob.radius())\n",
    "        features_dict['hull_radius'].append(blob.hullRadius())\n",
    "        features_dict['aspect_ratio'].append(blob.aspectRatio())\n",
    "        features_dict['centroid_x'].append(blob.centroid()[0])\n",
    "        features_dict['centroid_y'].append(blob.centroid()[1])\n",
    "        features_dict['angle'].append(blob.angle())\n",
    "\n",
    "        # Calculate matrix in the preprocessed image\n",
    "        m = get_weighted_matrix(image[1])\n",
    "        COUNT = 8\n",
    "        for x in range(COUNT):\n",
    "            for y in range(COUNT):\n",
    "                features_dict['_'.join(['weight', str(x), str(y)])].append(m[x, y])\n",
    "\n",
    "        # Find the holes in the 'just binarized' image\n",
    "        num_holes = len(image[2].embiggen(2).invert().findBlobs()[:-1])\n",
    "        features_dict['num_holes'].append(num_holes)\n",
    "    \n",
    "    return pd.DataFrame(features_dict, columns=column_order)"
   ]
  },
  {
   "cell_type": "markdown",
   "metadata": {},
   "source": [
    "### Prediction Logic"
   ]
  },
  {
   "cell_type": "code",
   "execution_count": 6,
   "metadata": {},
   "outputs": [],
   "source": [
    "def predict(index):\n",
    "    if IMAGES:\n",
    "        # extract features\n",
    "        features = extract_features(IMAGES[index])[COLUMNS]\n",
    "        if len(features) == 1:\n",
    "            # normalize\n",
    "            features[COLUMNS_TO_NORMALIZE] = pd.DataFrame(SCALER.transform(features[COLUMNS_TO_NORMALIZE]), \n",
    "                                                          columns=COLUMNS_TO_NORMALIZE)\n",
    "            # predict\n",
    "            prediction = CLASSIFIER.predict(features)[0]\n",
    "            # update UI\n",
    "            set_label(index, prediction)\n",
    "            return prediction\n",
    "    set_label(index, '-')\n",
    "    return None\n",
    "\n",
    "def predict_all(b):\n",
    "    return [predict(0), predict(1), predict(2), predict(3)]"
   ]
  },
  {
   "cell_type": "markdown",
   "metadata": {},
   "source": [
    "### Image Selection UI"
   ]
  },
  {
   "cell_type": "code",
   "execution_count": 7,
   "metadata": {},
   "outputs": [],
   "source": [
    "input_path = w.Text(value=\"../dataset-images/\", placeholder=\"path\", description=\"Image folder:\")\n",
    "button_select_path = w.Button(description='Use')\n",
    "button_select_path.on_click(on_path_select)\n",
    "\n",
    "dropdown_image = w.Dropdown(description='Image:')\n",
    "button_select_image = w.Button(description=\"Use\")\n",
    "button_select_image.on_click(on_image_select)\n",
    "image_preview = w.Image(layout={'width': '340px'})\n",
    "\n",
    "image_selection = VBox([\n",
    "    HBox([input_path, button_select_path]),\n",
    "    HBox([dropdown_image, button_select_image])\n",
    "])\n",
    "\n",
    "with app:\n",
    "    display(image_selection)\n",
    "    display(image_preview)"
   ]
  },
  {
   "cell_type": "markdown",
   "metadata": {},
   "source": [
    "### Prediction UI"
   ]
  },
  {
   "cell_type": "code",
   "execution_count": 8,
   "metadata": {},
   "outputs": [],
   "source": [
    "digit_previews = [w.Output(), w.Output(), w.Output(), w.Output()]\n",
    "\n",
    "layout_predict_button = {'width': '82px'}\n",
    "buttons_predict = [\n",
    "    w.Button(description=\"Predict\", layout=layout_predict_button),\n",
    "    w.Button(description=\"Predict\", layout=layout_predict_button),\n",
    "    w.Button(description=\"Predict\", layout=layout_predict_button),\n",
    "    w.Button(description=\"Predict\", layout=layout_predict_button)\n",
    "]\n",
    "\n",
    "layout_predict_label = {'margin': '0 auto'}\n",
    "labels_predict = [\n",
    "    w.Label(layout=layout_predict_label),\n",
    "    w.Label(layout=layout_predict_label),\n",
    "    w.Label(layout=layout_predict_label),\n",
    "    w.Label(layout=layout_predict_label)\n",
    "]\n",
    "\n",
    "def reset_labels(value='-'):\n",
    "    set_label(0, value)\n",
    "    set_label(1, value)\n",
    "    set_label(2, value)\n",
    "    set_label(3, value)\n",
    "\n",
    "def set_label(index, value):\n",
    "    labels_predict[index].value = str(value)\n",
    "    \n",
    "buttons_predict[0].on_click(lambda b: predict(0))\n",
    "buttons_predict[1].on_click(lambda b: predict(1))\n",
    "buttons_predict[2].on_click(lambda b: predict(2))\n",
    "buttons_predict[3].on_click(lambda b: predict(3))\n",
    "\n",
    "button_predict_all = w.Button(description=\"Predict Postal Code\", layout={'width': '340px'})\n",
    "button_predict_all.on_click(predict_all)\n",
    "\n",
    "selection = VBox([\n",
    "    HBox([\n",
    "        VBox([digit_previews[0], labels_predict[0], buttons_predict[0]]),\n",
    "        VBox([digit_previews[1], labels_predict[1], buttons_predict[1]]),\n",
    "        VBox([digit_previews[2], labels_predict[2], buttons_predict[2]]),\n",
    "        VBox([digit_previews[3], labels_predict[3], buttons_predict[3]])\n",
    "    ]),\n",
    "    button_predict_all\n",
    "])\n",
    "    \n",
    "with app:\n",
    "    display(selection)\n",
    "    \n",
    "    # Initial situation\n",
    "    on_path_select(None)\n",
    "    on_image_select(None)"
   ]
  },
  {
   "cell_type": "markdown",
   "metadata": {},
   "source": [
    "# Digit Recognition App\n",
    "\n",
    "### How to use:\n",
    "\n",
    "#### Predict a single postal code\n",
    "\n",
    "1. Select a folder path.\n",
    "2. Select a 128x32 pixel 'postal code' image to recognize.\n",
    "3. Predict individual digits or the whole postal code at once.\n",
    "\n",
    "#### Predict all postal codes\n",
    "\n",
    "1. Select a folder path.\n",
    "2. Predict all images in the folder."
   ]
  },
  {
   "cell_type": "code",
   "execution_count": 9,
   "metadata": {
    "scrolled": false
   },
   "outputs": [
    {
     "data": {
      "application/vnd.jupyter.widget-view+json": {
       "model_id": "1ce18f6675b942db9fc9a874a74a8b69",
       "version_major": 2,
       "version_minor": 0
      },
      "text/plain": [
       "Output()"
      ]
     },
     "metadata": {},
     "output_type": "display_data"
    }
   ],
   "source": [
    "app"
   ]
  },
  {
   "cell_type": "code",
   "execution_count": null,
   "metadata": {},
   "outputs": [],
   "source": []
  }
 ],
 "metadata": {
  "kernelspec": {
   "display_name": "Python 2",
   "language": "python",
   "name": "python2"
  },
  "language_info": {
   "codemirror_mode": {
    "name": "ipython",
    "version": 2
   },
   "file_extension": ".py",
   "mimetype": "text/x-python",
   "name": "python",
   "nbconvert_exporter": "python",
   "pygments_lexer": "ipython2",
   "version": "2.7.12"
  }
 },
 "nbformat": 4,
 "nbformat_minor": 2
}
