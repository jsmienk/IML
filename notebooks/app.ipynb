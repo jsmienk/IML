{
 "cells": [
  {
   "cell_type": "markdown",
   "metadata": {},
   "source": [
    "# Digit Recognition App\n",
    "\n",
    "You can use this app in two ways:\n",
    "\n",
    "1. Select a 32x32 pixel 'single digit' image to recognize.\n",
    "2. Select a 128x32 pixel 'postal code' image to recognize."
   ]
  },
  {
   "cell_type": "code",
   "execution_count": 1,
   "metadata": {},
   "outputs": [],
   "source": [
    "import ipywidgets as w\n",
    "import pandas as pd\n",
    "\n",
    "from SimpleCV import *\n",
    "from ipywidgets import widgets, HBox, VBox\n",
    "from IPython.display import display\n",
    "from sklearn.externals import joblib\n",
    "\n",
    "disp = Display(displaytype='notebook')\n",
    "app = w.Output()\n",
    "\n",
    "FILE_NAME = None\n",
    "IMAGES = None"
   ]
  },
  {
   "cell_type": "markdown",
   "metadata": {},
   "source": [
    "### Importing Normalizer & Classifier"
   ]
  },
  {
   "cell_type": "code",
   "execution_count": 2,
   "metadata": {},
   "outputs": [],
   "source": [
    "CLASSIFIER = joblib.load('classifier.joblib')\n",
    "SCALER = joblib.load('scaler.joblib')\n",
    "COLUMNS = [u'area', u'contours', u'radius', u'hull_radius', u'centroid_x',\n",
    "       u'centroid_y', u'weight_0_0', u'weight_0_1', u'weight_0_2',\n",
    "       u'weight_0_3', u'weight_0_4', u'weight_0_5', u'weight_0_6',\n",
    "       u'weight_0_7', u'weight_1_0', u'weight_1_1', u'weight_1_2',\n",
    "       u'weight_1_3', u'weight_1_4', u'weight_1_5', u'weight_1_6',\n",
    "       u'weight_1_7', u'weight_2_0', u'weight_2_1', u'weight_2_2',\n",
    "       u'weight_2_3', u'weight_2_4', u'weight_2_5', u'weight_2_6',\n",
    "       u'weight_2_7', u'weight_3_0', u'weight_3_1', u'weight_3_2',\n",
    "       u'weight_3_3', u'weight_3_4', u'weight_3_5', u'weight_3_6',\n",
    "       u'weight_3_7', u'weight_4_0', u'weight_4_1', u'weight_4_2',\n",
    "       u'weight_4_3', u'weight_4_4', u'weight_4_5', u'weight_4_6',\n",
    "       u'weight_4_7', u'weight_5_0', u'weight_5_1', u'weight_5_2',\n",
    "       u'weight_5_3', u'weight_5_4', u'weight_5_5', u'weight_5_6',\n",
    "       u'weight_5_7', u'weight_6_0', u'weight_6_1', u'weight_6_2',\n",
    "       u'weight_6_3', u'weight_6_4', u'weight_6_5', u'weight_6_6',\n",
    "       u'weight_6_7', u'weight_7_0', u'weight_7_1', u'weight_7_2',\n",
    "       u'weight_7_3', u'weight_7_4', u'weight_7_5', u'weight_7_6',\n",
    "       u'weight_7_7', u'num_holes']\n",
    "COLUMNS_TO_NORMALIZE = [u'area', u'contours', u'radius', u'hull_radius', u'centroid_x',\n",
    "       u'centroid_y', u'weight_0_0', u'weight_0_1', u'weight_0_2',\n",
    "       u'weight_0_3', u'weight_0_4', u'weight_0_5', u'weight_0_6',\n",
    "       u'weight_0_7', u'weight_1_0', u'weight_1_1', u'weight_1_2',\n",
    "       u'weight_1_3', u'weight_1_4', u'weight_1_5', u'weight_1_6',\n",
    "       u'weight_1_7', u'weight_2_0', u'weight_2_1', u'weight_2_2',\n",
    "       u'weight_2_3', u'weight_2_4', u'weight_2_5', u'weight_2_6',\n",
    "       u'weight_2_7', u'weight_3_0', u'weight_3_1', u'weight_3_2',\n",
    "       u'weight_3_3', u'weight_3_4', u'weight_3_5', u'weight_3_6',\n",
    "       u'weight_3_7', u'weight_4_0', u'weight_4_1', u'weight_4_2',\n",
    "       u'weight_4_3', u'weight_4_4', u'weight_4_5', u'weight_4_6',\n",
    "       u'weight_4_7', u'weight_5_0', u'weight_5_1', u'weight_5_2',\n",
    "       u'weight_5_3', u'weight_5_4', u'weight_5_5', u'weight_5_6',\n",
    "       u'weight_5_7', u'weight_6_0', u'weight_6_1', u'weight_6_2',\n",
    "       u'weight_6_3', u'weight_6_4', u'weight_6_5', u'weight_6_6',\n",
    "       u'weight_6_7', u'weight_7_0', u'weight_7_1', u'weight_7_2',\n",
    "       u'weight_7_3', u'weight_7_4', u'weight_7_5', u'weight_7_6',\n",
    "       u'weight_7_7']"
   ]
  },
  {
   "cell_type": "markdown",
   "metadata": {},
   "source": [
    "### Image Separation Logic"
   ]
  },
  {
   "cell_type": "code",
   "execution_count": 3,
   "metadata": {},
   "outputs": [],
   "source": [
    "# Constant single digit image size\n",
    "SIZE = 32\n",
    "\n",
    "# Return an array of individual images and their digit from the image object\n",
    "def get_individual_images(file_name):\n",
    "    global IMAGES\n",
    "    img = Image(file_name)\n",
    "    IMAGES = [\n",
    "        get_image_obj(crop(img, 0)), \n",
    "        get_image_obj(crop(img, 1)), \n",
    "        get_image_obj(crop(img, 2)), \n",
    "        get_image_obj(crop(img, 3))\n",
    "    ]\n",
    "\n",
    "def get_image_obj(img):\n",
    "    _bin = img.binarize()\n",
    "    return (None, _bin.dilate().erode(), _bin)\n",
    "\n",
    "# Crop and return a part of the source image\n",
    "def crop(img, part):\n",
    "    return img.crop(SIZE * part, 0, SIZE, SIZE)"
   ]
  },
  {
   "cell_type": "markdown",
   "metadata": {},
   "source": [
    "### Feature Extraction Logic"
   ]
  },
  {
   "cell_type": "code",
   "execution_count": 4,
   "metadata": {},
   "outputs": [],
   "source": [
    "def get_weighted_matrix(img):\n",
    "    COUNT = 8 # GRID SIZE\n",
    "    T = 5 # THRESHOLD\n",
    "    CROP = SIZE / COUNT\n",
    "    m = np.zeros((COUNT, COUNT))\n",
    "    for y in range(COUNT):\n",
    "        for x in range(COUNT):\n",
    "            part = img.crop(x * CROP, y * CROP, CROP, CROP)\n",
    "            sum = (part.getNumpy()[:,:,0] / 255).sum()\n",
    "            m[x][y] = sum if sum > T else 0\n",
    "    return m.T\n",
    "\n",
    "def extract_features(image):\n",
    "    # Columns detected using computer vision\n",
    "    features_dict = {\n",
    "        \"area\": [],\n",
    "        \"contours\": [],\n",
    "        \"radius\": [],\n",
    "        \"circle_dist\": [],\n",
    "        \"rect_dist\": [],\n",
    "        \"hull_radius\": [],\n",
    "        \"aspect_ratio\": [],\n",
    "        \"centroid_x\": [],\n",
    "        \"centroid_y\": [],\n",
    "        \"angle\": [],\n",
    "        \"num_holes\": []\n",
    "    }\n",
    "\n",
    "    column_order = [\n",
    "        \"area\",\n",
    "        \"contours\",\n",
    "        \"radius\",\n",
    "        \"circle_dist\",\n",
    "        \"rect_dist\",\n",
    "        \"hull_radius\",\n",
    "        \"aspect_ratio\",\n",
    "        \"centroid_x\",\n",
    "        \"centroid_y\",\n",
    "        \"angle\"\n",
    "    ]\n",
    "\n",
    "    # Adding column names for the low-res pixel count matrix\n",
    "    COUNT = 8\n",
    "    for x in range(COUNT):\n",
    "        for y in range(COUNT):\n",
    "            name = '_'.join(['weight', str(x), str(y)])\n",
    "            column_order.append(name)\n",
    "            features_dict[name] = []\n",
    "\n",
    "    column_order.append(\"num_holes\")\n",
    "    \n",
    "    # HACK TO FIND BLOBS\n",
    "    image[1].show()\n",
    "    # Find blobs in the preprocessed image\n",
    "    blobs = image[1].findBlobs()\n",
    "    if blobs:\n",
    "        blob = blobs[0]\n",
    "        features_dict['area'].append(blob.area())\n",
    "        features_dict['contours'].append(len(blob.contour()))\n",
    "        features_dict['circle_dist'].append(blob.circleDistance())\n",
    "        features_dict['rect_dist'].append(blob.rectangleDistance())\n",
    "        features_dict['radius'].append(blob.radius())\n",
    "        features_dict['hull_radius'].append(blob.hullRadius())\n",
    "        features_dict['aspect_ratio'].append(blob.aspectRatio())\n",
    "        features_dict['centroid_x'].append(blob.centroid()[0])\n",
    "        features_dict['centroid_y'].append(blob.centroid()[1])\n",
    "        features_dict['angle'].append(blob.angle())\n",
    "\n",
    "        # Calculate matrix in the preprocessed image\n",
    "        m = get_weighted_matrix(image[1])\n",
    "        COUNT = 8\n",
    "        for x in range(COUNT):\n",
    "            for y in range(COUNT):\n",
    "                features_dict['_'.join(['weight', str(x), str(y)])].append(m[x, y])\n",
    "\n",
    "        # Find the holes in the 'just binarized' image\n",
    "        num_holes = len(image[2].embiggen(2).invert().findBlobs()[:-1])\n",
    "        features_dict['num_holes'].append(num_holes)\n",
    "    \n",
    "    return pd.DataFrame(features_dict, columns=column_order)"
   ]
  },
  {
   "cell_type": "markdown",
   "metadata": {},
   "source": [
    "### Prediction Logic"
   ]
  },
  {
   "cell_type": "code",
   "execution_count": 5,
   "metadata": {},
   "outputs": [],
   "source": [
    "def predict(index):\n",
    "    if IMAGES:\n",
    "        # extract features\n",
    "        features = extract_features(IMAGES[index])[COLUMNS]\n",
    "        # normalize\n",
    "        features[COLUMNS_TO_NORMALIZE] = pd.DataFrame(SCALER.transform(features[COLUMNS_TO_NORMALIZE]), \n",
    "                                                      columns=COLUMNS_TO_NORMALIZE)\n",
    "        # predict\n",
    "        prediction = CLASSIFIER.predict(features)[0]\n",
    "        # update UI\n",
    "        labels_predict[index].value = str(prediction)\n",
    "        return prediction\n",
    "    else:\n",
    "        labels_predict[index].value = str(-1)\n",
    "        return index\n",
    "\n",
    "def predict_all(b):\n",
    "    if IMAGES:\n",
    "        return [predict(0), predict(1), predict(2), predict(3)]"
   ]
  },
  {
   "cell_type": "markdown",
   "metadata": {},
   "source": [
    "### Image Selection UI"
   ]
  },
  {
   "cell_type": "code",
   "execution_count": 6,
   "metadata": {},
   "outputs": [],
   "source": [
    "# Find all png files in a folder\n",
    "files = glob.glob(os.path.join(\"../dataset-images/\", \"*.png\"))\n",
    "\n",
    "def on_image_select(b):\n",
    "    global FILE_NAME\n",
    "    FILE_NAME = dropdown_image.value\n",
    "    image_preview.value = w.Image.from_file(FILE_NAME).value\n",
    "\n",
    "dropdown_image = w.Dropdown(options=files, description='Image:')\n",
    "button_select_image = w.Button(description=\"Use\")\n",
    "button_select_image.on_click(on_image_select)\n",
    "image_preview = w.Image()\n",
    "\n",
    "image_selection = VBox([\n",
    "    HBox([dropdown_image, button_select_image])\n",
    "])\n",
    "\n",
    "with app:\n",
    "    display(image_selection)\n",
    "    display(image_preview)\n",
    "on_image_select(None)"
   ]
  },
  {
   "cell_type": "markdown",
   "metadata": {},
   "source": [
    "### Prediction UI"
   ]
  },
  {
   "cell_type": "code",
   "execution_count": 7,
   "metadata": {},
   "outputs": [],
   "source": [
    "def show_separation(b):\n",
    "    if FILE_NAME:\n",
    "        get_individual_images(FILE_NAME)\n",
    "        for i in range(4):\n",
    "            digit_previews[i].clear_output()\n",
    "            with digit_previews[i]:\n",
    "                IMAGES[i][1].save(disp)\n",
    "\n",
    "# Create a button\n",
    "button_separate = w.Button(description=\"Separate\")\n",
    "button_separate.on_click(show_separation)\n",
    "\n",
    "digit_previews = [w.Output(), w.Output(), w.Output(), w.Output()]\n",
    "\n",
    "buttons_predict = [\n",
    "    w.Button(description=\"Predict\"),\n",
    "    w.Button(description=\"Predict\"),\n",
    "    w.Button(description=\"Predict\"),\n",
    "    w.Button(description=\"Predict\")\n",
    "]\n",
    "\n",
    "labels_predict = [\n",
    "    w.Label(value='0'),\n",
    "    w.Label(value='0'),\n",
    "    w.Label(value='0'),\n",
    "    w.Label(value='0')\n",
    "]\n",
    "\n",
    "buttons_predict[0].on_click(lambda b: predict(0))\n",
    "buttons_predict[1].on_click(lambda b: predict(1))\n",
    "buttons_predict[2].on_click(lambda b: predict(2))\n",
    "buttons_predict[3].on_click(lambda b: predict(3))\n",
    "\n",
    "button_predict_all = w.Button(description=\"Predict Postal Code\")\n",
    "button_predict_all.on_click(predict_all)\n",
    "\n",
    "selection = VBox([\n",
    "    HBox([button_separate]),\n",
    "    HBox([\n",
    "        VBox([buttons_predict[0], digit_previews[0], labels_predict[0]]),\n",
    "        VBox([buttons_predict[1], digit_previews[1], labels_predict[1]]),\n",
    "        VBox([buttons_predict[2], digit_previews[2], labels_predict[2]]),\n",
    "        VBox([buttons_predict[3], digit_previews[3], labels_predict[3]])\n",
    "    ]),\n",
    "    button_predict_all\n",
    "])\n",
    "    \n",
    "with app:\n",
    "    display(selection)"
   ]
  },
  {
   "cell_type": "markdown",
   "metadata": {},
   "source": [
    "# Digit Recognition App\n",
    "\n",
    "You can use this app in two ways:\n",
    "\n",
    "1. Select a 32x32 pixel 'single digit' image to recognize.\n",
    "2. Select a 128x32 pixel 'postal code' image to recognize."
   ]
  },
  {
   "cell_type": "code",
   "execution_count": 8,
   "metadata": {},
   "outputs": [
    {
     "data": {
      "application/vnd.jupyter.widget-view+json": {
       "model_id": "0c73f129552943fbb466f8d671fe6f33",
       "version_major": 2,
       "version_minor": 0
      },
      "text/plain": [
       "Output()"
      ]
     },
     "metadata": {},
     "output_type": "display_data"
    }
   ],
   "source": [
    "app"
   ]
  },
  {
   "cell_type": "code",
   "execution_count": null,
   "metadata": {},
   "outputs": [],
   "source": []
  }
 ],
 "metadata": {
  "kernelspec": {
   "display_name": "Python 2",
   "language": "python",
   "name": "python2"
  },
  "language_info": {
   "codemirror_mode": {
    "name": "ipython",
    "version": 2
   },
   "file_extension": ".py",
   "mimetype": "text/x-python",
   "name": "python",
   "nbconvert_exporter": "python",
   "pygments_lexer": "ipython2",
   "version": "2.7.12"
  }
 },
 "nbformat": 4,
 "nbformat_minor": 2
}
