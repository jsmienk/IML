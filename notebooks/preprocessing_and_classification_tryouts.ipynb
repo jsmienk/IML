{
 "cells": [
  {
   "cell_type": "markdown",
   "metadata": {},
   "source": [
    "# Pre-processing & Classification Try-Outs\n",
    "\n",
    "## Datasets\n",
    "\n",
    "- ~~Full~~\n",
    "- ~~Cleaned~~\n",
    "- ~~Cleaned+MinMaxScaled~~\n",
    "- ~~Cleaned+RobustScaled~~\n",
    "- ~~Cleaned+QuantileTransformed~~\n",
    "- Cleaned+Extended+MinMaxScaled\n",
    "- Cleaned+CleanExtended+MinMaxScaled\n",
    "- v4 (?)\n",
    "- v5 (mixed with MNIST digits)\n",
    "- v6 (Automatic Feature Selection)\n",
    "\n",
    "## Classifiers\n",
    "\n",
    "- ~~RandomForest~~\n",
    "- SVM/C\n",
    "- kNN\n",
    "- ~~SGD~~\n",
    "\n",
    "## Winner\n",
    "\n",
    "SVM/C `kernel='rbf', C=3.8, gamma=0.1` with v6"
   ]
  },
  {
   "cell_type": "code",
   "execution_count": 7,
   "metadata": {},
   "outputs": [],
   "source": [
    "# IMPORTS AND NOTEBOOK SETUP\n",
    "import matplotlib\n",
    "import matplotlib.pyplot as plt\n",
    "import numpy as np\n",
    "import pandas as pd"
   ]
  },
  {
   "cell_type": "markdown",
   "metadata": {},
   "source": [
    "\\# | Rank | Classifier | Options | Dataset | Score\n",
    "--- | --- | --- | --- | ---| ---\n",
    "1 |1 |SVM/C | `kernel='rbf', C=1.5, gamma=0.2` | Cleaned+Extended+MinMaxScaled | `0.98541666666666672`\n",
    "2 |1 |SVM/C | `kernel='rbf', C=8.7, gamma=0.04` | Cleaned+Extended+MinMaxScaled | `0.98333333333333328`\n",
    "3 |1 |kNN | `n_neigbors=3` | Cleaned+Extended+MinMaxScaled | `0.98333333333333328`\n",
    "4 |1 |SVM/C | `kernel='rbf', C=3.0, gamma=0.2` | Cleaned+CleanExtended+MinMaxScaled | `0.97916666666666663`\n",
    "\n",
    "Default options:\n",
    "\n",
    "- Scikit Learn train/test split ratio: `.25`.\n",
    "- Normalizing all columns but `num_holes`.\n",
    "\n",
    "## outdated\n",
    "\n",
    "\\# | Rank | Classifier | Options | Dataset | Score\n",
    "--- | --- | --- | --- | ---| ---\n",
    "1 |1 |SVM/C | `kernel='rbf', C=6.6, gamma=0.35` | Cleaned+MinMaxScaled | `0.978873239436`\n",
    "1 |1 |SVM/C | `kernel='rbf', C=3.9, gamma=0.59` | Cleaned+MinMaxScaled | `0.978873239436`\n",
    "1 |1 |SVM/C | `C=2.0` | Cleaned+MinMaxScaled | `0.973958333333`\n",
    "2 |1 |SVM/C | `C=4.9` | Cleaned+RobustScaled | `0.973958333333`\n",
    "3 |3 |SVM/C | `kernel='rbf', C=3.9` | Cleaned+MinMaxScaled | `0.967391304347`\n",
    "4 |3 |SVM/C | `kernel='sigmoid', C=9.6` | Cleaned+MinMaxScaled | `0.967391304347`\n",
    "5 |5 |RandomForest | `n_estimators=70` | Cleaned | `0.953125000000`\n",
    "6 |5 |RandomForest | `n_estimators=70` | Cleaned+MinMaxScaled | `0.953125000000`\n",
    "7 |5 |SVM/C | `C=2.6` | Cleaned+QuantileTransformed | `0.953125000000`\n",
    "8 |8 |SVM/C | `C=4.3` | Cleaned | `0.947916666667`\n",
    "9 |8 |RandomForest | `n_estimators=16` | Cleaned+RobustScaled | `0.947916666667`\n",
    "10|8 |RandomForest | `n_estimators=32` | Cleaned+QuantileTransformed | `0.947916666667`\n",
    "11|11|RandomForest | `n_estimators=90` | Full | `0.942708333333`\n",
    "12|12|SVM/C | `default` | Full | `0.932291666667`\n",
    "\n",
    "Default options:\n",
    "\n",
    "- RandomForest with `n_estimators=50`, `oob_score=True` and `random_state=123456`.\n",
    "- SVM/C with `kernel=linear`, `C=1.0`.\n",
    "\n",
    "Normalizing all columns but `num_holes`."
   ]
  },
  {
   "cell_type": "code",
   "execution_count": 13,
   "metadata": {},
   "outputs": [],
   "source": [
    "# IMPORTING OUR DATASET\n",
    "data_full = pd.read_csv('../dataset-numpy/dataset.csv')\n",
    "data_clean_manual = pd.read_csv('../dataset-numpy/dataset-clean-manual.csv')\n",
    "data_ext_clean_manual = pd.read_csv('../dataset-numpy/dataset-extended-clean-manual.csv')\n",
    "data_v4 = pd.read_csv('../dataset-numpy/dataset-v4.csv')\n",
    "data_v6 = pd.read_csv('../dataset-numpy/dataset-v6.csv')\n",
    "data_v7 = pd.read_csv('../dataset-numpy/dataset-clean-v7.csv')\n",
    "data_v8 = pd.read_csv('../dataset-numpy/dataset-v8.csv')"
   ]
  },
  {
   "cell_type": "markdown",
   "metadata": {},
   "source": [
    "## Normalization"
   ]
  },
  {
   "cell_type": "code",
   "execution_count": 14,
   "metadata": {},
   "outputs": [],
   "source": [
    "less_columns = data_clean_manual.columns.values\n",
    "columns_v4 = data_v4.columns.values\n",
    "columns_v6 = data_v6.columns.values\n",
    "columns_v7 = data_v7.columns.values\n",
    "columns_v8 = data_v8.columns.values\n",
    "columns_to_not_normalize = ['num_holes', 'label']\n",
    "\n",
    "columns_v4_to_normalize = [c for c in columns_v4 if not c in columns_to_not_normalize]\n",
    "columns_v6_to_normalize = [c for c in columns_v6 if not c in columns_to_not_normalize]\n",
    "columns_v7_to_normalize = [c for c in columns_v7 if not c in columns_to_not_normalize]\n",
    "columns_v8_to_normalize = [c for c in columns_v8 if not c in columns_to_not_normalize]\n",
    "less_columns_to_normalize = [c for c in less_columns if not c in columns_to_not_normalize]\n",
    "        \n",
    "def scale(data, scaler, columns):\n",
    "    return pd.DataFrame(scaler.fit_transform(data[columns]), columns=columns)"
   ]
  },
  {
   "cell_type": "markdown",
   "metadata": {},
   "source": [
    "### MinMaxScaler"
   ]
  },
  {
   "cell_type": "code",
   "execution_count": 15,
   "metadata": {},
   "outputs": [
    {
     "name": "stdout",
     "output_type": "stream",
     "text": [
      "(1920, 24) (1920, 72) (1920, 60) (1920, 56) (1920, 58) (1920, 79)\n",
      "Index([u'area', u'contours', u'radius', u'hull_radius', u'centroid_x',\n",
      "       u'centroid_y', u'angle', u'weight_0_2', u'weight_0_3', u'weight_0_4',\n",
      "       u'weight_0_5', u'weight_0_6', u'weight_1_1', u'weight_1_2',\n",
      "       u'weight_1_3', u'weight_1_4', u'weight_1_5', u'weight_1_6',\n",
      "       u'weight_2_1', u'weight_2_2', u'weight_2_3', u'weight_2_4',\n",
      "       u'weight_2_5', u'weight_2_6', u'weight_3_1', u'weight_3_2',\n",
      "       u'weight_3_3', u'weight_3_4', u'weight_3_5', u'weight_3_6',\n",
      "       u'weight_4_1', u'weight_4_2', u'weight_4_3', u'weight_4_4',\n",
      "       u'weight_4_5', u'weight_4_6', u'weight_5_1', u'weight_5_2',\n",
      "       u'weight_5_3', u'weight_5_4', u'weight_5_5', u'weight_5_6',\n",
      "       u'weight_6_1', u'weight_6_2', u'weight_6_3', u'weight_6_4',\n",
      "       u'weight_6_5', u'weight_6_6', u'weight_7_2', u'weight_7_3',\n",
      "       u'weight_7_4', u'weight_7_5', u'weight_7_6', u'weight_7_7',\n",
      "       u'num_holes', u'label'],\n",
      "      dtype='object')\n",
      "Index([u'area', u'width', u'contours', u'radius', u'centroid_x', u'centroid_y',\n",
      "       u'corners', u'circles', u'angle', u'weight_0_2', u'weight_0_3',\n",
      "       u'weight_0_4', u'weight_0_5', u'weight_0_6', u'weight_1_1',\n",
      "       u'weight_1_2', u'weight_1_3', u'weight_1_4', u'weight_1_5',\n",
      "       u'weight_1_6', u'weight_2_1', u'weight_2_2', u'weight_2_3',\n",
      "       u'weight_2_4', u'weight_2_5', u'weight_2_6', u'weight_3_1',\n",
      "       u'weight_3_2', u'weight_3_3', u'weight_3_4', u'weight_3_5',\n",
      "       u'weight_3_6', u'weight_4_1', u'weight_4_2', u'weight_4_3',\n",
      "       u'weight_4_4', u'weight_4_5', u'weight_4_6', u'weight_5_1',\n",
      "       u'weight_5_2', u'weight_5_3', u'weight_5_4', u'weight_5_5',\n",
      "       u'weight_5_6', u'weight_6_1', u'weight_6_2', u'weight_6_3',\n",
      "       u'weight_6_4', u'weight_6_5', u'weight_6_6', u'weight_7_2',\n",
      "       u'weight_7_3', u'weight_7_4', u'weight_7_5', u'weight_7_6',\n",
      "       u'weight_7_7', u'num_holes', u'label'],\n",
      "      dtype='object')\n",
      "Index([u'area', u'width', u'contours', u'radius', u'circle_dist', u'rect_dist',\n",
      "       u'hull_radius', u'aspect_ratio', u'centroid_x', u'centroid_y',\n",
      "       u'corners', u'circles', u'angle', u'weight_0_0', u'weight_0_1',\n",
      "       u'weight_0_2', u'weight_0_3', u'weight_0_4', u'weight_0_5',\n",
      "       u'weight_0_6', u'weight_0_7', u'weight_1_0', u'weight_1_1',\n",
      "       u'weight_1_2', u'weight_1_3', u'weight_1_4', u'weight_1_5',\n",
      "       u'weight_1_6', u'weight_1_7', u'weight_2_0', u'weight_2_1',\n",
      "       u'weight_2_2', u'weight_2_3', u'weight_2_4', u'weight_2_5',\n",
      "       u'weight_2_6', u'weight_2_7', u'weight_3_0', u'weight_3_1',\n",
      "       u'weight_3_2', u'weight_3_3', u'weight_3_4', u'weight_3_5',\n",
      "       u'weight_3_6', u'weight_3_7', u'weight_4_0', u'weight_4_1',\n",
      "       u'weight_4_2', u'weight_4_3', u'weight_4_4', u'weight_4_5',\n",
      "       u'weight_4_6', u'weight_4_7', u'weight_5_0', u'weight_5_1',\n",
      "       u'weight_5_2', u'weight_5_3', u'weight_5_4', u'weight_5_5',\n",
      "       u'weight_5_6', u'weight_5_7', u'weight_6_0', u'weight_6_1',\n",
      "       u'weight_6_2', u'weight_6_3', u'weight_6_4', u'weight_6_5',\n",
      "       u'weight_6_6', u'weight_6_7', u'weight_7_0', u'weight_7_1',\n",
      "       u'weight_7_2', u'weight_7_3', u'weight_7_4', u'weight_7_5',\n",
      "       u'weight_7_6', u'weight_7_7', u'num_holes', u'label'],\n",
      "      dtype='object')\n"
     ]
    }
   ],
   "source": [
    "from sklearn.preprocessing import MinMaxScaler\n",
    "\n",
    "minmaxscaled = data_clean_manual.copy()\n",
    "minmaxscaled[less_columns_to_normalize] = scale(data_clean_manual, MinMaxScaler(), less_columns_to_normalize)\n",
    "\n",
    "minmaxscaled_ext = data_ext_clean_manual.copy()\n",
    "minmaxscaled_ext[columns_v4_to_normalize] = scale(data_ext_clean_manual, MinMaxScaler(), columns_v4_to_normalize)\n",
    "\n",
    "scaled_v4 = data_v4.copy()\n",
    "scaled_v4[columns_v4_to_normalize] = scale(data_v4, MinMaxScaler(), columns_v4_to_normalize)\n",
    "\n",
    "scaled_v6 = data_v6.copy()\n",
    "scaled_v6[columns_v6_to_normalize] = scale(data_v6, MinMaxScaler(), columns_v6_to_normalize)\n",
    "\n",
    "scaled_v7 = data_v7.copy()\n",
    "scaled_v7[columns_v7_to_normalize] = scale(data_v7, MinMaxScaler(), columns_v7_to_normalize)\n",
    "\n",
    "scaled_v8 = data_v8.copy()\n",
    "scaled_v8[columns_v8_to_normalize] = scale(data_v8, MinMaxScaler(), columns_v8_to_normalize)\n",
    "\n",
    "# del scaled_v7['area']\n",
    "# del scaled_v7['contours']\n",
    "# del scaled_v7['radius']\n",
    "# del scaled_v7['hull_radius']\n",
    "# del scaled_v7['angle']\n",
    "# del scaled_v7['corners']\n",
    "# del scaled_v7['circles']\n",
    "# del scaled_v7['centroid_x']\n",
    "# del scaled_v7['centroid_y']\n",
    "# del scaled_v7['num_holes']\n",
    "\n",
    "print minmaxscaled.shape, minmaxscaled_ext.shape, scaled_v4.shape, scaled_v6.shape, scaled_v7.shape, scaled_v8.shape\n",
    "print scaled_v6.columns\n",
    "print scaled_v7.columns\n",
    "print scaled_v8.columns"
   ]
  },
  {
   "cell_type": "markdown",
   "metadata": {},
   "source": [
    "### ~~RobustScaler~~"
   ]
  },
  {
   "cell_type": "code",
   "execution_count": null,
   "metadata": {},
   "outputs": [],
   "source": [
    "from sklearn.preprocessing import RobustScaler\n",
    "\n",
    "robustscaled = data_clean_manual.copy()\n",
    "robustscaled[columns] = scale(data_clean_manual, RobustScaler(), columns)\n",
    "robustscaled.describe()"
   ]
  },
  {
   "cell_type": "markdown",
   "metadata": {},
   "source": [
    "### ~~QuantileTransformer~~"
   ]
  },
  {
   "cell_type": "code",
   "execution_count": null,
   "metadata": {},
   "outputs": [],
   "source": [
    "from sklearn.preprocessing import QuantileTransformer\n",
    "\n",
    "quantiletransformed = data_clean_manual.copy()\n",
    "quantiletransformed[columns] = scale(data_clean_manual, QuantileTransformer(), columns)\n",
    "quantiletransformed.describe()"
   ]
  },
  {
   "cell_type": "markdown",
   "metadata": {},
   "source": [
    "## Splitting the dataset"
   ]
  },
  {
   "cell_type": "code",
   "execution_count": 99,
   "metadata": {},
   "outputs": [],
   "source": [
    "from sklearn.model_selection import train_test_split\n",
    "\n",
    "def split(data, ratio, random_state=None):\n",
    "    return train_test_split(data.iloc[:,:-1], data.iloc[:,-1], test_size=ratio, random_state=random_state)\n",
    "\n",
    "X_train, X_test, Y_train, Y_test = split(scaled_v7, .25)"
   ]
  },
  {
   "cell_type": "markdown",
   "metadata": {},
   "source": [
    "## Try Random Forest Classifier"
   ]
  },
  {
   "cell_type": "code",
   "execution_count": 11,
   "metadata": {},
   "outputs": [
    {
     "name": "stderr",
     "output_type": "stream",
     "text": [
      "/usr/local/lib/python2.7/dist-packages/sklearn/ensemble/forest.py:453: UserWarning: Some inputs do not have OOB scores. This probably means too few trees were used to compute any reliable oob estimates.\n",
      "  warn(\"Some inputs do not have OOB scores. \"\n"
     ]
    },
    {
     "name": "stdout",
     "output_type": "stream",
     "text": [
      "('N_E:', 2, 'Score:', 0.82499999999999996)\n",
      "('N_E:', 3, 'Score:', 0.90208333333333335)\n",
      "('N_E:', 4, 'Score:', 0.90625)\n",
      "('N_E:', 5, 'Score:', 0.93125000000000002)\n",
      "('N_E:', 6, 'Score:', 0.94166666666666665)\n",
      "('N_E:', 7, 'Score:', 0.94999999999999996)\n",
      "('N_E:', 10, 'Score:', 0.9604166666666667)\n",
      "('N_E:', 11, 'Score:', 0.96250000000000002)\n",
      "('N_E:', 15, 'Score:', 0.96458333333333335)\n",
      "('N_E:', 16, 'Score:', 0.96666666666666667)\n",
      "('N_E:', 27, 'Score:', 0.96875)\n",
      "('Top:', (27, 0.96875))\n"
     ]
    }
   ],
   "source": [
    "# RANDOM FOREST\n",
    "from sklearn.ensemble import RandomForestClassifier\n",
    "\n",
    "top_rf = (2, 0.0)\n",
    "for n_e in range(2, 101):\n",
    "    rf = RandomForestClassifier(n_estimators=n_e, oob_score=True, random_state=123456)\n",
    "    rf.fit(X_train, Y_train)\n",
    "    score = rf.score(X_test, Y_test)\n",
    "    if score > top_rf[1]:\n",
    "        top_rf = (n_e, score)\n",
    "        print('N_E:', n_e, 'Score:', score)\n",
    "print('Top:', top_rf)"
   ]
  },
  {
   "cell_type": "markdown",
   "metadata": {},
   "source": [
    "## Try Support Vector Machine\n",
    "\n",
    "100 x random train test split:\n",
    "\n",
    "\\# | Dataset | Options | Min | Max | Mean | Variance\n",
    "---| --- | --- | --- | --- | --- | ---\n",
    "1 | v8 | `kernel=rbf, C=3.65, gamme=0.1` | `1.0` | `1.0` | `1.0` | `1.0`\n",
    "1 | v6 | `kernel='rbf', C=3.8, gamma=0.1` | `0.9531250000` | `1.0000000000` | `0.9841666666` | `0.031041666`\n",
    "1 | Cleaned+Extended+MinMaxScaled | `kernel='rbf', C=1.5, gamma=0.2` | `0.9708333333` | `0.9937500000` | `0.9837291666` | `0.022916667`\n",
    "2 | ~~Cleaned+CleanExtended+MinMaxScaled~~ | `kernel='rbf', C=3.0, gamma=0.2` | `0.9687500000` | `0.9958333333` | `0.9814791666` | `0.027083333`\n",
    "3 | Cleaned+Extended+MinMaxScaled | `kernel='linear', C=1.1` | `0.9604166666` | `0.9916666666` | `0.9743750000`\n",
    "4 | Cleaned+MinMaxScaled | `kernel='rbf', C=6.6, gamma=0.35` | `0.9500000000` | `0.9833333333` | `0.9712708333`\n",
    "5 | ~~Cleaned+CleanExtended+MinMaxScaled~~ | `kernel='linear', C=0.4` | `0.9437500000` | `0.9875000000` | `0.9702708333`\n",
    "6 | Cleaned+MinMaxScaled | `kernel='linear', C=1.5` | `0.9395833333` | `0.9812500000` | `0.9626250000`"
   ]
  },
  {
   "cell_type": "code",
   "execution_count": 41,
   "metadata": {
    "scrolled": true
   },
   "outputs": [
    {
     "name": "stdout",
     "output_type": "stream",
     "text": [
      "Min Score: 0.96875\n",
      "Max Score: 0.997395833333\n",
      "Mean Score: 0.984973958333\n",
      "\n",
      "Min Score: 0.963541666667\n",
      "Max Score: 0.994791666667\n",
      "Mean Score: 0.983723958333\n",
      "\n",
      "Min Score: 0.96875\n",
      "Max Score: 0.997395833333\n",
      "Mean Score: 0.983854166667\n"
     ]
    }
   ],
   "source": [
    "# SVM\n",
    "from sklearn import svm\n",
    "\n",
    "ITERS = 100\n",
    "scores = np.zeros((ITERS))\n",
    "\n",
    "for i in range(ITERS):\n",
    "    X_train, X_test, Y_train, Y_test = split(scaled_v8, .20)\n",
    "    svc = svm.SVC(kernel='rbf', C=3.65, gamma=0.1)\n",
    "    svc.fit(X_train, Y_train)\n",
    "    scores[i] = svc.score(X_test, Y_test)\n",
    "\n",
    "print 'Min Score:', scores.min()\n",
    "print 'Max Score:', scores.max()\n",
    "print 'Mean Score:', scores.mean()\n",
    "\n",
    "print\n",
    "\n",
    "for i in range(ITERS):\n",
    "    X_train, X_test, Y_train, Y_test = split(scaled_v7, .20)\n",
    "    svc = svm.SVC(kernel='rbf', C=3.8, gamma=0.1)\n",
    "    svc.fit(X_train, Y_train)\n",
    "    scores[i] = svc.score(X_test, Y_test)\n",
    "\n",
    "print 'Min Score:', scores.min()\n",
    "print 'Max Score:', scores.max()\n",
    "print 'Mean Score:', scores.mean()\n",
    "\n",
    "print\n",
    "\n",
    "for i in range(ITERS):\n",
    "    X_train, X_test, Y_train, Y_test = split(scaled_v6, .20)\n",
    "    svc = svm.SVC(kernel='rbf', C=3.8, gamma=0.1)\n",
    "    svc.fit(X_train, Y_train)\n",
    "    scores[i] = svc.score(X_test, Y_test)\n",
    "\n",
    "print 'Min Score:', scores.min()\n",
    "print 'Max Score:', scores.max()\n",
    "print 'Mean Score:', scores.mean()"
   ]
  },
  {
   "cell_type": "markdown",
   "metadata": {},
   "source": [
    "## ~~Compared Datasets with Same Options~~\n",
    "\n",
    "### Outdated\n",
    "\n",
    "300 Iterations of 25% splits.\n",
    "\n",
    "Options: `kernel='rbf', C=2.8, gamma=0.1`\n",
    "\n",
    "Options: `kernel='rbf', C=3.0, gamma=0.2`\n",
    "\n",
    "\\# | Dataset | Min Score | Mean Score | Max Score\n",
    "---| --- | --- | --- | ---\n",
    "1| v4 | `0.96458333` | `0.98163194`| `0.99583333`\n",
    "2| Cleaned+MinMaxScaled+Extended | `0.96041666` | `0.98059722` | `0.99583333`\n",
    "3| Cleaned+MinMaxScaled | `0.94791666` | `0.96754861` | `0.98541666`\n",
    "\n",
    "Options: `kernel='rbf', C=1.5, gamma=0.2`\n",
    "\n",
    "\\# | Dataset | Min Score | Mean Score | Max Score\n",
    "---| --- | --- | --- | ---\n",
    "1| v4 | `0.96666666` | `0.98113888`| `0.99583333`\n",
    "2| Cleaned+MinMaxScaled+Extended | `0.96041666` | `0.97952083` | `0.99375000`\n",
    "3| Cleaned+MinMaxScaled | `0.93750000` | `0.95971527` | `0.98125000`"
   ]
  },
  {
   "cell_type": "markdown",
   "metadata": {},
   "source": [
    "## Validating on unseen data using KFold"
   ]
  },
  {
   "cell_type": "code",
   "execution_count": 162,
   "metadata": {},
   "outputs": [
    {
     "name": "stdout",
     "output_type": "stream",
     "text": [
      "(1728, 55) (192, 55) (1728,) (192,)\n"
     ]
    }
   ],
   "source": [
    "DATASET = scaled_v6\n",
    "X, X_validation, Y, Y_validation = split(DATASET, .1, random_state=444)\n",
    "\n",
    "print X.shape, X_validation.shape, Y.shape, Y_validation.shape"
   ]
  },
  {
   "cell_type": "code",
   "execution_count": 163,
   "metadata": {
    "scrolled": false
   },
   "outputs": [
    {
     "name": "stdout",
     "output_type": "stream",
     "text": [
      "Score: 0.983796296296\n",
      "Score: 0.978009259259\n",
      "\n",
      "Score:  0.942708333333\n"
     ]
    }
   ],
   "source": [
    "from sklearn.model_selection import KFold\n",
    "\n",
    "kf = KFold(n_splits=2)\n",
    "svc = svm.SVC(kernel='rbf', C=3.65, gamma=0.1)\n",
    "\n",
    "for train, test in kf.split(X):\n",
    "    X_train, X_test, Y_train, Y_test = X.iloc[train], X.iloc[test], Y.iloc[train], Y.iloc[test]\n",
    "    # Testing on train/test data\n",
    "    svc.fit(X_train, Y_train)\n",
    "    print 'Score:', svc.score(X_test, Y_test)\n",
    "\n",
    "print\n",
    "# Validating on unseen validation data\n",
    "print 'Score: ', svc.score(X_validation, Y_validation)"
   ]
  },
  {
   "cell_type": "markdown",
   "metadata": {},
   "source": [
    "### Finding the optimal C and Gamma for RBF kernel"
   ]
  },
  {
   "cell_type": "code",
   "execution_count": 35,
   "metadata": {
    "scrolled": true
   },
   "outputs": [
    {
     "name": "stdout",
     "output_type": "stream",
     "text": [
      "0 / 900\n",
      "[ 1.5   0.1   0.98]\n",
      "1 / 900\n",
      "2 / 900\n",
      "[ 1.6   0.1   0.99]\n",
      "3 / 900\n",
      "4 / 900\n",
      "5 / 900\n",
      "6 / 900\n",
      "7 / 900\n",
      "8 / 900\n",
      "9 / 900\n",
      "10 / 900\n",
      "11 / 900\n",
      "12 / 900\n",
      "13 / 900\n",
      "14 / 900\n",
      "15 / 900\n",
      "16 / 900\n",
      "17 / 900\n",
      "18 / 900\n",
      "19 / 900\n",
      "20 / 900\n",
      "21 / 900\n",
      "22 / 900\n",
      "23 / 900\n",
      "24 / 900\n",
      "25 / 900\n",
      "26 / 900\n",
      "27 / 900\n",
      "28 / 900\n",
      "29 / 900\n",
      "30 / 900\n",
      "31 / 900\n",
      "32 / 900\n",
      "33 / 900\n",
      "34 / 900\n",
      "35 / 900\n",
      "36 / 900\n",
      "37 / 900\n",
      "38 / 900\n",
      "39 / 900\n",
      "40 / 900\n",
      "41 / 900\n",
      "42 / 900\n",
      "43 / 900\n",
      "[ 3.65  0.1   0.99]\n",
      "44 / 900\n",
      "45 / 900\n",
      "46 / 900\n",
      "47 / 900\n",
      "48 / 900\n",
      "49 / 900\n",
      "50 / 900\n",
      "51 / 900\n",
      "52 / 900\n",
      "53 / 900\n",
      "54 / 900\n",
      "55 / 900\n",
      "56 / 900\n",
      "57 / 900\n",
      "58 / 900\n",
      "59 / 900\n",
      "60 / 900\n",
      "61 / 900\n",
      "62 / 900\n",
      "63 / 900\n",
      "64 / 900\n",
      "65 / 900\n",
      "66 / 900\n",
      "67 / 900\n",
      "68 / 900\n",
      "69 / 900\n",
      "70 / 900\n",
      "71 / 900\n",
      "72 / 900\n",
      "73 / 900\n",
      "74 / 900\n",
      "75 / 900\n",
      "76 / 900\n",
      "77 / 900\n",
      "78 / 900\n",
      "79 / 900\n",
      "80 / 900\n",
      "81 / 900\n",
      "82 / 900\n",
      "83 / 900\n",
      "84 / 900\n",
      "85 / 900\n",
      "86 / 900\n",
      "87 / 900\n",
      "88 / 900\n",
      "89 / 900\n",
      "90 / 900\n",
      "91 / 900\n",
      "92 / 900\n",
      "93 / 900\n",
      "94 / 900\n",
      "95 / 900\n",
      "96 / 900\n",
      "97 / 900\n",
      "98 / 900\n",
      "99 / 900\n",
      "100 / 900\n",
      "101 / 900\n",
      "102 / 900\n",
      "103 / 900\n",
      "104 / 900\n",
      "105 / 900\n",
      "106 / 900\n",
      "107 / 900\n",
      "108 / 900\n",
      "109 / 900\n",
      "110 / 900\n",
      "111 / 900\n",
      "112 / 900\n",
      "113 / 900\n",
      "114 / 900\n",
      "115 / 900\n",
      "116 / 900\n",
      "117 / 900\n",
      "118 / 900\n",
      "119 / 900\n",
      "120 / 900\n",
      "121 / 900\n",
      "122 / 900\n",
      "123 / 900\n",
      "124 / 900\n",
      "125 / 900\n",
      "126 / 900\n",
      "127 / 900\n",
      "128 / 900\n",
      "129 / 900\n",
      "130 / 900\n",
      "131 / 900\n",
      "132 / 900\n",
      "133 / 900\n",
      "134 / 900\n",
      "135 / 900\n",
      "136 / 900\n",
      "137 / 900\n",
      "138 / 900\n",
      "139 / 900\n",
      "140 / 900\n",
      "141 / 900\n",
      "142 / 900\n",
      "143 / 900\n",
      "144 / 900\n",
      "145 / 900\n",
      "146 / 900\n",
      "147 / 900\n",
      "148 / 900\n",
      "149 / 900\n",
      "150 / 900\n",
      "151 / 900\n",
      "152 / 900\n",
      "153 / 900\n",
      "154 / 900\n",
      "155 / 900\n",
      "156 / 900\n",
      "157 / 900\n",
      "158 / 900\n",
      "159 / 900\n",
      "160 / 900\n",
      "161 / 900\n",
      "162 / 900\n",
      "163 / 900\n",
      "164 / 900\n",
      "165 / 900\n",
      "166 / 900\n",
      "167 / 900\n",
      "168 / 900\n",
      "169 / 900\n",
      "170 / 900\n",
      "171 / 900\n",
      "172 / 900\n",
      "173 / 900\n",
      "174 / 900\n",
      "175 / 900\n",
      "176 / 900\n",
      "177 / 900\n",
      "178 / 900\n",
      "179 / 900\n",
      "180 / 900\n",
      "181 / 900\n",
      "182 / 900\n",
      "183 / 900\n",
      "184 / 900\n",
      "185 / 900\n",
      "186 / 900\n",
      "187 / 900\n",
      "188 / 900\n",
      "189 / 900\n",
      "190 / 900\n",
      "191 / 900\n",
      "192 / 900\n",
      "193 / 900\n",
      "194 / 900\n",
      "195 / 900\n",
      "196 / 900\n",
      "197 / 900\n",
      "198 / 900\n",
      "199 / 900\n",
      "200 / 900\n",
      "201 / 900\n",
      "202 / 900\n",
      "203 / 900\n",
      "204 / 900\n",
      "205 / 900\n",
      "206 / 900\n",
      "207 / 900\n",
      "208 / 900\n",
      "209 / 900\n",
      "210 / 900\n",
      "211 / 900\n",
      "212 / 900\n",
      "213 / 900\n",
      "214 / 900\n",
      "215 / 900\n",
      "216 / 900\n",
      "217 / 900\n",
      "218 / 900\n",
      "219 / 900\n",
      "220 / 900\n",
      "221 / 900\n",
      "222 / 900\n",
      "223 / 900\n",
      "224 / 900\n",
      "225 / 900\n",
      "226 / 900\n",
      "227 / 900\n",
      "228 / 900\n",
      "229 / 900\n",
      "230 / 900\n",
      "231 / 900\n",
      "232 / 900\n",
      "233 / 900\n",
      "234 / 900\n",
      "235 / 900\n",
      "236 / 900\n",
      "237 / 900\n",
      "238 / 900\n",
      "239 / 900\n",
      "240 / 900\n",
      "241 / 900\n",
      "242 / 900\n",
      "243 / 900\n",
      "244 / 900\n",
      "245 / 900\n",
      "246 / 900\n",
      "247 / 900\n",
      "248 / 900\n",
      "249 / 900\n",
      "250 / 900\n",
      "251 / 900\n",
      "252 / 900\n",
      "253 / 900\n",
      "254 / 900\n",
      "255 / 900\n",
      "256 / 900\n",
      "257 / 900\n",
      "258 / 900\n",
      "259 / 900\n",
      "260 / 900\n",
      "261 / 900\n",
      "262 / 900\n",
      "263 / 900\n",
      "264 / 900\n",
      "265 / 900\n",
      "266 / 900\n",
      "267 / 900\n",
      "268 / 900\n",
      "269 / 900\n",
      "270 / 900\n",
      "271 / 900\n",
      "272 / 900\n",
      "273 / 900\n",
      "274 / 900\n",
      "275 / 900\n",
      "276 / 900\n",
      "277 / 900\n",
      "278 / 900\n",
      "279 / 900\n",
      "280 / 900\n",
      "281 / 900\n",
      "282 / 900\n",
      "283 / 900\n",
      "284 / 900\n",
      "285 / 900\n",
      "286 / 900\n",
      "287 / 900\n",
      "288 / 900\n",
      "289 / 900\n",
      "290 / 900\n",
      "291 / 900\n",
      "292 / 900\n",
      "293 / 900\n",
      "294 / 900\n",
      "295 / 900\n",
      "296 / 900\n",
      "297 / 900\n",
      "298 / 900\n",
      "299 / 900\n",
      "300 / 900\n",
      "301 / 900\n",
      "302 / 900\n"
     ]
    },
    {
     "ename": "KeyboardInterrupt",
     "evalue": "",
     "output_type": "error",
     "traceback": [
      "\u001b[0;31m---------------------------------------------------------------------------\u001b[0m",
      "\u001b[0;31mKeyboardInterrupt\u001b[0m                         Traceback (most recent call last)",
      "\u001b[0;32m<ipython-input-35-b37318dd7bb4>\u001b[0m in \u001b[0;36m<module>\u001b[0;34m()\u001b[0m\n\u001b[1;32m     13\u001b[0m         \u001b[0;32mprint\u001b[0m\u001b[0;34m(\u001b[0m\u001b[0;34m'%d / %d'\u001b[0m \u001b[0;34m%\u001b[0m \u001b[0;34m(\u001b[0m\u001b[0mindex\u001b[0m\u001b[0;34m,\u001b[0m \u001b[0msteps\u001b[0m\u001b[0;34m)\u001b[0m\u001b[0;34m)\u001b[0m\u001b[0;34m\u001b[0m\u001b[0m\n\u001b[1;32m     14\u001b[0m         \u001b[0msvc\u001b[0m \u001b[0;34m=\u001b[0m \u001b[0msvm\u001b[0m\u001b[0;34m.\u001b[0m\u001b[0mSVC\u001b[0m\u001b[0;34m(\u001b[0m\u001b[0mkernel\u001b[0m\u001b[0;34m=\u001b[0m\u001b[0;34m'rbf'\u001b[0m\u001b[0;34m,\u001b[0m \u001b[0mC\u001b[0m\u001b[0;34m=\u001b[0m\u001b[0mc\u001b[0m\u001b[0;34m,\u001b[0m \u001b[0mgamma\u001b[0m\u001b[0;34m=\u001b[0m\u001b[0mg\u001b[0m\u001b[0;34m)\u001b[0m\u001b[0;34m\u001b[0m\u001b[0m\n\u001b[0;32m---> 15\u001b[0;31m         \u001b[0msvc\u001b[0m\u001b[0;34m.\u001b[0m\u001b[0mfit\u001b[0m\u001b[0;34m(\u001b[0m\u001b[0mX_train\u001b[0m\u001b[0;34m,\u001b[0m \u001b[0mY_train\u001b[0m\u001b[0;34m)\u001b[0m\u001b[0;34m\u001b[0m\u001b[0m\n\u001b[0m\u001b[1;32m     16\u001b[0m         \u001b[0mscore\u001b[0m \u001b[0;34m=\u001b[0m \u001b[0msvc\u001b[0m\u001b[0;34m.\u001b[0m\u001b[0mscore\u001b[0m\u001b[0;34m(\u001b[0m\u001b[0mX_test\u001b[0m\u001b[0;34m,\u001b[0m \u001b[0mY_test\u001b[0m\u001b[0;34m)\u001b[0m\u001b[0;34m\u001b[0m\u001b[0m\n\u001b[1;32m     17\u001b[0m         \u001b[0mscores\u001b[0m\u001b[0;34m[\u001b[0m\u001b[0mindex\u001b[0m\u001b[0;34m]\u001b[0m \u001b[0;34m=\u001b[0m \u001b[0mnp\u001b[0m\u001b[0;34m.\u001b[0m\u001b[0marray\u001b[0m\u001b[0;34m(\u001b[0m\u001b[0;34m[\u001b[0m\u001b[0mc\u001b[0m\u001b[0;34m,\u001b[0m \u001b[0mg\u001b[0m\u001b[0;34m,\u001b[0m \u001b[0mscore\u001b[0m\u001b[0;34m]\u001b[0m\u001b[0;34m)\u001b[0m\u001b[0;34m\u001b[0m\u001b[0m\n",
      "\u001b[0;32m/usr/local/lib/python2.7/dist-packages/sklearn/svm/base.pyc\u001b[0m in \u001b[0;36mfit\u001b[0;34m(self, X, y, sample_weight)\u001b[0m\n\u001b[1;32m    185\u001b[0m \u001b[0;34m\u001b[0m\u001b[0m\n\u001b[1;32m    186\u001b[0m         \u001b[0mseed\u001b[0m \u001b[0;34m=\u001b[0m \u001b[0mrnd\u001b[0m\u001b[0;34m.\u001b[0m\u001b[0mrandint\u001b[0m\u001b[0;34m(\u001b[0m\u001b[0mnp\u001b[0m\u001b[0;34m.\u001b[0m\u001b[0miinfo\u001b[0m\u001b[0;34m(\u001b[0m\u001b[0;34m'i'\u001b[0m\u001b[0;34m)\u001b[0m\u001b[0;34m.\u001b[0m\u001b[0mmax\u001b[0m\u001b[0;34m)\u001b[0m\u001b[0;34m\u001b[0m\u001b[0m\n\u001b[0;32m--> 187\u001b[0;31m         \u001b[0mfit\u001b[0m\u001b[0;34m(\u001b[0m\u001b[0mX\u001b[0m\u001b[0;34m,\u001b[0m \u001b[0my\u001b[0m\u001b[0;34m,\u001b[0m \u001b[0msample_weight\u001b[0m\u001b[0;34m,\u001b[0m \u001b[0msolver_type\u001b[0m\u001b[0;34m,\u001b[0m \u001b[0mkernel\u001b[0m\u001b[0;34m,\u001b[0m \u001b[0mrandom_seed\u001b[0m\u001b[0;34m=\u001b[0m\u001b[0mseed\u001b[0m\u001b[0;34m)\u001b[0m\u001b[0;34m\u001b[0m\u001b[0m\n\u001b[0m\u001b[1;32m    188\u001b[0m         \u001b[0;31m# see comment on the other call to np.iinfo in this file\u001b[0m\u001b[0;34m\u001b[0m\u001b[0;34m\u001b[0m\u001b[0m\n\u001b[1;32m    189\u001b[0m \u001b[0;34m\u001b[0m\u001b[0m\n",
      "\u001b[0;32m/usr/local/lib/python2.7/dist-packages/sklearn/svm/base.pyc\u001b[0m in \u001b[0;36m_dense_fit\u001b[0;34m(self, X, y, sample_weight, solver_type, kernel, random_seed)\u001b[0m\n\u001b[1;32m    252\u001b[0m                 \u001b[0mcache_size\u001b[0m\u001b[0;34m=\u001b[0m\u001b[0mself\u001b[0m\u001b[0;34m.\u001b[0m\u001b[0mcache_size\u001b[0m\u001b[0;34m,\u001b[0m \u001b[0mcoef0\u001b[0m\u001b[0;34m=\u001b[0m\u001b[0mself\u001b[0m\u001b[0;34m.\u001b[0m\u001b[0mcoef0\u001b[0m\u001b[0;34m,\u001b[0m\u001b[0;34m\u001b[0m\u001b[0m\n\u001b[1;32m    253\u001b[0m                 \u001b[0mgamma\u001b[0m\u001b[0;34m=\u001b[0m\u001b[0mself\u001b[0m\u001b[0;34m.\u001b[0m\u001b[0m_gamma\u001b[0m\u001b[0;34m,\u001b[0m \u001b[0mepsilon\u001b[0m\u001b[0;34m=\u001b[0m\u001b[0mself\u001b[0m\u001b[0;34m.\u001b[0m\u001b[0mepsilon\u001b[0m\u001b[0;34m,\u001b[0m\u001b[0;34m\u001b[0m\u001b[0m\n\u001b[0;32m--> 254\u001b[0;31m                 max_iter=self.max_iter, random_seed=random_seed)\n\u001b[0m\u001b[1;32m    255\u001b[0m \u001b[0;34m\u001b[0m\u001b[0m\n\u001b[1;32m    256\u001b[0m         \u001b[0mself\u001b[0m\u001b[0;34m.\u001b[0m\u001b[0m_warn_from_fit_status\u001b[0m\u001b[0;34m(\u001b[0m\u001b[0;34m)\u001b[0m\u001b[0;34m\u001b[0m\u001b[0m\n",
      "\u001b[0;31mKeyboardInterrupt\u001b[0m: "
     ]
    }
   ],
   "source": [
    "X_train, X_test, Y_train, Y_test = split(scaled_v8, .20)\n",
    "\n",
    "Gs = np.arange(.1, 1, .05)\n",
    "Cs = np.arange(1.5, 4, .05)\n",
    "\n",
    "steps = len(Gs) * len(Cs)\n",
    "scores = np.array([np.zeros((3)) for s in range(steps)])\n",
    "index = 0\n",
    "top = [.1, .1, 0]\n",
    "\n",
    "for g in Gs:\n",
    "    for c in Cs:\n",
    "        print('%d / %d' % (index, steps))\n",
    "        svc = svm.SVC(kernel='rbf', C=c, gamma=g)\n",
    "        svc.fit(X_train, Y_train)\n",
    "        score = svc.score(X_test, Y_test)\n",
    "        scores[index] = np.array([c, g, score])\n",
    "        if score > top[2]:\n",
    "            top = scores[index]\n",
    "            print top\n",
    "        index += 1\n",
    "\n",
    "print 'Top:', top"
   ]
  },
  {
   "cell_type": "code",
   "execution_count": 36,
   "metadata": {},
   "outputs": [
    {
     "data": {
      "text/plain": [
       "<matplotlib.collections.PathCollection at 0x7fea86ff8690>"
      ]
     },
     "execution_count": 36,
     "metadata": {},
     "output_type": "execute_result"
    },
    {
     "data": {
      "image/png": "[encoded data removed]",
      "text/plain": [
       "<Figure size 432x288 with 1 Axes>"
      ]
     },
     "metadata": {
      "needs_background": "light"
     },
     "output_type": "display_data"
    }
   ],
   "source": [
    "npscores = np.array(scores[:300])\n",
    "plt.scatter(range(len(npscores)), npscores[:,2])"
   ]
  },
  {
   "cell_type": "markdown",
   "metadata": {},
   "source": [
    "## Try SGD"
   ]
  },
  {
   "cell_type": "code",
   "execution_count": null,
   "metadata": {},
   "outputs": [],
   "source": [
    "from sklearn import linear_model\n",
    "\n",
    "sgd = linear_model.SGDClassifier(max_iter=200)\n",
    "sgd.fit(X_train, Y_train)\n",
    "score = sgd.score(X_test, Y_test)\n",
    "print(score)"
   ]
  },
  {
   "cell_type": "markdown",
   "metadata": {},
   "source": [
    "## Try kNN"
   ]
  },
  {
   "cell_type": "code",
   "execution_count": null,
   "metadata": {},
   "outputs": [],
   "source": [
    "from sklearn.neighbors import KNeighborsClassifier\n",
    "\n",
    "knn = KNeighborsClassifier(n_neighbors=30)\n",
    "knn.fit(X_train, Y_train)\n",
    "score = knn.score(X_test, Y_test)\n",
    "print(score)"
   ]
  },
  {
   "cell_type": "code",
   "execution_count": null,
   "metadata": {
    "scrolled": true
   },
   "outputs": [],
   "source": [
    "Ns = range(3, 30)\n",
    "scores = np.zeros((len(Ns)))\n",
    "index = 0\n",
    "top = (3, 0)\n",
    "for n in Ns:\n",
    "    print('%d / %d (%d)' % (index, len(Ns)-1, n))\n",
    "    knn = KNeighborsClassifier(n_neighbors=n)\n",
    "    knn.fit(X_train, Y_train)\n",
    "    score = knn.score(X_test, Y_test)\n",
    "    scores[index] = score\n",
    "    if score > top[1]:\n",
    "        top = (n, score)\n",
    "    index += 1\n",
    "\n",
    "print('Top:', top)"
   ]
  },
  {
   "cell_type": "markdown",
   "metadata": {},
   "source": [
    "## Combining Automation"
   ]
  },
  {
   "cell_type": "code",
   "execution_count": 171,
   "metadata": {
    "collapsed": true
   },
   "outputs": [
    {
     "name": "stdout",
     "output_type": "stream",
     "text": [
      "Testing v8 on AdaBoost ...\n",
      "Fitting 3 folds for each of 2 candidates, totalling 6 fits\n"
     ]
    },
    {
     "name": "stderr",
     "output_type": "stream",
     "text": [
      "[Parallel(n_jobs=-1)]: Done   6 out of   6 | elapsed:  1.2min finished\n"
     ]
    },
    {
     "name": "stdout",
     "output_type": "stream",
     "text": [
      "Params: {'base_estimator': RandomForestClassifier(bootstrap=True, class_weight=None, criterion='gini',\n",
      "            max_depth=None, max_features='auto', max_leaf_nodes=None,\n",
      "            min_impurity_decrease=0.0, min_impurity_split=None,\n",
      "            min_samples_leaf=1, min_samples_split=2,\n",
      "            min_weight_fraction_leaf=0.0, n_estimators=81, n_jobs=1,\n",
      "            oob_score=False, random_state=None, verbose=0,\n",
      "            warm_start=False), 'algorithm': 'SAMME'}\n",
      "MSE: 0.969401041667\n",
      "\n",
      "Testing v8 on SVM/C ...\n",
      "Fitting 3 folds for each of 156 candidates, totalling 468 fits\n"
     ]
    },
    {
     "name": "stderr",
     "output_type": "stream",
     "text": [
      "[Parallel(n_jobs=-1)]: Done  88 tasks      | elapsed:    8.4s\n",
      "[Parallel(n_jobs=-1)]: Done 388 tasks      | elapsed:   31.2s\n",
      "[Parallel(n_jobs=-1)]: Done 468 out of 468 | elapsed:   37.0s finished\n"
     ]
    },
    {
     "name": "stdout",
     "output_type": "stream",
     "text": [
      "Params: {'kernel': 'rbf', 'C': 1.0000000000000004, 'gamma': 0.1}\n",
      "MSE: 0.979817708333\n",
      "\n",
      "Testing v8 on RandomForest ...\n",
      "Fitting 3 folds for each of 40 candidates, totalling 120 fits\n"
     ]
    },
    {
     "name": "stderr",
     "output_type": "stream",
     "text": [
      "[Parallel(n_jobs=-1)]: Done  46 tasks      | elapsed:    7.6s\n",
      "[Parallel(n_jobs=-1)]: Done 120 out of 120 | elapsed:   23.6s finished\n"
     ]
    },
    {
     "name": "stdout",
     "output_type": "stream",
     "text": [
      "Params: {'n_estimators': 88}\n",
      "MSE: 0.974609375\n",
      "\n",
      "Testing v8 on kNN ...\n",
      "Fitting 3 folds for each of 9 candidates, totalling 27 fits\n"
     ]
    },
    {
     "name": "stderr",
     "output_type": "stream",
     "text": [
      "[Parallel(n_jobs=-1)]: Done  24 out of  27 | elapsed:    3.0s remaining:    0.4s\n"
     ]
    },
    {
     "name": "stdout",
     "output_type": "stream",
     "text": [
      "Params: {'n_neighbors': 4}\n",
      "MSE: 0.973958333333\n",
      "\n",
      "Testing v8 on SGD ...\n",
      "Fitting 3 folds for each of 8 candidates, totalling 24 fits\n"
     ]
    },
    {
     "name": "stderr",
     "output_type": "stream",
     "text": [
      "[Parallel(n_jobs=-1)]: Done  27 out of  27 | elapsed:    3.3s finished\n",
      "[Parallel(n_jobs=-1)]: Done  24 out of  24 | elapsed:   13.5s finished\n"
     ]
    },
    {
     "name": "stdout",
     "output_type": "stream",
     "text": [
      "Params: {'max_iter': 400}\n",
      "MSE: 0.95703125\n",
      "\n",
      "Testing v7 on AdaBoost ...\n",
      "Fitting 3 folds for each of 2 candidates, totalling 6 fits\n"
     ]
    },
    {
     "name": "stderr",
     "output_type": "stream",
     "text": [
      "[Parallel(n_jobs=-1)]: Done   6 out of   6 | elapsed:   57.5s finished\n"
     ]
    },
    {
     "name": "stdout",
     "output_type": "stream",
     "text": [
      "Params: {'base_estimator': RandomForestClassifier(bootstrap=True, class_weight=None, criterion='gini',\n",
      "            max_depth=None, max_features='auto', max_leaf_nodes=None,\n",
      "            min_impurity_decrease=0.0, min_impurity_split=None,\n",
      "            min_samples_leaf=1, min_samples_split=2,\n",
      "            min_weight_fraction_leaf=0.0, n_estimators=81, n_jobs=1,\n",
      "            oob_score=False, random_state=None, verbose=0,\n",
      "            warm_start=False), 'algorithm': 'SAMME'}\n",
      "MSE: 0.967447916667\n",
      "\n",
      "Testing v7 on SVM/C ...\n",
      "Fitting 3 folds for each of 156 candidates, totalling 468 fits\n"
     ]
    },
    {
     "name": "stderr",
     "output_type": "stream",
     "text": [
      "[Parallel(n_jobs=-1)]: Done  88 tasks      | elapsed:    7.2s\n",
      "[Parallel(n_jobs=-1)]: Done 388 tasks      | elapsed:   30.2s\n",
      "[Parallel(n_jobs=-1)]: Done 468 out of 468 | elapsed:   35.7s finished\n"
     ]
    },
    {
     "name": "stdout",
     "output_type": "stream",
     "text": [
      "Params: {'kernel': 'rbf', 'C': 1.2000000000000004, 'gamma': 0.1}\n",
      "MSE: 0.98046875\n",
      "\n",
      "Testing v7 on RandomForest ...\n",
      "Fitting 3 folds for each of 40 candidates, totalling 120 fits\n"
     ]
    },
    {
     "name": "stderr",
     "output_type": "stream",
     "text": [
      "[Parallel(n_jobs=-1)]: Done  46 tasks      | elapsed:    8.7s\n",
      "[Parallel(n_jobs=-1)]: Done 120 out of 120 | elapsed:   27.5s finished\n"
     ]
    },
    {
     "name": "stdout",
     "output_type": "stream",
     "text": [
      "Params: {'n_estimators': 99}\n",
      "MSE: 0.975911458333\n",
      "\n",
      "Testing v7 on kNN ...\n",
      "Fitting 3 folds for each of 9 candidates, totalling 27 fits\n",
      "Params: {'n_neighbors': 4}\n",
      "MSE: 0.973958333333\n",
      "\n",
      "Testing v7 on SGD ...\n",
      "Fitting 3 folds for each of 8 candidates, totalling 24 fits\n"
     ]
    },
    {
     "name": "stderr",
     "output_type": "stream",
     "text": [
      "[Parallel(n_jobs=-1)]: Done  27 out of  27 | elapsed:    2.9s finished\n",
      "[Parallel(n_jobs=-1)]: Done  24 out of  24 | elapsed:   10.7s finished\n"
     ]
    },
    {
     "name": "stdout",
     "output_type": "stream",
     "text": [
      "Params: {'max_iter': 600}\n",
      "MSE: 0.957682291667\n",
      "\n",
      "Testing v6 on AdaBoost ...\n",
      "Fitting 3 folds for each of 2 candidates, totalling 6 fits\n"
     ]
    },
    {
     "name": "stderr",
     "output_type": "stream",
     "text": [
      "[Parallel(n_jobs=-1)]: Done   6 out of   6 | elapsed:   56.4s finished\n"
     ]
    },
    {
     "name": "stdout",
     "output_type": "stream",
     "text": [
      "Params: {'base_estimator': RandomForestClassifier(bootstrap=True, class_weight=None, criterion='gini',\n",
      "            max_depth=None, max_features='auto', max_leaf_nodes=None,\n",
      "            min_impurity_decrease=0.0, min_impurity_split=None,\n",
      "            min_samples_leaf=1, min_samples_split=2,\n",
      "            min_weight_fraction_leaf=0.0, n_estimators=81, n_jobs=1,\n",
      "            oob_score=False, random_state=None, verbose=0,\n",
      "            warm_start=False), 'algorithm': 'SAMME'}\n",
      "MSE: 0.9609375\n",
      "\n",
      "Testing v6 on SVM/C ...\n",
      "Fitting 3 folds for each of 156 candidates, totalling 468 fits\n"
     ]
    },
    {
     "name": "stderr",
     "output_type": "stream",
     "text": [
      "[Parallel(n_jobs=-1)]: Done  88 tasks      | elapsed:    6.7s\n",
      "[Parallel(n_jobs=-1)]: Done 388 tasks      | elapsed:   24.4s\n",
      "[Parallel(n_jobs=-1)]: Done 468 out of 468 | elapsed:   29.1s finished\n"
     ]
    },
    {
     "name": "stdout",
     "output_type": "stream",
     "text": [
      "Params: {'kernel': 'rbf', 'C': 3.8000000000000012, 'gamma': 0.1}\n",
      "MSE: 0.983072916667\n",
      "\n",
      "Testing v6 on RandomForest ...\n",
      "Fitting 3 folds for each of 40 candidates, totalling 120 fits\n"
     ]
    },
    {
     "name": "stderr",
     "output_type": "stream",
     "text": [
      "[Parallel(n_jobs=-1)]: Done  46 tasks      | elapsed:   11.9s\n",
      "[Parallel(n_jobs=-1)]: Done 120 out of 120 | elapsed:   31.4s finished\n"
     ]
    },
    {
     "name": "stdout",
     "output_type": "stream",
     "text": [
      "Params: {'n_estimators': 78}\n",
      "MSE: 0.969401041667\n",
      "\n",
      "Testing v6 on kNN ...\n",
      "Fitting 3 folds for each of 9 candidates, totalling 27 fits\n"
     ]
    },
    {
     "name": "stderr",
     "output_type": "stream",
     "text": [
      "[Parallel(n_jobs=-1)]: Done  24 out of  27 | elapsed:    2.0s remaining:    0.2s\n"
     ]
    },
    {
     "name": "stdout",
     "output_type": "stream",
     "text": [
      "Params: {'n_neighbors': 1}\n",
      "MSE: 0.97265625\n",
      "\n",
      "Testing v6 on SGD ...\n",
      "Fitting 3 folds for each of 8 candidates, totalling 24 fits\n"
     ]
    },
    {
     "name": "stderr",
     "output_type": "stream",
     "text": [
      "[Parallel(n_jobs=-1)]: Done  27 out of  27 | elapsed:    2.2s finished\n",
      "[Parallel(n_jobs=-1)]: Done  24 out of  24 | elapsed:   10.4s finished\n"
     ]
    },
    {
     "name": "stdout",
     "output_type": "stream",
     "text": [
      "Params: {'max_iter': 700}\n",
      "MSE: 0.948567708333\n",
      "\n",
      "Testing v4 on AdaBoost ...\n",
      "Fitting 3 folds for each of 2 candidates, totalling 6 fits\n"
     ]
    },
    {
     "name": "stderr",
     "output_type": "stream",
     "text": [
      "[Parallel(n_jobs=-1)]: Done   6 out of   6 | elapsed:  1.0min finished\n"
     ]
    },
    {
     "name": "stdout",
     "output_type": "stream",
     "text": [
      "Params: {'base_estimator': RandomForestClassifier(bootstrap=True, class_weight=None, criterion='gini',\n",
      "            max_depth=None, max_features='auto', max_leaf_nodes=None,\n",
      "            min_impurity_decrease=0.0, min_impurity_split=None,\n",
      "            min_samples_leaf=1, min_samples_split=2,\n",
      "            min_weight_fraction_leaf=0.0, n_estimators=81, n_jobs=1,\n",
      "            oob_score=False, random_state=None, verbose=0,\n",
      "            warm_start=False), 'algorithm': 'SAMME'}\n",
      "MSE: 0.955078125\n",
      "\n",
      "Testing v4 on SVM/C ...\n",
      "Fitting 3 folds for each of 156 candidates, totalling 468 fits\n"
     ]
    },
    {
     "name": "stderr",
     "output_type": "stream",
     "text": [
      "[Parallel(n_jobs=-1)]: Done  88 tasks      | elapsed:    7.5s\n",
      "[Parallel(n_jobs=-1)]: Done 388 tasks      | elapsed:   27.2s\n",
      "[Parallel(n_jobs=-1)]: Done 468 out of 468 | elapsed:   32.4s finished\n"
     ]
    },
    {
     "name": "stdout",
     "output_type": "stream",
     "text": [
      "Params: {'kernel': 'rbf', 'C': 1.7000000000000006, 'gamma': 0.1}\n",
      "MSE: 0.977864583333\n",
      "\n",
      "Testing v4 on RandomForest ...\n",
      "Fitting 3 folds for each of 40 candidates, totalling 120 fits\n"
     ]
    },
    {
     "name": "stderr",
     "output_type": "stream",
     "text": [
      "[Parallel(n_jobs=-1)]: Done  46 tasks      | elapsed:    7.7s\n",
      "[Parallel(n_jobs=-1)]: Done 120 out of 120 | elapsed:   23.6s finished\n"
     ]
    },
    {
     "name": "stdout",
     "output_type": "stream",
     "text": [
      "Params: {'n_estimators': 83}\n",
      "MSE: 0.96484375\n",
      "\n",
      "Testing v4 on kNN ...\n",
      "Fitting 3 folds for each of 9 candidates, totalling 27 fits\n"
     ]
    },
    {
     "name": "stderr",
     "output_type": "stream",
     "text": [
      "[Parallel(n_jobs=-1)]: Done  24 out of  27 | elapsed:    2.2s remaining:    0.3s\n"
     ]
    },
    {
     "name": "stdout",
     "output_type": "stream",
     "text": [
      "Params: {'n_neighbors': 1}\n",
      "MSE: 0.968098958333\n",
      "\n",
      "Testing v4 on SGD ...\n",
      "Fitting 3 folds for each of 8 candidates, totalling 24 fits\n"
     ]
    },
    {
     "name": "stderr",
     "output_type": "stream",
     "text": [
      "[Parallel(n_jobs=-1)]: Done  27 out of  27 | elapsed:    2.5s finished\n",
      "[Parallel(n_jobs=-1)]: Done  24 out of  24 | elapsed:   10.3s finished\n"
     ]
    },
    {
     "name": "stdout",
     "output_type": "stream",
     "text": [
      "Params: {'max_iter': 300}\n",
      "MSE: 0.948567708333\n",
      "\n",
      "Testing Cleaned+MinMaxScaled on AdaBoost ...\n",
      "Fitting 3 folds for each of 2 candidates, totalling 6 fits\n"
     ]
    },
    {
     "name": "stderr",
     "output_type": "stream",
     "text": [
      "[Parallel(n_jobs=-1)]: Done   6 out of   6 | elapsed:   33.7s finished\n"
     ]
    },
    {
     "name": "stdout",
     "output_type": "stream",
     "text": [
      "Params: {'base_estimator': RandomForestClassifier(bootstrap=True, class_weight=None, criterion='gini',\n",
      "            max_depth=None, max_features='auto', max_leaf_nodes=None,\n",
      "            min_impurity_decrease=0.0, min_impurity_split=None,\n",
      "            min_samples_leaf=1, min_samples_split=2,\n",
      "            min_weight_fraction_leaf=0.0, n_estimators=81, n_jobs=1,\n",
      "            oob_score=False, random_state=None, verbose=0,\n",
      "            warm_start=False), 'algorithm': 'SAMME'}\n",
      "MSE: 0.947916666667\n",
      "\n",
      "Testing Cleaned+MinMaxScaled on SVM/C ...\n",
      "Fitting 3 folds for each of 156 candidates, totalling 468 fits\n"
     ]
    },
    {
     "name": "stderr",
     "output_type": "stream",
     "text": [
      "[Parallel(n_jobs=-1)]: Done  88 tasks      | elapsed:    4.8s\n",
      "[Parallel(n_jobs=-1)]: Done 388 tasks      | elapsed:   15.8s\n"
     ]
    },
    {
     "name": "stdout",
     "output_type": "stream",
     "text": [
      "Params: {'kernel': 'linear', 'C': 3.4500000000000011, 'gamma': 0.1}\n",
      "MSE: 0.96484375\n",
      "\n",
      "Testing Cleaned+MinMaxScaled on RandomForest ...\n",
      "Fitting 3 folds for each of 40 candidates, totalling 120 fits\n"
     ]
    },
    {
     "name": "stderr",
     "output_type": "stream",
     "text": [
      "[Parallel(n_jobs=-1)]: Done 468 out of 468 | elapsed:   18.7s finished\n",
      "[Parallel(n_jobs=-1)]: Done  46 tasks      | elapsed:   11.4s\n",
      "[Parallel(n_jobs=-1)]: Done 120 out of 120 | elapsed:   43.2s finished\n"
     ]
    },
    {
     "name": "stdout",
     "output_type": "stream",
     "text": [
      "Params: {'n_estimators': 72}\n",
      "MSE: 0.951171875\n",
      "\n",
      "Testing Cleaned+MinMaxScaled on kNN ...\n",
      "Fitting 3 folds for each of 9 candidates, totalling 27 fits\n"
     ]
    },
    {
     "name": "stderr",
     "output_type": "stream",
     "text": [
      "[Parallel(n_jobs=-1)]: Done  24 out of  27 | elapsed:    1.5s remaining:    0.2s\n",
      "[Parallel(n_jobs=-1)]: Done  27 out of  27 | elapsed:    1.7s finished\n"
     ]
    },
    {
     "name": "stdout",
     "output_type": "stream",
     "text": [
      "Params: {'n_neighbors': 1}\n",
      "MSE: 0.956380208333\n",
      "\n",
      "Testing Cleaned+MinMaxScaled on SGD ...\n",
      "Fitting 3 folds for each of 8 candidates, totalling 24 fits\n"
     ]
    },
    {
     "name": "stderr",
     "output_type": "stream",
     "text": [
      "[Parallel(n_jobs=-1)]: Done  24 out of  24 | elapsed:    9.6s finished\n"
     ]
    },
    {
     "name": "stdout",
     "output_type": "stream",
     "text": [
      "Params: {'max_iter': 500}\n",
      "MSE: 0.951822916667\n",
      "\n",
      "Testing Cleaned+Extended+MinMaxScaled on AdaBoost ...\n",
      "Fitting 3 folds for each of 2 candidates, totalling 6 fits\n"
     ]
    },
    {
     "name": "stderr",
     "output_type": "stream",
     "text": [
      "[Parallel(n_jobs=-1)]: Done   6 out of   6 | elapsed:  1.3min finished\n"
     ]
    },
    {
     "name": "stdout",
     "output_type": "stream",
     "text": [
      "Params: {'base_estimator': RandomForestClassifier(bootstrap=True, class_weight=None, criterion='gini',\n",
      "            max_depth=None, max_features='auto', max_leaf_nodes=None,\n",
      "            min_impurity_decrease=0.0, min_impurity_split=None,\n",
      "            min_samples_leaf=1, min_samples_split=2,\n",
      "            min_weight_fraction_leaf=0.0, n_estimators=81, n_jobs=1,\n",
      "            oob_score=False, random_state=None, verbose=0,\n",
      "            warm_start=False), 'algorithm': 'SAMME'}\n",
      "MSE: 0.9609375\n",
      "\n",
      "Testing Cleaned+Extended+MinMaxScaled on SVM/C ...\n",
      "Fitting 3 folds for each of 156 candidates, totalling 468 fits\n"
     ]
    },
    {
     "name": "stderr",
     "output_type": "stream",
     "text": [
      "[Parallel(n_jobs=-1)]: Done  88 tasks      | elapsed:    7.4s\n",
      "[Parallel(n_jobs=-1)]: Done 388 tasks      | elapsed:   28.9s\n",
      "[Parallel(n_jobs=-1)]: Done 468 out of 468 | elapsed:   35.0s finished\n"
     ]
    },
    {
     "name": "stdout",
     "output_type": "stream",
     "text": [
      "Params: {'kernel': 'rbf', 'C': 2.9000000000000008, 'gamma': 0.1}\n",
      "MSE: 0.981770833333\n",
      "\n",
      "Testing Cleaned+Extended+MinMaxScaled on RandomForest ...\n",
      "Fitting 3 folds for each of 40 candidates, totalling 120 fits\n"
     ]
    },
    {
     "name": "stderr",
     "output_type": "stream",
     "text": [
      "[Parallel(n_jobs=-1)]: Done  46 tasks      | elapsed:    8.9s\n",
      "[Parallel(n_jobs=-1)]: Done 120 out of 120 | elapsed:   25.1s finished\n"
     ]
    },
    {
     "name": "stdout",
     "output_type": "stream",
     "text": [
      "Params: {'n_estimators': 93}\n",
      "MSE: 0.965494791667\n",
      "\n",
      "Testing Cleaned+Extended+MinMaxScaled on kNN ...\n",
      "Fitting 3 folds for each of 9 candidates, totalling 27 fits\n",
      "Params: {'n_neighbors': 3}\n",
      "MSE: 0.970052083333\n",
      "\n",
      "Testing Cleaned+Extended+MinMaxScaled on SGD ...\n",
      "Fitting 3 folds for each of 8 candidates, totalling 24 fits\n"
     ]
    },
    {
     "name": "stderr",
     "output_type": "stream",
     "text": [
      "[Parallel(n_jobs=-1)]: Done  27 out of  27 | elapsed:    3.4s finished\n",
      "[Parallel(n_jobs=-1)]: Done  24 out of  24 | elapsed:   12.9s finished\n"
     ]
    },
    {
     "name": "stdout",
     "output_type": "stream",
     "text": [
      "Params: {'max_iter': 400}\n",
      "MSE: 0.950520833333\n",
      "\n"
     ]
    }
   ],
   "source": [
    "from sklearn.model_selection import GridSearchCV\n",
    "from sklearn.model_selection import train_test_split\n",
    "from sklearn.ensemble import RandomForestClassifier\n",
    "from sklearn.ensemble import AdaBoostClassifier\n",
    "from sklearn.neighbors import KNeighborsClassifier\n",
    "from sklearn import linear_model\n",
    "from sklearn import svm\n",
    "\n",
    "datasets = [\n",
    "    ('v8', scaled_v8),\n",
    "    ('v7', scaled_v7),\n",
    "    ('v6', scaled_v6),\n",
    "    ('v4', scaled_v4),\n",
    "    ('Cleaned+MinMaxScaled', minmaxscaled),\n",
    "    ('Cleaned+Extended+MinMaxScaled', minmaxscaled_ext)\n",
    "]\n",
    "\n",
    "options = {\n",
    "    'AdaBoost': {\n",
    "        'base_estimator': [\n",
    "            svm.SVC(kernel='rbf', C=3.65, gamma=0.1),\n",
    "            RandomForestClassifier(n_estimators=81)\n",
    "        ],\n",
    "        'algorithm': ['SAMME']\n",
    "    },\n",
    "    'SVM/C': {\n",
    "        'kernel': ('linear', 'rbf'),\n",
    "        'C': np.arange(.1, 4.0, .05),\n",
    "        'gamma': [.1]\n",
    "    },\n",
    "    'RandomForest': {\n",
    "        'n_estimators': range(60, 100)\n",
    "    },\n",
    "    'kNN': {\n",
    "        'n_neighbors': range(2, 15)\n",
    "    },\n",
    "    'SGD': {\n",
    "        'max_iter': [300, 400, 500, 600, 700, 800, 900, 1000]\n",
    "    }\n",
    "}\n",
    "\n",
    "classifiers = [\n",
    "    ('AdaBoost', AdaBoostClassifier),\n",
    "    ('SVM/C', svm.SVC),\n",
    "    ('RandomForest', RandomForestClassifier),\n",
    "    ('kNN', KNeighborsClassifier),\n",
    "    ('SGD', linear_model.SGDClassifier)\n",
    "]\n",
    "\n",
    "def search(classifiers, options, datasets, test_size, random_state):\n",
    "    results = {\n",
    "        'rank': [],\n",
    "        'classifier': [],\n",
    "        'options': [],\n",
    "        'dataset': [],\n",
    "        'score': []\n",
    "    }\n",
    "\n",
    "    for dataset in datasets:\n",
    "        X_train, X_test, Y_train, Y_test = train_test_split(dataset[1].iloc[:,:-1], dataset[1].iloc[:,-1],\\\n",
    "                                                            test_size=test_size, random_state=random_state)\n",
    "        \n",
    "        for classifier in classifiers:\n",
    "            name = classifier[0]\n",
    "            print 'Testing', dataset[0], 'on', name, '...'\n",
    "\n",
    "            model = GridSearchCV(classifier[1](), options[name], verbose=1, n_jobs=-1, cv=3)\n",
    "            model.fit(X_train, Y_train)\n",
    "            \n",
    "            print 'Params:', model.best_params_\n",
    "            print 'MSE:', model.best_score_\n",
    "            print\n",
    "            \n",
    "            results['rank'].append(0)\n",
    "            results['classifier'].append(name)\n",
    "            results['options'].append(str(model.best_params_))\n",
    "            results['dataset'].append(dataset[0])\n",
    "            results['score'].append(model.best_score_)\n",
    "\n",
    "    return results\n",
    "\n",
    "results = search(classifiers, options, datasets, .20, 123456)"
   ]
  },
  {
   "cell_type": "code",
   "execution_count": null,
   "metadata": {},
   "outputs": [
    {
     "name": "stdout",
     "output_type": "stream",
     "text": [
      "Testing v8 on SVM/C ...\n",
      "Fitting 3 folds for each of 2964 candidates, totalling 8892 fits\n"
     ]
    },
    {
     "name": "stderr",
     "output_type": "stream",
     "text": [
      "[Parallel(n_jobs=-1)]: Done  46 tasks      | elapsed:   12.0s\n",
      "[Parallel(n_jobs=-1)]: Done 196 tasks      | elapsed:   57.2s\n",
      "[Parallel(n_jobs=-1)]: Done 446 tasks      | elapsed:  2.1min\n"
     ]
    }
   ],
   "source": [
    "from sklearn.model_selection import GridSearchCV\n",
    "from sklearn.model_selection import train_test_split\n",
    "from sklearn.ensemble import RandomForestClassifier\n",
    "from sklearn.ensemble import AdaBoostClassifier\n",
    "from sklearn.neighbors import KNeighborsClassifier\n",
    "from sklearn import linear_model\n",
    "from sklearn import svm\n",
    "\n",
    "datasets = [\n",
    "    ('v8', scaled_v8),\n",
    "    ('v7', scaled_v7),\n",
    "    ('v6', scaled_v6),\n",
    "    ('v4', scaled_v4),\n",
    "    ('Cleaned+MinMaxScaled', minmaxscaled),\n",
    "    ('Cleaned+Extended+MinMaxScaled', minmaxscaled_ext)\n",
    "]\n",
    "\n",
    "options = {\n",
    "    'SVM/C': {\n",
    "        'kernel': ['rbf'],\n",
    "        'C': np.arange(.1, 4.0, .05),\n",
    "        'gamma': np.arange(.1, 2.0, .05)\n",
    "    },\n",
    "    'kNN': {\n",
    "        'n_neighbors': range(2, 15)\n",
    "    }\n",
    "}\n",
    "\n",
    "classifiers = [\n",
    "    ('SVM/C', svm.SVC),\n",
    "    ('kNN', KNeighborsClassifier)\n",
    "]\n",
    "\n",
    "def search(classifiers, options, datasets, test_size, random_state):\n",
    "    results = {\n",
    "        'rank': [],\n",
    "        'classifier': [],\n",
    "        'options': [],\n",
    "        'dataset': [],\n",
    "        'score': []\n",
    "    }\n",
    "\n",
    "    for dataset in datasets:\n",
    "        X_train, X_test, Y_train, Y_test = train_test_split(dataset[1].iloc[:,:-1], dataset[1].iloc[:,-1],\\\n",
    "                                                            test_size=test_size, random_state=random_state)\n",
    "        \n",
    "        for classifier in classifiers:\n",
    "            name = classifier[0]\n",
    "            print 'Testing', dataset[0], 'on', name, '...'\n",
    "\n",
    "            model = GridSearchCV(classifier[1](), options[name], verbose=1, n_jobs=-1, cv=3)\n",
    "            model.fit(X_train, Y_train)\n",
    "            \n",
    "            print 'Params:', model.best_params_\n",
    "            print 'MSE:', model.best_score_\n",
    "            print\n",
    "            \n",
    "            results['rank'].append(0)\n",
    "            results['classifier'].append(name)\n",
    "            results['options'].append(str(model.best_params_))\n",
    "            results['dataset'].append(dataset[0])\n",
    "            results['score'].append(model.best_score_)\n",
    "\n",
    "    return results\n",
    "\n",
    "results = search(classifiers, options, datasets, .20, 0)"
   ]
  },
  {
   "cell_type": "code",
   "execution_count": null,
   "metadata": {},
   "outputs": [],
   "source": [
    "results_df = pd.DataFrame(results).sort_values(['score'], ascending=[False])\n",
    "results_df['rank'] = pd.Series(range(1, len(results_df) + 1), index=results_df.index)\n",
    "results_df[['rank', 'classifier', 'options', 'dataset', 'score']].to_csv('../classifiers/results_20181110151634_20_0.csv', sep=',', encoding='utf-8', index=False)"
   ]
  },
  {
   "cell_type": "markdown",
   "metadata": {},
   "source": [
    "## Confusion Matrix"
   ]
  },
  {
   "cell_type": "code",
   "execution_count": 170,
   "metadata": {},
   "outputs": [
    {
     "name": "stdout",
     "output_type": "stream",
     "text": [
      "('Accuracy', 0.99479166666666663)\n"
     ]
    },
    {
     "data": {
      "image/png": "[encoded data removed]",
      "text/plain": [
       "<Figure size 432x288 with 2 Axes>"
      ]
     },
     "metadata": {
      "needs_background": "light"
     },
     "output_type": "display_data"
    }
   ],
   "source": [
    "from sklearn.metrics import confusion_matrix\n",
    "import itertools\n",
    "\n",
    "best = svm.SVC(kernel='rbf', C=3.65, gamma=0.1)\n",
    "X_train, X_test, Y_train, Y_test = split(scaled_v8, .20)\n",
    "Y_pred = best.fit(X_train, Y_train).predict(X_test)\n",
    "\n",
    "def plot_confusion_matrix(cm, classes):\n",
    "#     print(cm)\n",
    "    plt.imshow(cm, interpolation='nearest', cmap=plt.cm.Greens)\n",
    "    plt.title('Confusion matrix')\n",
    "    plt.colorbar()\n",
    "    tick_marks = np.arange(len(classes))\n",
    "    plt.xticks(tick_marks, classes, rotation=45)\n",
    "    plt.yticks(tick_marks, classes)\n",
    "\n",
    "    fmt = 'd'\n",
    "    thresh = cm.max() / 2.\n",
    "    for i, j in itertools.product(range(cm.shape[0]), range(cm.shape[1])):\n",
    "        plt.text(j, i, format(cm[i, j], fmt),\n",
    "                 horizontalalignment=\"center\",\n",
    "                 color=\"white\" if cm[i, j] > thresh else \"black\")\n",
    "\n",
    "    plt.ylabel('True label')\n",
    "    plt.xlabel('Predicted label')\n",
    "    plt.tight_layout()\n",
    "\n",
    "# Compute confusion matrix\n",
    "cnf_matrix = confusion_matrix(Y_test, Y_pred)\n",
    "np.set_printoptions(precision=2)\n",
    "\n",
    "# Plot non-normalized confusion matrix\n",
    "plt.figure()\n",
    "\n",
    "print('Accuracy', best.score(X_test, Y_test))\n",
    "plot_confusion_matrix(cnf_matrix, classes=range(0,10))\n",
    "\n",
    "plt.show()"
   ]
  },
  {
   "cell_type": "code",
   "execution_count": null,
   "metadata": {},
   "outputs": [],
   "source": []
  }
 ],
 "metadata": {
  "kernelspec": {
   "display_name": "Python 2",
   "language": "python",
   "name": "python2"
  },
  "language_info": {
   "codemirror_mode": {
    "name": "ipython",
    "version": 2
   },
   "file_extension": ".py",
   "mimetype": "text/x-python",
   "name": "python",
   "nbconvert_exporter": "python",
   "pygments_lexer": "ipython2",
   "version": "2.7.12"
  }
 },
 "nbformat": 4,
 "nbformat_minor": 2
}
