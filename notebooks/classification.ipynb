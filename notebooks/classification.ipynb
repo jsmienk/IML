{
 "cells": [
  {
   "cell_type": "markdown",
   "metadata": {},
   "source": [
    "# Classification"
   ]
  },
  {
   "cell_type": "markdown",
   "metadata": {},
   "source": [
    "Classifier | Dataset | Score | Rank\n",
    "--- | --- | --- | ---\n",
    "SVM/C | Cleaned+MinMaxScaled | `0.968750000000` | 1\n",
    "RandomForest | Cleaned+MinMaxScaled | `0.942708333333` | 2\n",
    "RandomForest | Cleaned | `0.942708333333` | 2\n",
    "SVM/C | Cleaned | `0.942708333333` | 2\n",
    "RandomForest | Full | `0.937500000000` | 5\n",
    "SVM/C | Full | `0.932291666667` | 6\n",
    "\n",
    "Notes:\n",
    "\n",
    "- RandomForest with `n_estimators=50`, `oob_score=True` and `random_state=123456`.\n",
    "- SVM/C with `kernel=linear`, `C=2.2`."
   ]
  },
  {
   "cell_type": "code",
   "execution_count": 1,
   "metadata": {},
   "outputs": [],
   "source": [
    "# IMPORTS AND NOTEBOOK SETUP\n",
    "import matplotlib\n",
    "import matplotlib.pyplot as plt\n",
    "import numpy as np\n",
    "import pandas as pd"
   ]
  },
  {
   "cell_type": "code",
   "execution_count": 2,
   "metadata": {},
   "outputs": [
    {
     "data": {
      "text/html": [
       "<div>\n",
       "<table border=\"1\" class=\"dataframe\">\n",
       "  <thead>\n",
       "    <tr style=\"text-align: right;\">\n",
       "      <th></th>\n",
       "      <th>area</th>\n",
       "      <th>contours</th>\n",
       "      <th>radius</th>\n",
       "      <th>hull_radius</th>\n",
       "      <th>centroid_x</th>\n",
       "      <th>centroid_y</th>\n",
       "      <th>weight_0_0</th>\n",
       "      <th>weight_0_1</th>\n",
       "      <th>weight_0_2</th>\n",
       "      <th>weight_0_3</th>\n",
       "      <th>...</th>\n",
       "      <th>weight_2_0</th>\n",
       "      <th>weight_2_1</th>\n",
       "      <th>weight_2_2</th>\n",
       "      <th>weight_2_3</th>\n",
       "      <th>weight_3_0</th>\n",
       "      <th>weight_3_1</th>\n",
       "      <th>weight_3_2</th>\n",
       "      <th>weight_3_3</th>\n",
       "      <th>num_holes</th>\n",
       "      <th>label</th>\n",
       "    </tr>\n",
       "  </thead>\n",
       "  <tbody>\n",
       "    <tr>\n",
       "      <th>0</th>\n",
       "      <td>288.0</td>\n",
       "      <td>36</td>\n",
       "      <td>11.535813</td>\n",
       "      <td>12.633042</td>\n",
       "      <td>14.199074</td>\n",
       "      <td>19.315972</td>\n",
       "      <td>0</td>\n",
       "      <td>38</td>\n",
       "      <td>0</td>\n",
       "      <td>0</td>\n",
       "      <td>...</td>\n",
       "      <td>13</td>\n",
       "      <td>55</td>\n",
       "      <td>54</td>\n",
       "      <td>6</td>\n",
       "      <td>1</td>\n",
       "      <td>46</td>\n",
       "      <td>45</td>\n",
       "      <td>5</td>\n",
       "      <td>1</td>\n",
       "      <td>6</td>\n",
       "    </tr>\n",
       "    <tr>\n",
       "      <th>1</th>\n",
       "      <td>348.5</td>\n",
       "      <td>39</td>\n",
       "      <td>10.709997</td>\n",
       "      <td>13.732948</td>\n",
       "      <td>15.272119</td>\n",
       "      <td>14.962219</td>\n",
       "      <td>3</td>\n",
       "      <td>38</td>\n",
       "      <td>51</td>\n",
       "      <td>2</td>\n",
       "      <td>...</td>\n",
       "      <td>0</td>\n",
       "      <td>38</td>\n",
       "      <td>34</td>\n",
       "      <td>0</td>\n",
       "      <td>0</td>\n",
       "      <td>36</td>\n",
       "      <td>45</td>\n",
       "      <td>0</td>\n",
       "      <td>2</td>\n",
       "      <td>8</td>\n",
       "    </tr>\n",
       "    <tr>\n",
       "      <th>2</th>\n",
       "      <td>345.0</td>\n",
       "      <td>48</td>\n",
       "      <td>11.186796</td>\n",
       "      <td>14.444992</td>\n",
       "      <td>14.761353</td>\n",
       "      <td>15.188406</td>\n",
       "      <td>0</td>\n",
       "      <td>33</td>\n",
       "      <td>56</td>\n",
       "      <td>14</td>\n",
       "      <td>...</td>\n",
       "      <td>15</td>\n",
       "      <td>64</td>\n",
       "      <td>29</td>\n",
       "      <td>0</td>\n",
       "      <td>13</td>\n",
       "      <td>61</td>\n",
       "      <td>26</td>\n",
       "      <td>0</td>\n",
       "      <td>0</td>\n",
       "      <td>1</td>\n",
       "    </tr>\n",
       "    <tr>\n",
       "      <th>3</th>\n",
       "      <td>243.0</td>\n",
       "      <td>42</td>\n",
       "      <td>10.376487</td>\n",
       "      <td>12.915362</td>\n",
       "      <td>18.580247</td>\n",
       "      <td>10.787380</td>\n",
       "      <td>0</td>\n",
       "      <td>37</td>\n",
       "      <td>64</td>\n",
       "      <td>30</td>\n",
       "      <td>...</td>\n",
       "      <td>0</td>\n",
       "      <td>1</td>\n",
       "      <td>39</td>\n",
       "      <td>0</td>\n",
       "      <td>0</td>\n",
       "      <td>20</td>\n",
       "      <td>20</td>\n",
       "      <td>0</td>\n",
       "      <td>0</td>\n",
       "      <td>9</td>\n",
       "    </tr>\n",
       "    <tr>\n",
       "      <th>4</th>\n",
       "      <td>213.0</td>\n",
       "      <td>48</td>\n",
       "      <td>9.848953</td>\n",
       "      <td>13.695002</td>\n",
       "      <td>16.989828</td>\n",
       "      <td>15.674491</td>\n",
       "      <td>7</td>\n",
       "      <td>47</td>\n",
       "      <td>28</td>\n",
       "      <td>0</td>\n",
       "      <td>...</td>\n",
       "      <td>0</td>\n",
       "      <td>10</td>\n",
       "      <td>36</td>\n",
       "      <td>13</td>\n",
       "      <td>0</td>\n",
       "      <td>37</td>\n",
       "      <td>50</td>\n",
       "      <td>6</td>\n",
       "      <td>0</td>\n",
       "      <td>3</td>\n",
       "    </tr>\n",
       "  </tbody>\n",
       "</table>\n",
       "<p>5 rows × 24 columns</p>\n",
       "</div>"
      ],
      "text/plain": [
       "    area  contours     radius  hull_radius  centroid_x  centroid_y  \\\n",
       "0  288.0        36  11.535813    12.633042   14.199074   19.315972   \n",
       "1  348.5        39  10.709997    13.732948   15.272119   14.962219   \n",
       "2  345.0        48  11.186796    14.444992   14.761353   15.188406   \n",
       "3  243.0        42  10.376487    12.915362   18.580247   10.787380   \n",
       "4  213.0        48   9.848953    13.695002   16.989828   15.674491   \n",
       "\n",
       "   weight_0_0  weight_0_1  weight_0_2  weight_0_3  ...    weight_2_0  \\\n",
       "0           0          38           0           0  ...            13   \n",
       "1           3          38          51           2  ...             0   \n",
       "2           0          33          56          14  ...            15   \n",
       "3           0          37          64          30  ...             0   \n",
       "4           7          47          28           0  ...             0   \n",
       "\n",
       "   weight_2_1  weight_2_2  weight_2_3  weight_3_0  weight_3_1  weight_3_2  \\\n",
       "0          55          54           6           1          46          45   \n",
       "1          38          34           0           0          36          45   \n",
       "2          64          29           0          13          61          26   \n",
       "3           1          39           0           0          20          20   \n",
       "4          10          36          13           0          37          50   \n",
       "\n",
       "   weight_3_3  num_holes  label  \n",
       "0           5          1      6  \n",
       "1           0          2      8  \n",
       "2           0          0      1  \n",
       "3           0          0      9  \n",
       "4           6          0      3  \n",
       "\n",
       "[5 rows x 24 columns]"
      ]
     },
     "execution_count": 2,
     "metadata": {},
     "output_type": "execute_result"
    }
   ],
   "source": [
    "# IMPORTING OUR DATASET\n",
    "data_full         = pd.read_csv('../dataset-numpy/dataset.csv')\n",
    "data_clean_manual = pd.read_csv('../dataset-numpy/dataset-clean-manual.csv')\n",
    "data_clean_manual[:5]"
   ]
  },
  {
   "cell_type": "markdown",
   "metadata": {},
   "source": [
    "## Normalization"
   ]
  },
  {
   "cell_type": "code",
   "execution_count": 3,
   "metadata": {},
   "outputs": [],
   "source": [
    "columns = ['area', 'radius', 'hull_radius', 'centroid_x', 'centroid_y']\n",
    "for x in range(4):\n",
    "    for y in range(4):\n",
    "        columns.append('_'.join(['weight', str(x), str(y)]))\n",
    "        \n",
    "def scale(scaler):\n",
    "    return pd.DataFrame(scaler.fit_transform(data_clean_manual[columns]), columns=columns)"
   ]
  },
  {
   "cell_type": "markdown",
   "metadata": {},
   "source": [
    "### MinMaxScaler"
   ]
  },
  {
   "cell_type": "code",
   "execution_count": 4,
   "metadata": {},
   "outputs": [],
   "source": [
    "from sklearn.preprocessing import MinMaxScaler\n",
    "\n",
    "minmaxscaled = data_clean_manual.copy()\n",
    "minmaxscaled[columns] = scale(MinMaxScaler())"
   ]
  },
  {
   "cell_type": "markdown",
   "metadata": {},
   "source": [
    "### ?? Scaler"
   ]
  },
  {
   "cell_type": "markdown",
   "metadata": {},
   "source": [
    "## Splitting the dataset"
   ]
  },
  {
   "cell_type": "code",
   "execution_count": 5,
   "metadata": {},
   "outputs": [],
   "source": [
    "def split_data(data, split):\n",
    "    border = int(len(data) * split)\n",
    "    train_data = data[:border]\n",
    "    test_data = data[border:]\n",
    "\n",
    "    assert len(train_data) + len(test_data) == len(data), \"Invalid split!\"\n",
    "\n",
    "    X_train = train_data.iloc[:,:-1]\n",
    "    Y_train = train_data.iloc[:,-1]\n",
    "\n",
    "    X_test = test_data.iloc[:,:-1]\n",
    "    Y_test = test_data.iloc[:,-1]\n",
    "    return X_train, Y_train, X_test, Y_test\n",
    "\n",
    "X_train, Y_train, X_test, Y_test = split_data(minmaxscaled, .9)"
   ]
  },
  {
   "cell_type": "markdown",
   "metadata": {},
   "source": [
    "## Try Random Forest Classifier"
   ]
  },
  {
   "cell_type": "code",
   "execution_count": 6,
   "metadata": {},
   "outputs": [
    {
     "name": "stdout",
     "output_type": "stream",
     "text": [
      "Score: 0.942708333333\n"
     ]
    }
   ],
   "source": [
    "# RANDOM FOREST\n",
    "from sklearn.ensemble import RandomForestClassifier\n",
    "\n",
    "rf = RandomForestClassifier(n_estimators=50, oob_score=True, random_state=123456)\n",
    "rf.fit(X_train, Y_train)\n",
    "\n",
    "print 'Score:', rf.score(X_test, Y_test)"
   ]
  },
  {
   "cell_type": "markdown",
   "metadata": {},
   "source": [
    "## Try Support Vector Machine"
   ]
  },
  {
   "cell_type": "code",
   "execution_count": 7,
   "metadata": {},
   "outputs": [
    {
     "name": "stdout",
     "output_type": "stream",
     "text": [
      "Score: 0.96875\n"
     ]
    }
   ],
   "source": [
    "# SVM\n",
    "from sklearn import svm\n",
    "\n",
    "svc = svm.SVC(kernel='linear', C=2.2)\n",
    "svc.fit(X_train, Y_train)\n",
    "print 'Score:', svc.score(X_test, Y_test)"
   ]
  },
  {
   "cell_type": "markdown",
   "metadata": {},
   "source": [
    "### Finding the optimal C value"
   ]
  },
  {
   "cell_type": "code",
   "execution_count": null,
   "metadata": {},
   "outputs": [],
   "source": [
    "Cs = np.arange(1, 3, 0.01)\n",
    "scores = np.zeros((len(Cs)))\n",
    "index = 0\n",
    "for c in Cs:\n",
    "    svc = svm.SVC(kernel='linear', C=c)\n",
    "    svc.fit(X_train, Y_train)\n",
    "    score = svc.score(X_test, Y_test)\n",
    "    scores[index] = score\n",
    "    index += 1"
   ]
  },
  {
   "cell_type": "code",
   "execution_count": null,
   "metadata": {},
   "outputs": [],
   "source": [
    "print 'Max:', scores.max()\n",
    "plt.plot(Cs, scores)"
   ]
  },
  {
   "cell_type": "code",
   "execution_count": null,
   "metadata": {},
   "outputs": [],
   "source": []
  }
 ],
 "metadata": {
  "kernelspec": {
   "display_name": "Python 2",
   "language": "python",
   "name": "python2"
  },
  "language_info": {
   "codemirror_mode": {
    "name": "ipython",
    "version": 2
   },
   "file_extension": ".py",
   "mimetype": "text/x-python",
   "name": "python",
   "nbconvert_exporter": "python",
   "pygments_lexer": "ipython2",
   "version": "2.7.12"
  }
 },
 "nbformat": 4,
 "nbformat_minor": 2
}
