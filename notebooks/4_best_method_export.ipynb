{
 "cells": [
  {
   "cell_type": "markdown",
   "metadata": {},
   "source": [
    "# Introduction to Machine Learning - The Final Model\n",
    "\n",
    "#### By Jeroen Smienk & Marnick van der Arend\n",
    "\n",
    "Here we import the best dataset, use the best normalizer, train the best classifier with the best options and export the classifier and normalizer."
   ]
  },
  {
   "cell_type": "code",
   "execution_count": 1,
   "metadata": {},
   "outputs": [],
   "source": [
    "# IMPORTS AND NOTEBOOK SETUP\n",
    "import matplotlib\n",
    "import matplotlib.pyplot as plt\n",
    "import numpy as np\n",
    "import pandas as pd"
   ]
  },
  {
   "cell_type": "code",
   "execution_count": 2,
   "metadata": {},
   "outputs": [
    {
     "data": {
      "text/plain": [
       "Index([u'area', u'width', u'contours', u'radius', u'circle_dist', u'rect_dist',\n",
       "       u'hull_radius', u'aspect_ratio', u'centroid_x', u'centroid_y',\n",
       "       u'corners', u'circles', u'angle', u'weight_0_0', u'weight_0_1',\n",
       "       u'weight_0_2', u'weight_0_3', u'weight_0_4', u'weight_0_5',\n",
       "       u'weight_0_6', u'weight_0_7', u'weight_1_0', u'weight_1_1',\n",
       "       u'weight_1_2', u'weight_1_3', u'weight_1_4', u'weight_1_5',\n",
       "       u'weight_1_6', u'weight_1_7', u'weight_2_0', u'weight_2_1',\n",
       "       u'weight_2_2', u'weight_2_3', u'weight_2_4', u'weight_2_5',\n",
       "       u'weight_2_6', u'weight_2_7', u'weight_3_0', u'weight_3_1',\n",
       "       u'weight_3_2', u'weight_3_3', u'weight_3_4', u'weight_3_5',\n",
       "       u'weight_3_6', u'weight_3_7', u'weight_4_0', u'weight_4_1',\n",
       "       u'weight_4_2', u'weight_4_3', u'weight_4_4', u'weight_4_5',\n",
       "       u'weight_4_6', u'weight_4_7', u'weight_5_0', u'weight_5_1',\n",
       "       u'weight_5_2', u'weight_5_3', u'weight_5_4', u'weight_5_5',\n",
       "       u'weight_5_6', u'weight_5_7', u'weight_6_0', u'weight_6_1',\n",
       "       u'weight_6_2', u'weight_6_3', u'weight_6_4', u'weight_6_5',\n",
       "       u'weight_6_6', u'weight_6_7', u'weight_7_0', u'weight_7_1',\n",
       "       u'weight_7_2', u'weight_7_3', u'weight_7_4', u'weight_7_5',\n",
       "       u'weight_7_6', u'weight_7_7', u'num_holes', u'label'],\n",
       "      dtype='object')"
      ]
     },
     "execution_count": 2,
     "metadata": {},
     "output_type": "execute_result"
    }
   ],
   "source": [
    "# Importing the dataset\n",
    "data = pd.read_csv('../dataset-numpy/dataset-v8.csv')\n",
    "data.columns"
   ]
  },
  {
   "cell_type": "markdown",
   "metadata": {},
   "source": [
    "## Normalization\n",
    "\n",
    "We normalize everything but the number of holes and the label."
   ]
  },
  {
   "cell_type": "code",
   "execution_count": 3,
   "metadata": {},
   "outputs": [],
   "source": [
    "# Normalization\n",
    "columns = data.columns.values\n",
    "\n",
    "columns_to_not_normalize = ['label']\n",
    "columns_to_normalize = [c for c in columns if not c in columns_to_not_normalize]\n",
    "\n",
    "# MinMaxScaler\n",
    "from sklearn.preprocessing import MinMaxScaler\n",
    "\n",
    "scaler = MinMaxScaler()\n",
    "data[columns_to_normalize] = pd.DataFrame(scaler.fit_transform(data[columns_to_normalize]), columns=columns_to_normalize)"
   ]
  },
  {
   "cell_type": "markdown",
   "metadata": {},
   "source": [
    "## Training the classifier\n",
    "\n",
    "The SVM/C classifier with `C=3.75, gamma=0.1` proved to be most successful."
   ]
  },
  {
   "cell_type": "code",
   "execution_count": 4,
   "metadata": {},
   "outputs": [
    {
     "data": {
      "text/plain": [
       "SVC(C=3.75, cache_size=200, class_weight=None, coef0=0.0,\n",
       "  decision_function_shape='ovr', degree=3, gamma=0.1, kernel='rbf',\n",
       "  max_iter=-1, probability=False, random_state=None, shrinking=True,\n",
       "  tol=0.001, verbose=False)"
      ]
     },
     "execution_count": 4,
     "metadata": {},
     "output_type": "execute_result"
    }
   ],
   "source": [
    "# SVM\n",
    "from sklearn import svm\n",
    "from sklearn.decomposition import PCA\n",
    "\n",
    "# Splitting our data\n",
    "X_train, Y_train = data.iloc[:,:-1], data.iloc[:,-1]\n",
    "\n",
    "classifier = svm.SVC(kernel='rbf', C=3.75, gamma=0.1)\n",
    "classifier.fit(X_train, Y_train)"
   ]
  },
  {
   "cell_type": "markdown",
   "metadata": {},
   "source": [
    "## Exporting\n"
   ]
  },
  {
   "cell_type": "code",
   "execution_count": 5,
   "metadata": {},
   "outputs": [
    {
     "data": {
      "text/plain": [
       "['../classifiers/classifier_svm_v8.joblib']"
      ]
     },
     "execution_count": 5,
     "metadata": {},
     "output_type": "execute_result"
    }
   ],
   "source": [
    "# Exporting the scaler and classifier\n",
    "from sklearn.externals import joblib\n",
    "\n",
    "joblib.dump(scaler, '../classifiers/scaler_svm_v8.joblib') \n",
    "joblib.dump(classifier, '../classifiers/classifier_svm_v8.joblib') "
   ]
  }
 ],
 "metadata": {
  "kernelspec": {
   "display_name": "Python 2",
   "language": "python",
   "name": "python2"
  },
  "language_info": {
   "codemirror_mode": {
    "name": "ipython",
    "version": 2
   },
   "file_extension": ".py",
   "mimetype": "text/x-python",
   "name": "python",
   "nbconvert_exporter": "python",
   "pygments_lexer": "ipython2",
   "version": "2.7.12"
  }
 },
 "nbformat": 4,
 "nbformat_minor": 2
}
